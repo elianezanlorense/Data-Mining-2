{
  "nbformat": 4,
  "nbformat_minor": 0,
  "metadata": {
    "kernelspec": {
      "display_name": "Python 3",
      "language": "python",
      "name": "python3"
    },
    "language_info": {
      "codemirror_mode": {
        "name": "ipython",
        "version": 3
      },
      "file_extension": ".py",
      "mimetype": "text/x-python",
      "name": "python",
      "nbconvert_exporter": "python",
      "pygments_lexer": "ipython3",
      "version": "3.7.7"
    },
    "toc": {
      "base_numbering": 1,
      "nav_menu": {},
      "number_sections": true,
      "sideBar": true,
      "skip_h1_title": false,
      "title_cell": "Table of Contents",
      "title_sidebar": "Contents",
      "toc_cell": false,
      "toc_position": {},
      "toc_section_display": true,
      "toc_window_display": false
    },
    "colab": {
      "name": "Transfer Services Demand Forecast.ipynb",
      "provenance": [],
      "include_colab_link": true
    }
  },
  "cells": [
    {
      "cell_type": "markdown",
      "metadata": {
        "id": "view-in-github",
        "colab_type": "text"
      },
      "source": [
        "<a href=\"https://colab.research.google.com/github/elianezanlorense/Data-Mining-2/blob/master/Transfer_Services_Demand_Forecast.ipynb\" target=\"_parent\"><img src=\"https://colab.research.google.com/assets/colab-badge.svg\" alt=\"Open In Colab\"/></a>"
      ]
    },
    {
      "cell_type": "markdown",
      "metadata": {
        "id": "zjD9sW2xRJ6k",
        "colab_type": "text"
      },
      "source": [
        "### Packages loading"
      ]
    },
    {
      "cell_type": "code",
      "metadata": {
        "id": "TvCzA6XiRhTJ",
        "colab_type": "code",
        "colab": {
          "base_uri": "https://localhost:8080/",
          "height": 34
        },
        "outputId": "25c2ffe6-3065-4dee-8195-dea11d17ae69"
      },
      "source": [
        "# Load the Drive helper and mount\n",
        "from google.colab import drive\n",
        "drive.mount('/content/drive')"
      ],
      "execution_count": 9,
      "outputs": [
        {
          "output_type": "stream",
          "text": [
            "Drive already mounted at /content/drive; to attempt to forcibly remount, call drive.mount(\"/content/drive\", force_remount=True).\n"
          ],
          "name": "stdout"
        }
      ]
    },
    {
      "cell_type": "code",
      "metadata": {
        "id": "dMzaJ3H6RJ6l",
        "colab_type": "code",
        "colab": {}
      },
      "source": [
        "# Import packages\n",
        "import csv\n",
        "import pandas as pd\n",
        "import numpy as np\n",
        "import datetime as dt\n",
        "import matplotlib.pyplot as plt\n",
        "import networkx as nx\n",
        "import seaborn as sns\n",
        "import warnings\n",
        "warnings.filterwarnings('ignore')\n",
        "import re\n",
        "from sklearn.metrics import accuracy_score, auc, classification_report, confusion_matrix, roc_curve\n",
        "from sklearn.model_selection import cross_val_score, GridSearchCV, train_test_split\n",
        "from sklearn.preprocessing import LabelEncoder\n",
        "from sklearn.utils import resample"
      ],
      "execution_count": 0,
      "outputs": []
    },
    {
      "cell_type": "code",
      "metadata": {
        "id": "AjZgati5RJ6s",
        "colab_type": "code",
        "colab": {}
      },
      "source": [
        "# Summary statistics for all variables\n",
        "def summary(dataframe):\n",
        "    summary=dataframe.describe(include='all') \n",
        "    summary=summary.transpose()\n",
        "    return summary.head(len(summary))"
      ],
      "execution_count": 0,
      "outputs": []
    },
    {
      "cell_type": "markdown",
      "metadata": {
        "id": "629cffBFRJ6x",
        "colab_type": "text"
      },
      "source": [
        "## Customers"
      ]
    },
    {
      "cell_type": "code",
      "metadata": {
        "id": "eW-GsaADRJ6x",
        "colab_type": "code",
        "colab": {
          "base_uri": "https://localhost:8080/",
          "height": 419
        },
        "outputId": "3089dfaa-861d-4b12-b6ff-f847f8982243"
      },
      "source": [
        "# Load and show dataset info \n",
        "df_customers = pd.DataFrame(pd.read_csv(\"/content/drive/My Drive/Business/06 - Case Services Demand Forecasting-20200501/YFT_Customers.csv\", sep=\";\"))\n",
        "df_customers"
      ],
      "execution_count": 11,
      "outputs": [
        {
          "output_type": "execute_result",
          "data": {
            "text/html": [
              "<div>\n",
              "<style scoped>\n",
              "    .dataframe tbody tr th:only-of-type {\n",
              "        vertical-align: middle;\n",
              "    }\n",
              "\n",
              "    .dataframe tbody tr th {\n",
              "        vertical-align: top;\n",
              "    }\n",
              "\n",
              "    .dataframe thead th {\n",
              "        text-align: right;\n",
              "    }\n",
              "</style>\n",
              "<table border=\"1\" class=\"dataframe\">\n",
              "  <thead>\n",
              "    <tr style=\"text-align: right;\">\n",
              "      <th></th>\n",
              "      <th>customerID</th>\n",
              "      <th>countryID</th>\n",
              "      <th>subscribeNewsletter</th>\n",
              "      <th>loyaltyCard</th>\n",
              "      <th>services</th>\n",
              "      <th>active</th>\n",
              "    </tr>\n",
              "  </thead>\n",
              "  <tbody>\n",
              "    <tr>\n",
              "      <th>0</th>\n",
              "      <td>0</td>\n",
              "      <td>44</td>\n",
              "      <td>0</td>\n",
              "      <td>0</td>\n",
              "      <td>0</td>\n",
              "      <td>1</td>\n",
              "    </tr>\n",
              "    <tr>\n",
              "      <th>1</th>\n",
              "      <td>1</td>\n",
              "      <td>44</td>\n",
              "      <td>0</td>\n",
              "      <td>33</td>\n",
              "      <td>3</td>\n",
              "      <td>1</td>\n",
              "    </tr>\n",
              "    <tr>\n",
              "      <th>2</th>\n",
              "      <td>3</td>\n",
              "      <td>44</td>\n",
              "      <td>0</td>\n",
              "      <td>1</td>\n",
              "      <td>0</td>\n",
              "      <td>1</td>\n",
              "    </tr>\n",
              "    <tr>\n",
              "      <th>3</th>\n",
              "      <td>4</td>\n",
              "      <td>44</td>\n",
              "      <td>0</td>\n",
              "      <td>1</td>\n",
              "      <td>0</td>\n",
              "      <td>1</td>\n",
              "    </tr>\n",
              "    <tr>\n",
              "      <th>4</th>\n",
              "      <td>5</td>\n",
              "      <td>44</td>\n",
              "      <td>0</td>\n",
              "      <td>1</td>\n",
              "      <td>0</td>\n",
              "      <td>1</td>\n",
              "    </tr>\n",
              "    <tr>\n",
              "      <th>...</th>\n",
              "      <td>...</td>\n",
              "      <td>...</td>\n",
              "      <td>...</td>\n",
              "      <td>...</td>\n",
              "      <td>...</td>\n",
              "      <td>...</td>\n",
              "    </tr>\n",
              "    <tr>\n",
              "      <th>163878</th>\n",
              "      <td>219062</td>\n",
              "      <td>44</td>\n",
              "      <td>0</td>\n",
              "      <td>0</td>\n",
              "      <td>0</td>\n",
              "      <td>1</td>\n",
              "    </tr>\n",
              "    <tr>\n",
              "      <th>163879</th>\n",
              "      <td>219063</td>\n",
              "      <td>44</td>\n",
              "      <td>0</td>\n",
              "      <td>0</td>\n",
              "      <td>0</td>\n",
              "      <td>1</td>\n",
              "    </tr>\n",
              "    <tr>\n",
              "      <th>163880</th>\n",
              "      <td>219064</td>\n",
              "      <td>44</td>\n",
              "      <td>1</td>\n",
              "      <td>0</td>\n",
              "      <td>0</td>\n",
              "      <td>1</td>\n",
              "    </tr>\n",
              "    <tr>\n",
              "      <th>163881</th>\n",
              "      <td>219065</td>\n",
              "      <td>43</td>\n",
              "      <td>0</td>\n",
              "      <td>0</td>\n",
              "      <td>0</td>\n",
              "      <td>1</td>\n",
              "    </tr>\n",
              "    <tr>\n",
              "      <th>163882</th>\n",
              "      <td>219066</td>\n",
              "      <td>44</td>\n",
              "      <td>0</td>\n",
              "      <td>0</td>\n",
              "      <td>0</td>\n",
              "      <td>1</td>\n",
              "    </tr>\n",
              "  </tbody>\n",
              "</table>\n",
              "<p>163883 rows × 6 columns</p>\n",
              "</div>"
            ],
            "text/plain": [
              "        customerID  countryID  ...  services  active\n",
              "0                0         44  ...         0       1\n",
              "1                1         44  ...         3       1\n",
              "2                3         44  ...         0       1\n",
              "3                4         44  ...         0       1\n",
              "4                5         44  ...         0       1\n",
              "...            ...        ...  ...       ...     ...\n",
              "163878      219062         44  ...         0       1\n",
              "163879      219063         44  ...         0       1\n",
              "163880      219064         44  ...         0       1\n",
              "163881      219065         43  ...         0       1\n",
              "163882      219066         44  ...         0       1\n",
              "\n",
              "[163883 rows x 6 columns]"
            ]
          },
          "metadata": {
            "tags": []
          },
          "execution_count": 11
        }
      ]
    },
    {
      "cell_type": "code",
      "metadata": {
        "id": "3MDBx82eRJ61",
        "colab_type": "code",
        "colab": {}
      },
      "source": [
        "df_customers=df_customers.rename(columns={\"id\": \"customerID\"})\n",
        "df_customers=df_customers.rename(columns={\"pais_id\": \"countryID\"})\n",
        "df_customers=df_customers.rename(columns={\"newsletter\": \"subscribeNewsletter\"})\n",
        "df_customers=df_customers.rename(columns={\"loyaltycard\": \"loyaltyCard\"})\n",
        "df_customers=df_customers.rename(columns={\"viagens\": \"services\"})\n",
        "df_customers=df_customers.rename(columns={\"activo\": \"active\"})\n"
      ],
      "execution_count": 0,
      "outputs": []
    },
    {
      "cell_type": "markdown",
      "metadata": {
        "id": "nHz0b8DiRJ64",
        "colab_type": "text"
      },
      "source": [
        "### Dataset description\n",
        "\n",
        "- **customerID**: customer ID\n",
        "- **countryID**: in the format of the international phone dialing code\n",
        "- **subscribeNewsletter**: indication if customer subscribed to YFT newsletter (0:No, 1:Yes)\n",
        "- **loyaltyCard**:  points accumulated on loyalty card\n",
        "- **services**:   total services provided to the customer so far\n",
        "- **active**: indication if customer is still active (0:No, 1:Yes)"
      ]
    },
    {
      "cell_type": "markdown",
      "metadata": {
        "id": "Fg_gMuPyRJ64",
        "colab_type": "text"
      },
      "source": [
        "### Data Understanding"
      ]
    },
    {
      "cell_type": "code",
      "metadata": {
        "id": "C-tIMIelRJ65",
        "colab_type": "code",
        "colab": {
          "base_uri": "https://localhost:8080/",
          "height": 235
        },
        "outputId": "d4961355-9c69-41e0-b01a-709630c82b1b"
      },
      "source": [
        "# Summary statistics for all variables\n",
        "summary(df_customers)"
      ],
      "execution_count": 13,
      "outputs": [
        {
          "output_type": "execute_result",
          "data": {
            "text/html": [
              "<div>\n",
              "<style scoped>\n",
              "    .dataframe tbody tr th:only-of-type {\n",
              "        vertical-align: middle;\n",
              "    }\n",
              "\n",
              "    .dataframe tbody tr th {\n",
              "        vertical-align: top;\n",
              "    }\n",
              "\n",
              "    .dataframe thead th {\n",
              "        text-align: right;\n",
              "    }\n",
              "</style>\n",
              "<table border=\"1\" class=\"dataframe\">\n",
              "  <thead>\n",
              "    <tr style=\"text-align: right;\">\n",
              "      <th></th>\n",
              "      <th>count</th>\n",
              "      <th>mean</th>\n",
              "      <th>std</th>\n",
              "      <th>min</th>\n",
              "      <th>25%</th>\n",
              "      <th>50%</th>\n",
              "      <th>75%</th>\n",
              "      <th>max</th>\n",
              "    </tr>\n",
              "  </thead>\n",
              "  <tbody>\n",
              "    <tr>\n",
              "      <th>customerID</th>\n",
              "      <td>163883.0</td>\n",
              "      <td>118328.097991</td>\n",
              "      <td>68439.491583</td>\n",
              "      <td>0.0</td>\n",
              "      <td>53902.0</td>\n",
              "      <td>135931.0</td>\n",
              "      <td>177917.5</td>\n",
              "      <td>219066.0</td>\n",
              "    </tr>\n",
              "    <tr>\n",
              "      <th>countryID</th>\n",
              "      <td>163883.0</td>\n",
              "      <td>366.848673</td>\n",
              "      <td>1524.554186</td>\n",
              "      <td>0.0</td>\n",
              "      <td>44.0</td>\n",
              "      <td>44.0</td>\n",
              "      <td>353.0</td>\n",
              "      <td>9999.0</td>\n",
              "    </tr>\n",
              "    <tr>\n",
              "      <th>subscribeNewsletter</th>\n",
              "      <td>163883.0</td>\n",
              "      <td>0.129556</td>\n",
              "      <td>0.335815</td>\n",
              "      <td>0.0</td>\n",
              "      <td>0.0</td>\n",
              "      <td>0.0</td>\n",
              "      <td>0.0</td>\n",
              "      <td>1.0</td>\n",
              "    </tr>\n",
              "    <tr>\n",
              "      <th>loyaltyCard</th>\n",
              "      <td>163883.0</td>\n",
              "      <td>2.356602</td>\n",
              "      <td>5.008985</td>\n",
              "      <td>-14.0</td>\n",
              "      <td>0.0</td>\n",
              "      <td>2.0</td>\n",
              "      <td>2.0</td>\n",
              "      <td>241.0</td>\n",
              "    </tr>\n",
              "    <tr>\n",
              "      <th>services</th>\n",
              "      <td>163883.0</td>\n",
              "      <td>0.057480</td>\n",
              "      <td>0.440035</td>\n",
              "      <td>-2.0</td>\n",
              "      <td>0.0</td>\n",
              "      <td>0.0</td>\n",
              "      <td>0.0</td>\n",
              "      <td>24.0</td>\n",
              "    </tr>\n",
              "    <tr>\n",
              "      <th>active</th>\n",
              "      <td>163883.0</td>\n",
              "      <td>0.999750</td>\n",
              "      <td>0.016196</td>\n",
              "      <td>-1.0</td>\n",
              "      <td>1.0</td>\n",
              "      <td>1.0</td>\n",
              "      <td>1.0</td>\n",
              "      <td>1.0</td>\n",
              "    </tr>\n",
              "  </tbody>\n",
              "</table>\n",
              "</div>"
            ],
            "text/plain": [
              "                        count           mean  ...       75%       max\n",
              "customerID           163883.0  118328.097991  ...  177917.5  219066.0\n",
              "countryID            163883.0     366.848673  ...     353.0    9999.0\n",
              "subscribeNewsletter  163883.0       0.129556  ...       0.0       1.0\n",
              "loyaltyCard          163883.0       2.356602  ...       2.0     241.0\n",
              "services             163883.0       0.057480  ...       0.0      24.0\n",
              "active               163883.0       0.999750  ...       1.0       1.0\n",
              "\n",
              "[6 rows x 8 columns]"
            ]
          },
          "metadata": {
            "tags": []
          },
          "execution_count": 13
        }
      ]
    },
    {
      "cell_type": "code",
      "metadata": {
        "scrolled": true,
        "id": "lJLqcUWrRJ67",
        "colab_type": "code",
        "colab": {
          "base_uri": "https://localhost:8080/",
          "height": 136
        },
        "outputId": "0836f87b-1b11-456a-d1d8-a1b4fc292b25"
      },
      "source": [
        "# Check missing values\n",
        "print(df_customers.isnull().sum())"
      ],
      "execution_count": 14,
      "outputs": [
        {
          "output_type": "stream",
          "text": [
            "customerID             0\n",
            "countryID              0\n",
            "subscribeNewsletter    0\n",
            "loyaltyCard            0\n",
            "services               0\n",
            "active                 0\n",
            "dtype: int64\n"
          ],
          "name": "stdout"
        }
      ]
    },
    {
      "cell_type": "code",
      "metadata": {
        "id": "-KRgeDCMRJ68",
        "colab_type": "code",
        "colab": {
          "base_uri": "https://localhost:8080/",
          "height": 34
        },
        "outputId": "652ca49d-d64d-4f1d-8323-c1617130bacd"
      },
      "source": [
        "df_customers.customerID.unique()"
      ],
      "execution_count": 16,
      "outputs": [
        {
          "output_type": "execute_result",
          "data": {
            "text/plain": [
              "array([     0,      1,      3, ..., 219064, 219065, 219066])"
            ]
          },
          "metadata": {
            "tags": []
          },
          "execution_count": 16
        }
      ]
    },
    {
      "cell_type": "code",
      "metadata": {
        "id": "W-aDO-5ARJ6-",
        "colab_type": "code",
        "colab": {
          "base_uri": "https://localhost:8080/",
          "height": 187
        },
        "outputId": "68438091-21b0-45fc-a344-96350b5bedc6"
      },
      "source": [
        "df_customers.countryID.unique()"
      ],
      "execution_count": 17,
      "outputs": [
        {
          "output_type": "execute_result",
          "data": {
            "text/plain": [
              "array([  44,  353,   31,   49,    1,  351,   47,   33,   46,   32, 9999,\n",
              "        352,   45,  852,   55,  372,   34,  370,  385,   61,    7,  371,\n",
              "         40,   41,  972,  358,   48,   43,   36,  381,  971,   39,  421,\n",
              "        681,  420,   82,  216,  995,   27,   64,  354,  375,  966,  973,\n",
              "        599,  255,  268,   81,   65,  386,    4,   86,  357,  965,   20,\n",
              "         66,  961,    0,   91,  359,  962,  389,  356,  886,  380,  974,\n",
              "        853,  229,   52,  968,   62,   56,  213,  678,   30,   90,  374,\n",
              "        700,  256,  376,  212,   60,  977,  423,   54,   51,  505,   93,\n",
              "        233,   84,   63,   57,  502,  262,   58,   95,  598,  237,  258,\n",
              "        350,  265,  238,  297,  243,  263,  506,  689,  299])"
            ]
          },
          "metadata": {
            "tags": []
          },
          "execution_count": 17
        }
      ]
    },
    {
      "cell_type": "code",
      "metadata": {
        "id": "VVTD2hYlRJ7A",
        "colab_type": "code",
        "colab": {
          "base_uri": "https://localhost:8080/",
          "height": 34
        },
        "outputId": "f4581561-9e16-4e7f-fed3-93e4acfc5b58"
      },
      "source": [
        "df_customers.subscribeNewsletter.unique()"
      ],
      "execution_count": 18,
      "outputs": [
        {
          "output_type": "execute_result",
          "data": {
            "text/plain": [
              "array([0, 1])"
            ]
          },
          "metadata": {
            "tags": []
          },
          "execution_count": 18
        }
      ]
    },
    {
      "cell_type": "code",
      "metadata": {
        "id": "cJaIPvDoRJ7B",
        "colab_type": "code",
        "colab": {
          "base_uri": "https://localhost:8080/",
          "height": 204
        },
        "outputId": "bae9cbc9-d4ce-4e74-fd7c-764bc97dd6b4"
      },
      "source": [
        "df_customers.loyaltyCard.unique()"
      ],
      "execution_count": 19,
      "outputs": [
        {
          "output_type": "execute_result",
          "data": {
            "text/plain": [
              "array([  0,  33,   1,   2,   6,   8, 154,   4,  38,  50,  43, 111,  13,\n",
              "        10,  26,  29,   3,  66,  37,  28,   5,   7,  20,  30,  12,  18,\n",
              "        25,  19,  24,   9,  14, 127,  -1,  64,  46,  87,  22,  40,  17,\n",
              "        21,  32,  42,  11,  54, 104,  31,  36,  39,  16,  60,  77,  82,\n",
              "        52,  34,  84,  71,  23,  45, 101,  59, 172,  61,  78,  15, 110,\n",
              "        70,  72,  -2,  27, 131,  62,  35,  49,  86, 123,  44,  47,  65,\n",
              "        69, 173,  56,  58,  85,  88,  41,  63,  81, 161,  48, 112,  94,\n",
              "       124,  80,  55,  57, 158, 132,  67,  51,  98, 179,  97, 139,  76,\n",
              "       152, 119,  -3, 100,  74, 146,  93,  89,  92, 126,  90, 241, 120,\n",
              "        68,  -4, 107, 137, 121,  53, 135, 105, 192, 174, 129, 134, 150,\n",
              "        91,  73, 109,  75,  -8, -14,  -5,  79, 113, -12,  -7,  -6, -10])"
            ]
          },
          "metadata": {
            "tags": []
          },
          "execution_count": 19
        }
      ]
    },
    {
      "cell_type": "code",
      "metadata": {
        "id": "On3GZIsJRJ7D",
        "colab_type": "code",
        "colab": {
          "base_uri": "https://localhost:8080/",
          "height": 51
        },
        "outputId": "d3168220-da0a-4209-bdaa-c582ccb3fd6a"
      },
      "source": [
        "df_customers.services.unique()"
      ],
      "execution_count": 20,
      "outputs": [
        {
          "output_type": "execute_result",
          "data": {
            "text/plain": [
              "array([ 0,  3, 15,  5,  1,  4, 11,  2,  6, 12,  8, 10,  7,  9, 17, 13, 14,\n",
              "       24, 19, -2])"
            ]
          },
          "metadata": {
            "tags": []
          },
          "execution_count": 20
        }
      ]
    },
    {
      "cell_type": "code",
      "metadata": {
        "id": "CAIk7hwiRJ7E",
        "colab_type": "code",
        "colab": {
          "base_uri": "https://localhost:8080/",
          "height": 34
        },
        "outputId": "bb691d25-3d7c-461e-d0ae-d56b1b3c9531"
      },
      "source": [
        "df_customers.active.unique()"
      ],
      "execution_count": 21,
      "outputs": [
        {
          "output_type": "execute_result",
          "data": {
            "text/plain": [
              "array([ 1,  0, -1])"
            ]
          },
          "metadata": {
            "tags": []
          },
          "execution_count": 21
        }
      ]
    },
    {
      "cell_type": "markdown",
      "metadata": {
        "id": "w3Mjm8rfRJ7G",
        "colab_type": "text"
      },
      "source": [
        "### Data Preprocessing"
      ]
    },
    {
      "cell_type": "code",
      "metadata": {
        "id": "bEmlEAfsRJ7G",
        "colab_type": "code",
        "colab": {}
      },
      "source": [
        "# Get names of indexes for which column Age has value 30\n",
        "indexNames = df_customers[ df_customers['loyaltyCard'] < 0 ].index\n",
        "# Delete these row indexes from dataFrame\n",
        "df_customers.drop(indexNames , inplace=True)"
      ],
      "execution_count": 0,
      "outputs": []
    },
    {
      "cell_type": "code",
      "metadata": {
        "id": "F40cWhepRJ7H",
        "colab_type": "code",
        "colab": {}
      },
      "source": [
        "# Get names of indexes for which column Age has value 30\n",
        "indexNames = df_customers[ df_customers['services'] < 0 ].index\n",
        "# Delete these row indexes from dataFrame\n",
        "df_customers.drop(indexNames , inplace=True)"
      ],
      "execution_count": 0,
      "outputs": []
    },
    {
      "cell_type": "code",
      "metadata": {
        "id": "_Y4KV2J2RJ7I",
        "colab_type": "code",
        "colab": {}
      },
      "source": [
        "# Get names of indexes for which column Age has value 30\n",
        "indexNames = df_customers[ df_customers['active'] == -1 ].index\n",
        "# Delete these row indexes from dataFrame\n",
        "df_customers.drop(indexNames , inplace=True)"
      ],
      "execution_count": 0,
      "outputs": []
    },
    {
      "cell_type": "code",
      "metadata": {
        "id": "aVNkQ9SURJ7K",
        "colab_type": "code",
        "colab": {}
      },
      "source": [
        "#Replace Undefined for just UN and delete the record without \n",
        "#people assigned to them(errors)\n",
        "no_activity = list(df_customers.loc[df_customers[\"services\"]\n",
        "                   + df_customers[\"active\"]\n",
        "                   + df_customers[\"loyaltyCard\"]==0].index)\n",
        "df_customers.drop(df_customers.index[no_activity], inplace=True)\n"
      ],
      "execution_count": 0,
      "outputs": []
    },
    {
      "cell_type": "code",
      "metadata": {
        "id": "DdQNVBNjRJ7L",
        "colab_type": "code",
        "colab": {
          "base_uri": "https://localhost:8080/",
          "height": 34
        },
        "outputId": "b31904e8-1ca5-4f99-d058-01a327a27467"
      },
      "source": [
        "duplicates = df_customers.loc[df_customers['customerID'].duplicated(False),:]\n",
        "duplicates.head()\n",
        "duplicates.shape"
      ],
      "execution_count": 26,
      "outputs": [
        {
          "output_type": "execute_result",
          "data": {
            "text/plain": [
              "(0, 6)"
            ]
          },
          "metadata": {
            "tags": []
          },
          "execution_count": 26
        }
      ]
    },
    {
      "cell_type": "code",
      "metadata": {
        "scrolled": true,
        "id": "cafT58UARJ7N",
        "colab_type": "code",
        "colab": {
          "base_uri": "https://localhost:8080/",
          "height": 450
        },
        "outputId": "b1f55d12-baae-4816-827f-8e1102ee8a9d"
      },
      "source": [
        "df_customers=df_customers.sort_values('customerID')\n",
        "df_customers=df_customers.set_index('customerID')\n",
        "df_customers"
      ],
      "execution_count": 27,
      "outputs": [
        {
          "output_type": "execute_result",
          "data": {
            "text/html": [
              "<div>\n",
              "<style scoped>\n",
              "    .dataframe tbody tr th:only-of-type {\n",
              "        vertical-align: middle;\n",
              "    }\n",
              "\n",
              "    .dataframe tbody tr th {\n",
              "        vertical-align: top;\n",
              "    }\n",
              "\n",
              "    .dataframe thead th {\n",
              "        text-align: right;\n",
              "    }\n",
              "</style>\n",
              "<table border=\"1\" class=\"dataframe\">\n",
              "  <thead>\n",
              "    <tr style=\"text-align: right;\">\n",
              "      <th></th>\n",
              "      <th>countryID</th>\n",
              "      <th>subscribeNewsletter</th>\n",
              "      <th>loyaltyCard</th>\n",
              "      <th>services</th>\n",
              "      <th>active</th>\n",
              "    </tr>\n",
              "    <tr>\n",
              "      <th>customerID</th>\n",
              "      <th></th>\n",
              "      <th></th>\n",
              "      <th></th>\n",
              "      <th></th>\n",
              "      <th></th>\n",
              "    </tr>\n",
              "  </thead>\n",
              "  <tbody>\n",
              "    <tr>\n",
              "      <th>0</th>\n",
              "      <td>44</td>\n",
              "      <td>0</td>\n",
              "      <td>0</td>\n",
              "      <td>0</td>\n",
              "      <td>1</td>\n",
              "    </tr>\n",
              "    <tr>\n",
              "      <th>1</th>\n",
              "      <td>44</td>\n",
              "      <td>0</td>\n",
              "      <td>33</td>\n",
              "      <td>3</td>\n",
              "      <td>1</td>\n",
              "    </tr>\n",
              "    <tr>\n",
              "      <th>3</th>\n",
              "      <td>44</td>\n",
              "      <td>0</td>\n",
              "      <td>1</td>\n",
              "      <td>0</td>\n",
              "      <td>1</td>\n",
              "    </tr>\n",
              "    <tr>\n",
              "      <th>4</th>\n",
              "      <td>44</td>\n",
              "      <td>0</td>\n",
              "      <td>1</td>\n",
              "      <td>0</td>\n",
              "      <td>1</td>\n",
              "    </tr>\n",
              "    <tr>\n",
              "      <th>5</th>\n",
              "      <td>44</td>\n",
              "      <td>0</td>\n",
              "      <td>1</td>\n",
              "      <td>0</td>\n",
              "      <td>1</td>\n",
              "    </tr>\n",
              "    <tr>\n",
              "      <th>...</th>\n",
              "      <td>...</td>\n",
              "      <td>...</td>\n",
              "      <td>...</td>\n",
              "      <td>...</td>\n",
              "      <td>...</td>\n",
              "    </tr>\n",
              "    <tr>\n",
              "      <th>219062</th>\n",
              "      <td>44</td>\n",
              "      <td>0</td>\n",
              "      <td>0</td>\n",
              "      <td>0</td>\n",
              "      <td>1</td>\n",
              "    </tr>\n",
              "    <tr>\n",
              "      <th>219063</th>\n",
              "      <td>44</td>\n",
              "      <td>0</td>\n",
              "      <td>0</td>\n",
              "      <td>0</td>\n",
              "      <td>1</td>\n",
              "    </tr>\n",
              "    <tr>\n",
              "      <th>219064</th>\n",
              "      <td>44</td>\n",
              "      <td>1</td>\n",
              "      <td>0</td>\n",
              "      <td>0</td>\n",
              "      <td>1</td>\n",
              "    </tr>\n",
              "    <tr>\n",
              "      <th>219065</th>\n",
              "      <td>43</td>\n",
              "      <td>0</td>\n",
              "      <td>0</td>\n",
              "      <td>0</td>\n",
              "      <td>1</td>\n",
              "    </tr>\n",
              "    <tr>\n",
              "      <th>219066</th>\n",
              "      <td>44</td>\n",
              "      <td>0</td>\n",
              "      <td>0</td>\n",
              "      <td>0</td>\n",
              "      <td>1</td>\n",
              "    </tr>\n",
              "  </tbody>\n",
              "</table>\n",
              "<p>161933 rows × 5 columns</p>\n",
              "</div>"
            ],
            "text/plain": [
              "            countryID  subscribeNewsletter  loyaltyCard  services  active\n",
              "customerID                                                               \n",
              "0                  44                    0            0         0       1\n",
              "1                  44                    0           33         3       1\n",
              "3                  44                    0            1         0       1\n",
              "4                  44                    0            1         0       1\n",
              "5                  44                    0            1         0       1\n",
              "...               ...                  ...          ...       ...     ...\n",
              "219062             44                    0            0         0       1\n",
              "219063             44                    0            0         0       1\n",
              "219064             44                    1            0         0       1\n",
              "219065             43                    0            0         0       1\n",
              "219066             44                    0            0         0       1\n",
              "\n",
              "[161933 rows x 5 columns]"
            ]
          },
          "metadata": {
            "tags": []
          },
          "execution_count": 27
        }
      ]
    },
    {
      "cell_type": "markdown",
      "metadata": {
        "id": "jC04ADYARJ7O",
        "colab_type": "text"
      },
      "source": [
        "### Merge with datasets relating country to countryID"
      ]
    },
    {
      "cell_type": "code",
      "metadata": {
        "id": "MlHzS7OFRJ7O",
        "colab_type": "code",
        "colab": {}
      },
      "source": [
        "# Load and show dataset info \n",
        "df_c = pd.DataFrame(pd.read_csv(\"data.csv\", sep=\",\"))\n",
        "df_c"
      ],
      "execution_count": 0,
      "outputs": []
    },
    {
      "cell_type": "code",
      "metadata": {
        "id": "PquA4tIZRJ7P",
        "colab_type": "code",
        "colab": {}
      },
      "source": [
        "df_c=df_c.drop(['Official_Name_English', 'ISO3166_1_Alpha_2', 'ISO3166_1_Alpha_3', 'ISO4217_Currency_Minor_Unit', 'ISO4217_Currency_Name', 'Is_Independent', 'Capital', 'Continent', 'TLD', 'Languages','Geo_Name_ID','EDGAR','ISO4217_Currency_Alphabetic_Code', 'ISO4217_Currency_Country_Name', 'ISO4217_Currency_Country_Name', 'MARC', 'WMO', 'DS', 'FIFA', 'FIPS','IOC','ISO4217_Currency_Numeric_Code', 'ITU', 'GAUL', 'M49'], axis=1)\n"
      ],
      "execution_count": 0,
      "outputs": []
    },
    {
      "cell_type": "code",
      "metadata": {
        "id": "Kr7wY6fkRJ7Q",
        "colab_type": "code",
        "colab": {}
      },
      "source": [
        "df_c"
      ],
      "execution_count": 0,
      "outputs": []
    },
    {
      "cell_type": "code",
      "metadata": {
        "id": "u_LGyoLtRJ7R",
        "colab_type": "code",
        "colab": {}
      },
      "source": [
        "df_c= df_c.dropna()\n"
      ],
      "execution_count": 0,
      "outputs": []
    },
    {
      "cell_type": "code",
      "metadata": {
        "id": "MpHBFWc8RJ7S",
        "colab_type": "code",
        "colab": {}
      },
      "source": [
        "# Check missing values\n",
        "print(df_c.isnull().sum())"
      ],
      "execution_count": 0,
      "outputs": []
    },
    {
      "cell_type": "code",
      "metadata": {
        "id": "n2430DGORJ7T",
        "colab_type": "code",
        "colab": {}
      },
      "source": [
        "df_c.info()"
      ],
      "execution_count": 0,
      "outputs": []
    },
    {
      "cell_type": "code",
      "metadata": {
        "id": "FWLj1ZhkRJ7U",
        "colab_type": "code",
        "colab": {}
      },
      "source": [
        "# Get names of indexes for which column Age has value 30\n",
        "indexNames = df_c[df_c['Dial'] == 'nan'].index\n",
        "# Delete these row indexes from dataFrame\n",
        "df_c.drop(indexNames , inplace=True)"
      ],
      "execution_count": 0,
      "outputs": []
    },
    {
      "cell_type": "code",
      "metadata": {
        "id": "IwdagERSRJ7V",
        "colab_type": "code",
        "colab": {}
      },
      "source": [
        "# Get names of indexes for which column Age has value 30\n",
        "indexNames = df_c[ df_c['Dial'] == '39-06' ].index\n",
        "# Delete these row indexes from dataFrame\n",
        "df_c.drop(indexNames , inplace=True)"
      ],
      "execution_count": 0,
      "outputs": []
    },
    {
      "cell_type": "code",
      "metadata": {
        "id": "GfErgZdYRJ7W",
        "colab_type": "code",
        "colab": {}
      },
      "source": [
        "df_c['Dial'].replace(\"1-684\", '684', inplace=True)\n",
        "df_c['Dial'].replace(\"1-264\", '264', inplace=True)\n",
        "df_c['Dial'].replace(\"1-242\", \"242\", inplace=True)\n",
        "df_c['Dial'].replace(\"1-268\", \"268\", inplace=True)\n",
        "df_c['Dial'].replace(\"1-441\", \"441\", inplace=True)\n",
        "df_c['Dial'].replace(\"1-246\", \"246\", inplace=True)\n",
        "df_c['Dial'].replace(\"1-284\", \"284\", inplace=True)\n",
        "df_c['Dial'].replace(\"1-345\", \"345\", inplace=True)\n",
        "df_c['Dial'].replace(\"1-767\", \"767\", inplace=True)\n",
        "df_c['Dial'].replace(\"1-809,1-829,1-849\", \"829\", inplace=True)\n",
        "df_c['Dial'].replace(\"1-473\", \"473\", inplace=True)\n",
        "df_c['Dial'].replace(\"1-671\", \"671\", inplace=True)\n",
        "df_c['Dial'].replace(\"1-876\", \"876\", inplace=True)\n",
        "df_c['Dial'].replace(\"1-664\", \"664\", inplace=True)\n",
        "df_c['Dial'].replace(\"1-670\", \"670\", inplace=True)\n",
        "df_c['Dial'].replace(\"381 p\", \"381\", inplace=True)\n",
        "df_c['Dial'].replace(\"1-721\", \"721\", inplace=True)\n",
        "df_c['Dial'].replace(\"1-758\", \"758\", inplace=True)\n",
        "df_c['Dial'].replace(\"1-869\", \"869\", inplace=True)\n",
        "df_c['Dial'].replace(\"290 n\", \"290\", inplace=True)\n",
        "df_c['Dial'].replace(\"1-784\", \"784\", inplace=True)\n",
        "df_c['Dial'].replace(\"1-868\", \"868\", inplace=True)\n",
        "df_c['Dial'].replace(\"1-649\", \"649\", inplace=True)\n",
        "df_c['Dial'].replace(\"1-340\", \"340\", inplace=True)\n"
      ],
      "execution_count": 0,
      "outputs": []
    },
    {
      "cell_type": "code",
      "metadata": {
        "id": "veq-QkR1RJ7X",
        "colab_type": "code",
        "colab": {}
      },
      "source": [
        "df_c['Dial'].unique()\n"
      ],
      "execution_count": 0,
      "outputs": []
    },
    {
      "cell_type": "code",
      "metadata": {
        "scrolled": true,
        "id": "nsznF959RJ7Y",
        "colab_type": "code",
        "colab": {}
      },
      "source": [
        "df_c['Dial'] = df_c['Dial'].astype('int64')\n"
      ],
      "execution_count": 0,
      "outputs": []
    },
    {
      "cell_type": "code",
      "metadata": {
        "id": "4bc70EcMRJ7Z",
        "colab_type": "code",
        "colab": {}
      },
      "source": [
        "df_customers= pd.merge(df_customers, df_c, left_on='countryID', right_on='Dial')\n"
      ],
      "execution_count": 0,
      "outputs": []
    },
    {
      "cell_type": "code",
      "metadata": {
        "id": "nUwhTlsCRJ7a",
        "colab_type": "code",
        "colab": {}
      },
      "source": [
        "df_customers=df_customers.drop(columns=['countryID', 'Dial'])\n"
      ],
      "execution_count": 0,
      "outputs": []
    },
    {
      "cell_type": "code",
      "metadata": {
        "id": "rQ9Oq2KURJ7b",
        "colab_type": "code",
        "colab": {}
      },
      "source": [
        "df_customers"
      ],
      "execution_count": 0,
      "outputs": []
    },
    {
      "cell_type": "code",
      "metadata": {
        "id": "De0kjvwsRJ7c",
        "colab_type": "code",
        "colab": {}
      },
      "source": [
        "df_customers.to_excel(\"customers.xlsx\")  \n"
      ],
      "execution_count": 0,
      "outputs": []
    },
    {
      "cell_type": "markdown",
      "metadata": {
        "id": "iJhoVSKuRJ7d",
        "colab_type": "text"
      },
      "source": [
        "### Data Exploration "
      ]
    },
    {
      "cell_type": "markdown",
      "metadata": {
        "id": "ZcN6fTRVRJ7d",
        "colab_type": "text"
      },
      "source": [
        "#### Active vs Inactive Customers"
      ]
    },
    {
      "cell_type": "markdown",
      "metadata": {
        "id": "2pM2Oos4RJ7e",
        "colab_type": "text"
      },
      "source": [
        "<img src=\"activeCustomers.JPG\" alt=\"xxx\" style=\"width: 600px;\"/>"
      ]
    },
    {
      "cell_type": "markdown",
      "metadata": {
        "id": "Sh_O_6nLRJ7e",
        "colab_type": "text"
      },
      "source": [
        "#### Customer country"
      ]
    },
    {
      "cell_type": "markdown",
      "metadata": {
        "id": "46fOMOFyRJ7e",
        "colab_type": "text"
      },
      "source": [
        "<img src=\"CustomerCountry.JPG\" alt=\"xxx\" style=\"width: 600px;\"/>"
      ]
    },
    {
      "cell_type": "markdown",
      "metadata": {
        "id": "SmkPfBfaRJ7e",
        "colab_type": "text"
      },
      "source": [
        "#### Customer Loyalty card points"
      ]
    },
    {
      "cell_type": "markdown",
      "metadata": {
        "id": "aOwJq-XnRJ7f",
        "colab_type": "text"
      },
      "source": [
        "<img src=\"loyaltycard.JPG\" alt=\"xxx\" style=\"width: 600px;\"/>"
      ]
    },
    {
      "cell_type": "markdown",
      "metadata": {
        "id": "V-LpanDDRJ7f",
        "colab_type": "text"
      },
      "source": [
        "#### Customer newsletter subscribers"
      ]
    },
    {
      "cell_type": "markdown",
      "metadata": {
        "id": "Zxf1CmlERJ7f",
        "colab_type": "text"
      },
      "source": [
        "<img src=\"newsletterSubscribers.JPG\" alt=\"xxx\" style=\"width: 600px;\"/>"
      ]
    },
    {
      "cell_type": "markdown",
      "metadata": {
        "id": "Nb_agxOKRJ7f",
        "colab_type": "text"
      },
      "source": [
        "#### Customer services"
      ]
    },
    {
      "cell_type": "markdown",
      "metadata": {
        "id": "Gjag1avZRJ7f",
        "colab_type": "text"
      },
      "source": [
        "<img src=\"services.JPG\" alt=\"xxx\" style=\"width: 600px;\"/>"
      ]
    },
    {
      "cell_type": "markdown",
      "metadata": {
        "id": "MPBKqA1JRJ7g",
        "colab_type": "text"
      },
      "source": [
        "## Locals"
      ]
    },
    {
      "cell_type": "code",
      "metadata": {
        "id": "wzPMaulTRJ7g",
        "colab_type": "code",
        "colab": {
          "base_uri": "https://localhost:8080/",
          "height": 204
        },
        "outputId": "d12089cd-ef6a-4629-ecfb-6c58514e94a6"
      },
      "source": [
        "# Load and show dataset info \n",
        "df_locals = pd.DataFrame(pd.read_csv(\"/content/drive/My Drive/Business/06 - Case Services Demand Forecasting-20200501/YFT_Locals.csv\", sep=\";\"))\n",
        "df_locals.head()"
      ],
      "execution_count": 38,
      "outputs": [
        {
          "output_type": "execute_result",
          "data": {
            "text/html": [
              "<div>\n",
              "<style scoped>\n",
              "    .dataframe tbody tr th:only-of-type {\n",
              "        vertical-align: middle;\n",
              "    }\n",
              "\n",
              "    .dataframe tbody tr th {\n",
              "        vertical-align: top;\n",
              "    }\n",
              "\n",
              "    .dataframe thead th {\n",
              "        text-align: right;\n",
              "    }\n",
              "</style>\n",
              "<table border=\"1\" class=\"dataframe\">\n",
              "  <thead>\n",
              "    <tr style=\"text-align: right;\">\n",
              "      <th></th>\n",
              "      <th>id</th>\n",
              "      <th>local</th>\n",
              "      <th>area</th>\n",
              "    </tr>\n",
              "  </thead>\n",
              "  <tbody>\n",
              "    <tr>\n",
              "      <th>0</th>\n",
              "      <td>1</td>\n",
              "      <td>ALBUFEIRA</td>\n",
              "      <td>albufeira</td>\n",
              "    </tr>\n",
              "    <tr>\n",
              "      <th>1</th>\n",
              "      <td>6</td>\n",
              "      <td>ALCANTARILHA</td>\n",
              "      <td>armacao</td>\n",
              "    </tr>\n",
              "    <tr>\n",
              "      <th>2</th>\n",
              "      <td>130</td>\n",
              "      <td>ALCOUTIM</td>\n",
              "      <td>alcoutim</td>\n",
              "    </tr>\n",
              "    <tr>\n",
              "      <th>3</th>\n",
              "      <td>7</td>\n",
              "      <td>ALGOZ</td>\n",
              "      <td>silves</td>\n",
              "    </tr>\n",
              "    <tr>\n",
              "      <th>4</th>\n",
              "      <td>8</td>\n",
              "      <td>ALJEZUR</td>\n",
              "      <td>aljezur</td>\n",
              "    </tr>\n",
              "  </tbody>\n",
              "</table>\n",
              "</div>"
            ],
            "text/plain": [
              "    id         local       area\n",
              "0    1     ALBUFEIRA  albufeira\n",
              "1    6  ALCANTARILHA    armacao\n",
              "2  130      ALCOUTIM   alcoutim\n",
              "3    7         ALGOZ     silves\n",
              "4    8       ALJEZUR    aljezur"
            ]
          },
          "metadata": {
            "tags": []
          },
          "execution_count": 38
        }
      ]
    },
    {
      "cell_type": "markdown",
      "metadata": {
        "id": "ogiRttO2RJ7j",
        "colab_type": "text"
      },
      "source": [
        "## Drivers"
      ]
    },
    {
      "cell_type": "code",
      "metadata": {
        "id": "fbu2p4Q8RJ7j",
        "colab_type": "code",
        "colab": {
          "base_uri": "https://localhost:8080/",
          "height": 111
        },
        "outputId": "bc34dfad-ff76-478b-c233-30de58878ba6"
      },
      "source": [
        "# Load and show dataset info \n",
        "df_drivers = pd.DataFrame(pd.read_csv(\"/content/drive/My Drive/Business/06 - Case Services Demand Forecasting-20200501/YFT_Drivers.csv\", sep=\";\"))\n",
        "df_drivers.head(2)"
      ],
      "execution_count": 29,
      "outputs": [
        {
          "output_type": "execute_result",
          "data": {
            "text/html": [
              "<div>\n",
              "<style scoped>\n",
              "    .dataframe tbody tr th:only-of-type {\n",
              "        vertical-align: middle;\n",
              "    }\n",
              "\n",
              "    .dataframe tbody tr th {\n",
              "        vertical-align: top;\n",
              "    }\n",
              "\n",
              "    .dataframe thead th {\n",
              "        text-align: right;\n",
              "    }\n",
              "</style>\n",
              "<table border=\"1\" class=\"dataframe\">\n",
              "  <thead>\n",
              "    <tr style=\"text-align: right;\">\n",
              "      <th></th>\n",
              "      <th>driverID</th>\n",
              "      <th>birthday</th>\n",
              "      <th>localID</th>\n",
              "    </tr>\n",
              "  </thead>\n",
              "  <tbody>\n",
              "    <tr>\n",
              "      <th>0</th>\n",
              "      <td>1</td>\n",
              "      <td>1966-11-03</td>\n",
              "      <td>0</td>\n",
              "    </tr>\n",
              "    <tr>\n",
              "      <th>1</th>\n",
              "      <td>2</td>\n",
              "      <td>1957-09-01</td>\n",
              "      <td>32</td>\n",
              "    </tr>\n",
              "  </tbody>\n",
              "</table>\n",
              "</div>"
            ],
            "text/plain": [
              "   driverID    birthday  localID\n",
              "0         1  1966-11-03        0\n",
              "1         2  1957-09-01       32"
            ]
          },
          "metadata": {
            "tags": []
          },
          "execution_count": 29
        }
      ]
    },
    {
      "cell_type": "code",
      "metadata": {
        "id": "PXEZikBhRJ7k",
        "colab_type": "code",
        "colab": {}
      },
      "source": [
        "df_drivers=df_drivers.rename(columns={\"id\": \"driverID\"})\n",
        "df_drivers=df_drivers.rename(columns={\"birthday\": \"BirthDate\"})\n",
        "df_drivers=df_drivers.rename(columns={\"locais_id\": \"localID\"})"
      ],
      "execution_count": 0,
      "outputs": []
    },
    {
      "cell_type": "markdown",
      "metadata": {
        "id": "epofW7NnRJ7l",
        "colab_type": "text"
      },
      "source": [
        "### Dataset description\n",
        "\n",
        "- **id**: Unique identifier of the guest\n",
        "- **birthday**: The gender of the guest\n",
        "- **locais_id**: Binary variable indicating if the guest is a frequent flier or not"
      ]
    },
    {
      "cell_type": "markdown",
      "metadata": {
        "id": "lHO8DmppRJ7l",
        "colab_type": "text"
      },
      "source": [
        "### Data Understanding"
      ]
    },
    {
      "cell_type": "code",
      "metadata": {
        "id": "pkeKQ8X2RJ7m",
        "colab_type": "code",
        "colab": {}
      },
      "source": [
        "summary(df_drivers)"
      ],
      "execution_count": 0,
      "outputs": []
    },
    {
      "cell_type": "code",
      "metadata": {
        "id": "h9L59307RJ7n",
        "colab_type": "code",
        "colab": {
          "base_uri": "https://localhost:8080/",
          "height": 85
        },
        "outputId": "0e327c49-bf8c-45ba-b3be-975f82c0ef65"
      },
      "source": [
        "# Check missing values\n",
        "print(df_drivers.isnull().sum())"
      ],
      "execution_count": 33,
      "outputs": [
        {
          "output_type": "stream",
          "text": [
            "driverID     0\n",
            "BirthDate    0\n",
            "localID      0\n",
            "dtype: int64\n"
          ],
          "name": "stdout"
        }
      ]
    },
    {
      "cell_type": "code",
      "metadata": {
        "id": "toiHC3AHRJ7o",
        "colab_type": "code",
        "colab": {
          "base_uri": "https://localhost:8080/",
          "height": 714
        },
        "outputId": "51b2ecae-d019-4c57-b732-42809aa4b944"
      },
      "source": [
        "df_drivers.driverID.unique()"
      ],
      "execution_count": 32,
      "outputs": [
        {
          "output_type": "execute_result",
          "data": {
            "text/plain": [
              "array([  1,   2,   3,   4,   5,   6,   7,   8,   9,  10,  11,  12,  13,\n",
              "        14,  15,  16,  17,  18,  19,  20,  21,  22,  23,  24,  25,  26,\n",
              "        27,  28,  29,  30,  31,  32,  33,  34,  35,  36,  37,  38,  39,\n",
              "        40,  41,  42,  43,  44,  45,  46,  47,  48,  49,  50,  51,  52,\n",
              "        53,  54,  55,  56,  57,  58,  59,  60,  61,  62,  63,  64,  65,\n",
              "        66,  67,  68,  69,  70,  71,  72,  73,  74,  75,  76,  77,  78,\n",
              "        79,  80,  81,  82,  83,  84,  85,  86,  87,  88,  89,  90,  91,\n",
              "        92,  93,  95,  97,  99, 101, 103, 105, 107, 109, 111, 113, 115,\n",
              "       117, 119, 121, 123, 125, 127, 129, 131, 133, 135, 137, 139, 141,\n",
              "       143, 145, 147, 149, 151, 153, 155, 157, 159, 161, 163, 165, 167,\n",
              "       169, 171, 173, 175, 177, 179, 181, 183, 185, 187, 189, 191, 193,\n",
              "       195, 197, 199, 201, 203, 205, 207, 209, 211, 213, 215, 217, 219,\n",
              "       221, 223, 225, 227, 229, 231, 233, 235, 237, 239, 241, 243, 245,\n",
              "       247, 249, 251, 253, 255, 257, 259, 261, 263, 265, 267, 269, 271,\n",
              "       273, 275, 277, 285, 287, 289, 293, 295, 297, 301, 307, 313, 315,\n",
              "       317, 323, 325, 327, 329, 331, 333, 335, 337, 339, 341, 343, 345,\n",
              "       347, 349, 351, 353, 355, 357, 359, 361, 363, 365, 367, 369, 371,\n",
              "       373, 375, 377, 379, 381, 383, 385, 387, 389, 391, 393, 395, 397,\n",
              "       399, 400, 401, 402, 403, 404, 405, 406, 407, 408, 409, 410, 411,\n",
              "       412, 413, 414, 415, 416, 417, 418, 419, 420, 421, 422, 423, 424,\n",
              "       425, 426, 427, 428, 429, 430, 431, 432, 433, 434, 435, 436, 437,\n",
              "       438, 439, 440, 441, 442, 443, 444, 445, 446, 447, 448, 449, 450,\n",
              "       451, 452, 453, 454, 455, 456, 457, 458, 459, 460, 461, 462, 463,\n",
              "       464, 465, 467, 468, 469, 470, 471, 472, 473, 474, 475, 476, 477,\n",
              "       478, 479, 480, 481, 482, 483, 484, 485, 486, 487, 488, 489, 490,\n",
              "       491, 492, 493, 494, 495, 496, 497, 498, 499, 500, 501, 502, 503,\n",
              "       504, 505, 506, 507, 508, 509, 510, 511, 512, 513, 514, 515, 516,\n",
              "       517, 518, 519, 520, 521, 522, 523, 524, 525, 526, 527, 528, 529,\n",
              "       530, 531, 532, 533, 534, 535, 536, 537, 538, 539, 540, 541, 542,\n",
              "       543, 544, 545, 546, 547, 548, 549, 550, 551, 552, 553, 554, 555,\n",
              "       556, 557, 558, 559, 560, 561, 562, 563, 564, 565, 566, 567, 568,\n",
              "       569, 570, 571, 572, 573, 574, 575, 576, 577, 578, 579, 580, 581,\n",
              "       582, 583, 584, 585, 586, 587, 588, 589, 590, 591, 592, 593, 594,\n",
              "       595, 596, 597, 598, 599, 600, 601, 602, 603, 604, 605, 606, 607,\n",
              "       608, 609, 610, 611, 612, 613, 614, 615, 616, 617, 618, 619, 620,\n",
              "       621, 622, 623, 624, 625, 626, 627, 628, 629, 630, 631, 632, 633,\n",
              "       634, 635, 636, 637, 638, 639, 640, 641, 642, 643, 644, 645, 646,\n",
              "       647, 648, 649, 650, 651, 652, 653, 654, 655, 656, 657, 658, 659,\n",
              "       660, 661, 662, 663, 664, 665, 666, 667, 668, 669, 670, 671, 672,\n",
              "       673, 674, 675, 676, 677, 678, 679, 680, 681, 682, 683, 684, 685,\n",
              "       686, 687, 688, 689, 690, 691])"
            ]
          },
          "metadata": {
            "tags": []
          },
          "execution_count": 32
        }
      ]
    },
    {
      "cell_type": "code",
      "metadata": {
        "id": "7lLayrEJRJ7p",
        "colab_type": "code",
        "colab": {
          "base_uri": "https://localhost:8080/",
          "height": 1000
        },
        "outputId": "c56b11c2-0f70-40f8-da48-158eb43aedb6"
      },
      "source": [
        "df_drivers.BirthDate.unique()"
      ],
      "execution_count": 34,
      "outputs": [
        {
          "output_type": "execute_result",
          "data": {
            "text/plain": [
              "array(['1966-11-03', '1957-09-01', '1961-07-10', '1987-03-09',\n",
              "       '1976-10-16', '1968-02-11', '0000-00-00', '1991-04-22',\n",
              "       '1975-05-19', '1992-06-23', '1976-12-11', '1970-02-04',\n",
              "       '1987-10-23', '1985-12-12', '1973-08-11', '1982-01-02',\n",
              "       '1983-02-03', '1982-11-13', '1979-12-23', '1987-10-08',\n",
              "       '1979-06-15', '1989-10-09', '1989-06-05', '1992-12-11',\n",
              "       '1979-02-21', '1971-03-25', '1982-07-04', '1969-01-27',\n",
              "       '1971-07-08', '1965-09-22', '1967-10-06', '1988-08-10',\n",
              "       '1986-11-04', '1972-07-04', '1980-01-26', '1990-08-21',\n",
              "       '1971-12-20', '1951-02-12', '1977-05-19', '1974-12-05',\n",
              "       '1980-08-28', '1964-05-01', '1988-04-27', '1991-11-13',\n",
              "       '1975-08-21', '1983-02-24', '1983-07-11', '1971-11-14',\n",
              "       '1974-08-17', '1992-05-27', '1971-04-19', '1988-03-21',\n",
              "       '1973-11-18', '1971-09-01', '1972-09-29', '1988-05-10',\n",
              "       '1984-02-29', '1974-10-31', '1991-02-12', '1982-08-04',\n",
              "       '1947-12-14', '1968-06-07', '1971-11-16', '1991-01-05',\n",
              "       '1966-09-08', '1985-07-12', '1987-12-21', '1954-09-08',\n",
              "       '1971-07-30', '1963-12-11', '1962-10-03', '1990-01-27',\n",
              "       '1987-08-21', '1990-08-10', '1971-03-09', '1989-06-01',\n",
              "       '1978-04-05', '1981-01-09', '1985-10-20', '1984-06-09',\n",
              "       '1984-09-14', '1972-09-02', '1965-08-30', '1973-12-08',\n",
              "       '1983-04-25', '1986-11-03', '1958-09-19', '1992-01-20',\n",
              "       '1966-06-21', '1980-02-07', '1989-06-30', '1991-06-16',\n",
              "       '1988-07-12', '1976-02-03', '1995-04-28', '1989-08-28',\n",
              "       '1992-03-21', '1961-12-17', '1978-09-25', '1985-06-25',\n",
              "       '1989-07-11', '1994-11-17', '1990-05-17', '1975-01-29',\n",
              "       '1990-12-25', '1995-03-27', '1980-09-28', '1993-04-17',\n",
              "       '1995-07-05', '1989-09-26', '1991-03-20', '1986-05-15',\n",
              "       '1992-10-12', '1985-02-28', '1989-11-15', '1980-03-15',\n",
              "       '1990-09-19', '1968-12-13', '1989-11-30', '1987-12-03',\n",
              "       '1971-06-25', '1961-12-29', '1979-11-29', '1972-09-06',\n",
              "       '1994-01-25', '1993-07-24', '1995-06-26', '1992-09-07',\n",
              "       '1982-03-28', '1977-07-16', '1989-08-13', '1986-05-09',\n",
              "       '1981-02-05', '1968-07-14', '1962-03-10', '1970-02-16',\n",
              "       '1971-07-13', '1981-07-26', '1981-10-23', '1992-02-18',\n",
              "       '1986-09-14', '1987-07-02', '1990-11-07', '1992-07-27',\n",
              "       '1978-07-06', '1989-01-17', '1962-01-20', '1986-10-22',\n",
              "       '1993-03-02', '1987-03-05', '1971-04-24', '1977-03-23',\n",
              "       '1984-08-11', '1982-06-24', '1975-03-14', '1971-11-03',\n",
              "       '1978-10-30', '1981-06-21', '1988-04-02', '1991-06-26',\n",
              "       '1976-09-29', '1996-11-07', '1971-04-14', '1994-03-22',\n",
              "       '1996-08-05', '1962-04-05', '1973-09-20', '1971-05-20',\n",
              "       '1966-03-27', '1956-12-24', '1978-02-02', '1992-12-24',\n",
              "       '1996-07-16', '1978-10-14', '1990-11-13', '1970-01-29',\n",
              "       '1959-01-15', '1969-06-12', '1982-11-19', '1960-05-01',\n",
              "       '1974-05-07', '1981-05-17', '1994-05-12', '1974-07-08',\n",
              "       '1993-04-20', '1992-08-25', '1994-05-30', '1976-01-18',\n",
              "       '1993-12-27', '1959-12-26', '1996-07-23', '1974-12-01',\n",
              "       '1985-03-09', '1987-06-08', '1996-10-29', '1994-08-23',\n",
              "       '1979-02-15', '1991-03-25', '1992-05-12', '1981-02-02',\n",
              "       '1983-11-17', '1979-04-10', '1974-01-27', '1961-07-23',\n",
              "       '1988-05-23', '1972-01-21', '1993-02-21', '1970-11-02',\n",
              "       '1981-10-20', '1990-10-22', '1990-07-24', '1986-11-12',\n",
              "       '1996-12-03', '1967-11-01', '1974-03-04', '1982-12-13',\n",
              "       '1997-10-03', '1982-09-14', '1978-06-22', '1997-05-13',\n",
              "       '1976-11-21', '1981-08-27', '1995-06-01', '1972-03-12',\n",
              "       '1991-09-29', '1978-04-10', '1994-02-26', '1978-05-05',\n",
              "       '1994-07-30', '1996-02-05', '1970-02-13', '1977-11-17',\n",
              "       '1992-09-18', '1996-10-23', '1973-12-04', '1974-11-01',\n",
              "       '1974-09-18', '1982-12-25', '1994-04-19', '1992-11-06',\n",
              "       '1990-09-05', '1997-07-06', '1998-09-21', '1968-01-07',\n",
              "       '1982-12-22', '1996-03-02', '1986-04-25', '1979-10-02',\n",
              "       '1944-08-24', '1978-01-01', '1981-07-02', '1992-09-08',\n",
              "       '1995-11-10', '1974-07-22', '1978-11-05', '1964-08-29',\n",
              "       '1954-10-05', '1966-06-26', '1977-05-11', '1989-12-30',\n",
              "       '1998-03-22', '1986-08-06', '1969-12-07', '1962-12-16',\n",
              "       '1997-07-17', '1991-12-17', '1976-03-09', '1964-11-16',\n",
              "       '1979-12-31', '1993-04-11', '1995-12-09', '1996-06-26',\n",
              "       '1963-07-03', '1972-06-15', '1993-07-01', '1993-01-29',\n",
              "       '1964-08-26', '1993-07-02', '1994-12-19', '1977-02-17',\n",
              "       '1976-05-08', '1994-10-05', '1984-06-16', '1986-12-21',\n",
              "       '1973-11-25', '1974-02-22', '1997-06-16', '1973-12-01',\n",
              "       '1975-07-07', '1964-06-25', '1977-04-11', '1984-11-04',\n",
              "       '1985-06-10', '1978-07-16', '1975-12-21', '1974-09-08',\n",
              "       '1980-08-23', '1997-12-07', '1997-08-05', '1997-05-15',\n",
              "       '1976-09-30', '1998-04-05', '1996-01-29', '1979-06-14',\n",
              "       '1992-07-07', '1998-11-21', '1997-06-15', '1994-03-01',\n",
              "       '1980-11-01', '1965-11-28', '1984-07-22', '1987-12-08',\n",
              "       '1995-07-06', '1995-12-21', '1992-06-26', '1978-05-11',\n",
              "       '1993-08-10', '1996-09-17', '1963-11-09', '1995-08-15',\n",
              "       '1973-01-24', '1994-09-02', '1975-04-20', '1992-08-15',\n",
              "       '1994-10-24', '1990-11-14', '1984-05-07', '1993-12-09',\n",
              "       '1994-02-16', '1975-10-23', '1994-12-25', '1990-08-16',\n",
              "       '1997-06-11', '1997-01-14', '1995-12-22', '1974-03-09',\n",
              "       '1972-05-16', '1972-04-30', '1975-07-11', '1987-08-05',\n",
              "       '1997-04-23', '1999-01-13', '1999-12-19', '1999-02-11',\n",
              "       '1989-07-27', '1999-12-09', '1994-08-31', '1973-04-17',\n",
              "       '1995-07-12', '1994-05-22', '1989-09-10', '1961-06-08',\n",
              "       '1973-01-06', '1992-08-04', '1957-08-30', '1999-04-06',\n",
              "       '1973-01-07', '1992-05-09', '1996-03-06', '1994-05-09',\n",
              "       '1970-08-27', '1997-10-27', '1999-03-17', '1974-07-30',\n",
              "       '1997-07-08', '1978-03-22', '1997-06-17', '1991-02-06',\n",
              "       '1983-08-31', '1985-01-26', '1971-10-27', '1974-04-16',\n",
              "       '1972-09-27', '1988-10-26', '1989-10-30', '1996-12-25',\n",
              "       '1973-10-25', '1997-09-01', '1998-08-01', '1984-04-06',\n",
              "       '1980-11-03', '1980-03-09', '1988-10-03', '1992-05-30',\n",
              "       '1998-07-29', '1972-09-20', '1972-04-09', '1982-01-21',\n",
              "       '1994-07-17', '1973-09-30', '1996-09-28', '1997-02-10',\n",
              "       '1985-08-29', '1971-06-22', '1977-11-28', '1995-10-11',\n",
              "       '1972-05-28', '1967-11-22', '1994-08-09', '1997-05-18',\n",
              "       '1965-03-20', '1959-09-23', '1981-06-05', '1980-03-03',\n",
              "       '1996-04-30', '1969-09-19', '1961-12-27', '1994-11-23',\n",
              "       '1974-04-28', '1988-07-01', '1998-05-26', '1990-04-22',\n",
              "       '1973-12-14', '1999-01-21', '1990-04-16', '1997-12-09',\n",
              "       '1958-08-13', '1995-04-22', '1983-02-23', '1983-06-26',\n",
              "       '1979-04-12', '1964-05-18', '1979-05-25', '1988-01-03',\n",
              "       '1965-02-12', '1980-09-02', '1960-01-29', '1998-09-27',\n",
              "       '1983-09-19', '1988-11-01', '1976-11-01', '1990-03-14',\n",
              "       '1973-09-27', '1992-10-25', '1990-07-23', '1986-05-26',\n",
              "       '1956-08-06', '1987-08-16', '1979-12-26', '1961-10-08',\n",
              "       '1979-04-16', '1963-11-13', '1986-04-30', '1982-03-01',\n",
              "       '1996-11-10', '1998-04-02', '1982-06-16', '1958-11-04',\n",
              "       '1982-11-02', '1978-10-18', '1967-02-11', '1954-08-06',\n",
              "       '1985-10-19', '1977-12-12', '1977-01-02', '1989-10-27',\n",
              "       '1982-05-23', '1959-03-12', '1995-01-11', '1992-11-30',\n",
              "       '1976-06-25', '1995-07-08', '1978-06-14', '1993-11-30',\n",
              "       '1991-05-06', '1967-09-19', '1972-01-18'], dtype=object)"
            ]
          },
          "metadata": {
            "tags": []
          },
          "execution_count": 34
        }
      ]
    },
    {
      "cell_type": "code",
      "metadata": {
        "id": "PUx4IqsLRJ7q",
        "colab_type": "code",
        "colab": {
          "base_uri": "https://localhost:8080/",
          "height": 68
        },
        "outputId": "de9f9d98-ea6d-4142-8eb6-605087463439"
      },
      "source": [
        "df_drivers.localID.unique()"
      ],
      "execution_count": 35,
      "outputs": [
        {
          "output_type": "execute_result",
          "data": {
            "text/plain": [
              "array([  0,  32,   1,  44, 126,  54,  12,  20,  31,   3, 182,  29,  40,\n",
              "        50, 122,  22,  85,  21,  11,   2,  68,   6, 133,   9,   7, 148,\n",
              "        23,  26,  24,  47,  10,  17, 239,  18,  49,  28])"
            ]
          },
          "metadata": {
            "tags": []
          },
          "execution_count": 35
        }
      ]
    },
    {
      "cell_type": "markdown",
      "metadata": {
        "id": "JDI0XFSERJ7r",
        "colab_type": "text"
      },
      "source": [
        "### Data Preprocessing"
      ]
    },
    {
      "cell_type": "code",
      "metadata": {
        "id": "c-bJ7VV7RJ7r",
        "colab_type": "code",
        "colab": {
          "base_uri": "https://localhost:8080/",
          "height": 34
        },
        "outputId": "94491f89-8b22-400f-99c6-52cc05119481"
      },
      "source": [
        "duplicates = df_drivers.loc[df_drivers['driverID'].duplicated(False),:]\n",
        "duplicates.head()\n",
        "duplicates.shape"
      ],
      "execution_count": 36,
      "outputs": [
        {
          "output_type": "execute_result",
          "data": {
            "text/plain": [
              "(0, 3)"
            ]
          },
          "metadata": {
            "tags": []
          },
          "execution_count": 36
        }
      ]
    },
    {
      "cell_type": "markdown",
      "metadata": {
        "id": "RwYI15anRJ7s",
        "colab_type": "text"
      },
      "source": [
        "### Merging with locals dataset \n",
        "Connecting th localID to local"
      ]
    },
    {
      "cell_type": "code",
      "metadata": {
        "id": "za7ITxfeRJ7t",
        "colab_type": "code",
        "colab": {}
      },
      "source": [
        "df_drivers= pd.merge(df_drivers, df_locals, left_on='localID', right_on='id')\n"
      ],
      "execution_count": 0,
      "outputs": []
    },
    {
      "cell_type": "code",
      "metadata": {
        "id": "aThTzTmERJ7u",
        "colab_type": "code",
        "colab": {}
      },
      "source": [
        "df_drivers=df_drivers.drop(['localID', 'id', 'area'], axis=1)\n"
      ],
      "execution_count": 0,
      "outputs": []
    },
    {
      "cell_type": "code",
      "metadata": {
        "id": "HqjTqoAURJ7v",
        "colab_type": "code",
        "colab": {
          "base_uri": "https://localhost:8080/",
          "height": 204
        },
        "outputId": "9829b82a-f11c-4c48-b365-8ccc1a49c828"
      },
      "source": [
        "df_drivers.head()"
      ],
      "execution_count": 76,
      "outputs": [
        {
          "output_type": "execute_result",
          "data": {
            "text/html": [
              "<div>\n",
              "<style scoped>\n",
              "    .dataframe tbody tr th:only-of-type {\n",
              "        vertical-align: middle;\n",
              "    }\n",
              "\n",
              "    .dataframe tbody tr th {\n",
              "        vertical-align: top;\n",
              "    }\n",
              "\n",
              "    .dataframe thead th {\n",
              "        text-align: right;\n",
              "    }\n",
              "</style>\n",
              "<table border=\"1\" class=\"dataframe\">\n",
              "  <thead>\n",
              "    <tr style=\"text-align: right;\">\n",
              "      <th></th>\n",
              "      <th>driverID</th>\n",
              "      <th>BirthDate</th>\n",
              "      <th>local</th>\n",
              "    </tr>\n",
              "  </thead>\n",
              "  <tbody>\n",
              "    <tr>\n",
              "      <th>0</th>\n",
              "      <td>2</td>\n",
              "      <td>1957-09-01</td>\n",
              "      <td>PORTIMAO</td>\n",
              "    </tr>\n",
              "    <tr>\n",
              "      <th>1</th>\n",
              "      <td>93</td>\n",
              "      <td>1971-11-14</td>\n",
              "      <td>PORTIMAO</td>\n",
              "    </tr>\n",
              "    <tr>\n",
              "      <th>2</th>\n",
              "      <td>107</td>\n",
              "      <td>1972-09-29</td>\n",
              "      <td>PORTIMAO</td>\n",
              "    </tr>\n",
              "    <tr>\n",
              "      <th>3</th>\n",
              "      <td>119</td>\n",
              "      <td>1947-12-14</td>\n",
              "      <td>PORTIMAO</td>\n",
              "    </tr>\n",
              "    <tr>\n",
              "      <th>4</th>\n",
              "      <td>135</td>\n",
              "      <td>1971-07-30</td>\n",
              "      <td>PORTIMAO</td>\n",
              "    </tr>\n",
              "  </tbody>\n",
              "</table>\n",
              "</div>"
            ],
            "text/plain": [
              "   driverID   BirthDate     local\n",
              "0         2  1957-09-01  PORTIMAO\n",
              "1        93  1971-11-14  PORTIMAO\n",
              "2       107  1972-09-29  PORTIMAO\n",
              "3       119  1947-12-14  PORTIMAO\n",
              "4       135  1971-07-30  PORTIMAO"
            ]
          },
          "metadata": {
            "tags": []
          },
          "execution_count": 76
        }
      ]
    },
    {
      "cell_type": "code",
      "metadata": {
        "id": "gsfvBjX8RJ7w",
        "colab_type": "code",
        "colab": {}
      },
      "source": [
        "df_drivers.to_excel(\"drivers.xlsx\")  \n"
      ],
      "execution_count": 0,
      "outputs": []
    },
    {
      "cell_type": "markdown",
      "metadata": {
        "id": "Z1_ArMwwRJ7w",
        "colab_type": "text"
      },
      "source": [
        "### Data Exploration"
      ]
    },
    {
      "cell_type": "markdown",
      "metadata": {
        "id": "-DrGqx5LRJ7w",
        "colab_type": "text"
      },
      "source": [
        "#### Drivers' location"
      ]
    },
    {
      "cell_type": "markdown",
      "metadata": {
        "id": "UvxKnyO9RJ7x",
        "colab_type": "text"
      },
      "source": [
        "<img src=\"driverLocation.JPG\" alt=\"xxx\" style=\"width: 600px;\"/>"
      ]
    },
    {
      "cell_type": "markdown",
      "metadata": {
        "id": "1Awq4jHdRJ7x",
        "colab_type": "text"
      },
      "source": [
        "## Luggage"
      ]
    },
    {
      "cell_type": "code",
      "metadata": {
        "id": "tFWlk8agRJ7x",
        "colab_type": "code",
        "colab": {
          "base_uri": "https://localhost:8080/",
          "height": 111
        },
        "outputId": "f2d73dfc-8146-4517-dc01-d16c18ec1939"
      },
      "source": [
        "# Load and show dataset info \n",
        "df_luggage = pd.DataFrame(pd.read_csv(\"/content/drive/My Drive/Business/06 - Case Services Demand Forecasting-20200501/YFT_Luggage.csv\", sep=\";\"))\n",
        "df_luggage.head(2)"
      ],
      "execution_count": 44,
      "outputs": [
        {
          "output_type": "execute_result",
          "data": {
            "text/html": [
              "<div>\n",
              "<style scoped>\n",
              "    .dataframe tbody tr th:only-of-type {\n",
              "        vertical-align: middle;\n",
              "    }\n",
              "\n",
              "    .dataframe tbody tr th {\n",
              "        vertical-align: top;\n",
              "    }\n",
              "\n",
              "    .dataframe thead th {\n",
              "        text-align: right;\n",
              "    }\n",
              "</style>\n",
              "<table border=\"1\" class=\"dataframe\">\n",
              "  <thead>\n",
              "    <tr style=\"text-align: right;\">\n",
              "      <th></th>\n",
              "      <th>book_id</th>\n",
              "      <th>whichway</th>\n",
              "      <th>cargo</th>\n",
              "      <th>qtd</th>\n",
              "      <th>timer</th>\n",
              "    </tr>\n",
              "  </thead>\n",
              "  <tbody>\n",
              "    <tr>\n",
              "      <th>0</th>\n",
              "      <td>71925</td>\n",
              "      <td>arrival</td>\n",
              "      <td>cabin_luggage</td>\n",
              "      <td>2</td>\n",
              "      <td>2015-03-05 11:33:39</td>\n",
              "    </tr>\n",
              "    <tr>\n",
              "      <th>1</th>\n",
              "      <td>71925</td>\n",
              "      <td>arrival</td>\n",
              "      <td>checked_luggage</td>\n",
              "      <td>2</td>\n",
              "      <td>2015-03-05 11:33:39</td>\n",
              "    </tr>\n",
              "  </tbody>\n",
              "</table>\n",
              "</div>"
            ],
            "text/plain": [
              "   book_id whichway            cargo  qtd                timer\n",
              "0    71925  arrival    cabin_luggage    2  2015-03-05 11:33:39\n",
              "1    71925  arrival  checked_luggage    2  2015-03-05 11:33:39"
            ]
          },
          "metadata": {
            "tags": []
          },
          "execution_count": 44
        }
      ]
    },
    {
      "cell_type": "code",
      "metadata": {
        "id": "XOaiGci1RJ7y",
        "colab_type": "code",
        "colab": {}
      },
      "source": [
        "df_luggage=df_luggage.rename(columns={\"qtd\": \"quantity\"})\n",
        "df_luggage=df_luggage.rename(columns={\"book_id\": \"bookingID\"})\n"
      ],
      "execution_count": 0,
      "outputs": []
    },
    {
      "cell_type": "markdown",
      "metadata": {
        "id": "AHKMeO_fRJ7y",
        "colab_type": "text"
      },
      "source": [
        "### Dataset description\n",
        "    \n",
        "- **bookingID**: Unique identifier of the guest\n",
        "- **whichway**: type of service (arrival or departure)\n",
        "- **cargo**: type of luggage (checked_luggage, cabin_luggage, others)\n",
        "- **quantity**: quantity of this type of cargo\n",
        "- **timer**:  date and time when YFT become aware of this luggage information"
      ]
    },
    {
      "cell_type": "markdown",
      "metadata": {
        "id": "dU8IA0eoRJ7y",
        "colab_type": "text"
      },
      "source": [
        "### Data Understanding"
      ]
    },
    {
      "cell_type": "code",
      "metadata": {
        "id": "5hxyN-mgRJ7y",
        "colab_type": "code",
        "colab": {
          "base_uri": "https://localhost:8080/",
          "height": 204
        },
        "outputId": "4ea12324-8f09-425d-c502-1b27c7d0dabf"
      },
      "source": [
        "summary(df_luggage)"
      ],
      "execution_count": 46,
      "outputs": [
        {
          "output_type": "execute_result",
          "data": {
            "text/html": [
              "<div>\n",
              "<style scoped>\n",
              "    .dataframe tbody tr th:only-of-type {\n",
              "        vertical-align: middle;\n",
              "    }\n",
              "\n",
              "    .dataframe tbody tr th {\n",
              "        vertical-align: top;\n",
              "    }\n",
              "\n",
              "    .dataframe thead th {\n",
              "        text-align: right;\n",
              "    }\n",
              "</style>\n",
              "<table border=\"1\" class=\"dataframe\">\n",
              "  <thead>\n",
              "    <tr style=\"text-align: right;\">\n",
              "      <th></th>\n",
              "      <th>count</th>\n",
              "      <th>unique</th>\n",
              "      <th>top</th>\n",
              "      <th>freq</th>\n",
              "      <th>mean</th>\n",
              "      <th>std</th>\n",
              "      <th>min</th>\n",
              "      <th>25%</th>\n",
              "      <th>50%</th>\n",
              "      <th>75%</th>\n",
              "      <th>max</th>\n",
              "    </tr>\n",
              "  </thead>\n",
              "  <tbody>\n",
              "    <tr>\n",
              "      <th>bookingID</th>\n",
              "      <td>646400</td>\n",
              "      <td>NaN</td>\n",
              "      <td>NaN</td>\n",
              "      <td>NaN</td>\n",
              "      <td>196310</td>\n",
              "      <td>74626.2</td>\n",
              "      <td>15250</td>\n",
              "      <td>130532</td>\n",
              "      <td>193860</td>\n",
              "      <td>259440</td>\n",
              "      <td>330151</td>\n",
              "    </tr>\n",
              "    <tr>\n",
              "      <th>whichway</th>\n",
              "      <td>646400</td>\n",
              "      <td>2</td>\n",
              "      <td>arrival</td>\n",
              "      <td>327052</td>\n",
              "      <td>NaN</td>\n",
              "      <td>NaN</td>\n",
              "      <td>NaN</td>\n",
              "      <td>NaN</td>\n",
              "      <td>NaN</td>\n",
              "      <td>NaN</td>\n",
              "      <td>NaN</td>\n",
              "    </tr>\n",
              "    <tr>\n",
              "      <th>cargo</th>\n",
              "      <td>646400</td>\n",
              "      <td>9</td>\n",
              "      <td>cabin_luggage</td>\n",
              "      <td>346562</td>\n",
              "      <td>NaN</td>\n",
              "      <td>NaN</td>\n",
              "      <td>NaN</td>\n",
              "      <td>NaN</td>\n",
              "      <td>NaN</td>\n",
              "      <td>NaN</td>\n",
              "      <td>NaN</td>\n",
              "    </tr>\n",
              "    <tr>\n",
              "      <th>quantity</th>\n",
              "      <td>646400</td>\n",
              "      <td>NaN</td>\n",
              "      <td>NaN</td>\n",
              "      <td>NaN</td>\n",
              "      <td>2.56464</td>\n",
              "      <td>1.98867</td>\n",
              "      <td>0</td>\n",
              "      <td>1</td>\n",
              "      <td>2</td>\n",
              "      <td>3</td>\n",
              "      <td>100</td>\n",
              "    </tr>\n",
              "    <tr>\n",
              "      <th>timer</th>\n",
              "      <td>646400</td>\n",
              "      <td>230730</td>\n",
              "      <td>2017-01-16 13:20:21</td>\n",
              "      <td>18</td>\n",
              "      <td>NaN</td>\n",
              "      <td>NaN</td>\n",
              "      <td>NaN</td>\n",
              "      <td>NaN</td>\n",
              "      <td>NaN</td>\n",
              "      <td>NaN</td>\n",
              "      <td>NaN</td>\n",
              "    </tr>\n",
              "  </tbody>\n",
              "</table>\n",
              "</div>"
            ],
            "text/plain": [
              "            count  unique                  top  ...     50%     75%     max\n",
              "bookingID  646400     NaN                  NaN  ...  193860  259440  330151\n",
              "whichway   646400       2              arrival  ...     NaN     NaN     NaN\n",
              "cargo      646400       9        cabin_luggage  ...     NaN     NaN     NaN\n",
              "quantity   646400     NaN                  NaN  ...       2       3     100\n",
              "timer      646400  230730  2017-01-16 13:20:21  ...     NaN     NaN     NaN\n",
              "\n",
              "[5 rows x 11 columns]"
            ]
          },
          "metadata": {
            "tags": []
          },
          "execution_count": 46
        }
      ]
    },
    {
      "cell_type": "code",
      "metadata": {
        "id": "2lLZp-ERRJ7z",
        "colab_type": "code",
        "colab": {
          "base_uri": "https://localhost:8080/",
          "height": 119
        },
        "outputId": "69ae5c4c-d537-472b-a289-1ede4fb225a6"
      },
      "source": [
        "# Check missing values\n",
        "print(df_luggage.isnull().sum())"
      ],
      "execution_count": 47,
      "outputs": [
        {
          "output_type": "stream",
          "text": [
            "bookingID    0\n",
            "whichway     0\n",
            "cargo        0\n",
            "quantity     0\n",
            "timer        0\n",
            "dtype: int64\n"
          ],
          "name": "stdout"
        }
      ]
    },
    {
      "cell_type": "code",
      "metadata": {
        "id": "tOXQaHPFRJ70",
        "colab_type": "code",
        "colab": {
          "base_uri": "https://localhost:8080/",
          "height": 34
        },
        "outputId": "8a59a7e8-db2e-4ccb-b453-e5a8e60a4cab"
      },
      "source": [
        "df_luggage.bookingID.unique()"
      ],
      "execution_count": 48,
      "outputs": [
        {
          "output_type": "execute_result",
          "data": {
            "text/plain": [
              "array([ 71925,  71926,  71927, ..., 330149, 330150, 330151])"
            ]
          },
          "metadata": {
            "tags": []
          },
          "execution_count": 48
        }
      ]
    },
    {
      "cell_type": "code",
      "metadata": {
        "id": "b_XJOLUTRJ71",
        "colab_type": "code",
        "colab": {}
      },
      "source": [
        "df_luggage.whichway.unique()"
      ],
      "execution_count": 0,
      "outputs": []
    },
    {
      "cell_type": "code",
      "metadata": {
        "id": "tg2kyFnkRJ71",
        "colab_type": "code",
        "colab": {
          "base_uri": "https://localhost:8080/",
          "height": 68
        },
        "outputId": "0378df7b-dd5d-420a-b0b0-6dcac89bad09"
      },
      "source": [
        "df_luggage.cargo.unique()"
      ],
      "execution_count": 51,
      "outputs": [
        {
          "output_type": "execute_result",
          "data": {
            "text/plain": [
              "array(['cabin_luggage', 'checked_luggage', 'child_buggy', 'golf_bags',\n",
              "       'wheelchair', 'bike_box', 'scooters', 'surf_board', 'pets_crates'],\n",
              "      dtype=object)"
            ]
          },
          "metadata": {
            "tags": []
          },
          "execution_count": 51
        }
      ]
    },
    {
      "cell_type": "code",
      "metadata": {
        "id": "I9rtXnppRJ72",
        "colab_type": "code",
        "colab": {
          "base_uri": "https://localhost:8080/",
          "height": 85
        },
        "outputId": "54c2c8e8-5af9-40cb-f1b3-287876a23bb4"
      },
      "source": [
        "df_luggage.quantity.unique()"
      ],
      "execution_count": 50,
      "outputs": [
        {
          "output_type": "execute_result",
          "data": {
            "text/plain": [
              "array([  2,   0,   3,   1,   4,   5,   7,   6,  10,   8,  16,  11,  24,\n",
              "        21,   9,  12,  14,  13,  20,  19,  18,  15,  23,  17,  22,  26,\n",
              "        30,  25,  50, 100,  32,  28,  29,  31,  36,  56,  27,  39,  35,\n",
              "        33,  34,  37,  38])"
            ]
          },
          "metadata": {
            "tags": []
          },
          "execution_count": 50
        }
      ]
    },
    {
      "cell_type": "code",
      "metadata": {
        "id": "4MaxG4b9RJ73",
        "colab_type": "code",
        "colab": {
          "base_uri": "https://localhost:8080/",
          "height": 68
        },
        "outputId": "42211f67-897c-40f6-db7c-1a6d8aaff133"
      },
      "source": [
        "df_luggage.timer.unique()"
      ],
      "execution_count": 52,
      "outputs": [
        {
          "output_type": "execute_result",
          "data": {
            "text/plain": [
              "array(['2015-03-05 11:33:39', '2015-03-05 11:38:14',\n",
              "       '2015-03-05 11:41:07', ..., '2019-12-02 10:36:44',\n",
              "       '2019-12-02 10:39:22', '2019-12-02 10:46:22'], dtype=object)"
            ]
          },
          "metadata": {
            "tags": []
          },
          "execution_count": 52
        }
      ]
    },
    {
      "cell_type": "code",
      "metadata": {
        "id": "3z35DIcDRJ74",
        "colab_type": "code",
        "colab": {
          "base_uri": "https://localhost:8080/",
          "height": 317
        },
        "outputId": "539e73c2-a33a-46cf-f06e-cdb4b0768002"
      },
      "source": [
        "df_luggage=df_luggage.sort_values('bookingID')\n",
        "df_luggage=df_luggage.set_index('bookingID')\n",
        "df_luggage.head()"
      ],
      "execution_count": 56,
      "outputs": [
        {
          "output_type": "error",
          "ename": "KeyError",
          "evalue": "ignored",
          "traceback": [
            "\u001b[0;31m---------------------------------------------------------------------------\u001b[0m",
            "\u001b[0;31mKeyError\u001b[0m                                  Traceback (most recent call last)",
            "\u001b[0;32m<ipython-input-56-13c1ba5c3d45>\u001b[0m in \u001b[0;36m<module>\u001b[0;34m()\u001b[0m\n\u001b[1;32m      1\u001b[0m \u001b[0mdf_luggage\u001b[0m\u001b[0;34m=\u001b[0m\u001b[0mdf_luggage\u001b[0m\u001b[0;34m.\u001b[0m\u001b[0msort_values\u001b[0m\u001b[0;34m(\u001b[0m\u001b[0;34m'bookingID'\u001b[0m\u001b[0;34m)\u001b[0m\u001b[0;34m\u001b[0m\u001b[0;34m\u001b[0m\u001b[0m\n\u001b[0;32m----> 2\u001b[0;31m \u001b[0mdf_luggage\u001b[0m\u001b[0;34m=\u001b[0m\u001b[0mdf_luggage\u001b[0m\u001b[0;34m.\u001b[0m\u001b[0mset_index\u001b[0m\u001b[0;34m(\u001b[0m\u001b[0;34m'bookingID'\u001b[0m\u001b[0;34m)\u001b[0m\u001b[0;34m\u001b[0m\u001b[0;34m\u001b[0m\u001b[0m\n\u001b[0m\u001b[1;32m      3\u001b[0m \u001b[0mdf_luggage\u001b[0m\u001b[0;34m.\u001b[0m\u001b[0mhead\u001b[0m\u001b[0;34m(\u001b[0m\u001b[0;34m)\u001b[0m\u001b[0;34m\u001b[0m\u001b[0;34m\u001b[0m\u001b[0m\n",
            "\u001b[0;32m/usr/local/lib/python3.6/dist-packages/pandas/core/frame.py\u001b[0m in \u001b[0;36mset_index\u001b[0;34m(self, keys, drop, append, inplace, verify_integrity)\u001b[0m\n\u001b[1;32m   4301\u001b[0m \u001b[0;34m\u001b[0m\u001b[0m\n\u001b[1;32m   4302\u001b[0m         \u001b[0;32mif\u001b[0m \u001b[0mmissing\u001b[0m\u001b[0;34m:\u001b[0m\u001b[0;34m\u001b[0m\u001b[0;34m\u001b[0m\u001b[0m\n\u001b[0;32m-> 4303\u001b[0;31m             \u001b[0;32mraise\u001b[0m \u001b[0mKeyError\u001b[0m\u001b[0;34m(\u001b[0m\u001b[0;34mf\"None of {missing} are in the columns\"\u001b[0m\u001b[0;34m)\u001b[0m\u001b[0;34m\u001b[0m\u001b[0;34m\u001b[0m\u001b[0m\n\u001b[0m\u001b[1;32m   4304\u001b[0m \u001b[0;34m\u001b[0m\u001b[0m\n\u001b[1;32m   4305\u001b[0m         \u001b[0;32mif\u001b[0m \u001b[0minplace\u001b[0m\u001b[0;34m:\u001b[0m\u001b[0;34m\u001b[0m\u001b[0;34m\u001b[0m\u001b[0m\n",
            "\u001b[0;31mKeyError\u001b[0m: \"None of ['bookingID'] are in the columns\""
          ]
        }
      ]
    },
    {
      "cell_type": "code",
      "metadata": {
        "id": "0Nne0QMgRJ74",
        "colab_type": "code",
        "colab": {
          "base_uri": "https://localhost:8080/",
          "height": 307
        },
        "outputId": "a5013453-5a07-402c-d2a8-f0b2d824511b"
      },
      "source": [
        "df_luggage.to_excel(\"luggage.xlsx\")  \n"
      ],
      "execution_count": 54,
      "outputs": [
        {
          "output_type": "error",
          "ename": "KeyboardInterrupt",
          "evalue": "ignored",
          "traceback": [
            "\u001b[0;31m---------------------------------------------------------------------------\u001b[0m",
            "\u001b[0;31mKeyboardInterrupt\u001b[0m                         Traceback (most recent call last)",
            "\u001b[0;32m<ipython-input-54-523a7532c2d5>\u001b[0m in \u001b[0;36m<module>\u001b[0;34m()\u001b[0m\n\u001b[0;32m----> 1\u001b[0;31m \u001b[0mdf_luggage\u001b[0m\u001b[0;34m.\u001b[0m\u001b[0mto_excel\u001b[0m\u001b[0;34m(\u001b[0m\u001b[0;34m\"luggage.xlsx\"\u001b[0m\u001b[0;34m)\u001b[0m\u001b[0;34m\u001b[0m\u001b[0;34m\u001b[0m\u001b[0m\n\u001b[0m",
            "\u001b[0;32m/usr/local/lib/python3.6/dist-packages/pandas/core/generic.py\u001b[0m in \u001b[0;36mto_excel\u001b[0;34m(self, excel_writer, sheet_name, na_rep, float_format, columns, header, index, index_label, startrow, startcol, engine, merge_cells, encoding, inf_rep, verbose, freeze_panes)\u001b[0m\n\u001b[1;32m   2179\u001b[0m             \u001b[0mstartcol\u001b[0m\u001b[0;34m=\u001b[0m\u001b[0mstartcol\u001b[0m\u001b[0;34m,\u001b[0m\u001b[0;34m\u001b[0m\u001b[0;34m\u001b[0m\u001b[0m\n\u001b[1;32m   2180\u001b[0m             \u001b[0mfreeze_panes\u001b[0m\u001b[0;34m=\u001b[0m\u001b[0mfreeze_panes\u001b[0m\u001b[0;34m,\u001b[0m\u001b[0;34m\u001b[0m\u001b[0;34m\u001b[0m\u001b[0m\n\u001b[0;32m-> 2181\u001b[0;31m             \u001b[0mengine\u001b[0m\u001b[0;34m=\u001b[0m\u001b[0mengine\u001b[0m\u001b[0;34m,\u001b[0m\u001b[0;34m\u001b[0m\u001b[0;34m\u001b[0m\u001b[0m\n\u001b[0m\u001b[1;32m   2182\u001b[0m         )\n\u001b[1;32m   2183\u001b[0m \u001b[0;34m\u001b[0m\u001b[0m\n",
            "\u001b[0;32m/usr/local/lib/python3.6/dist-packages/pandas/io/formats/excel.py\u001b[0m in \u001b[0;36mwrite\u001b[0;34m(self, writer, sheet_name, startrow, startcol, freeze_panes, engine)\u001b[0m\n\u001b[1;32m    733\u001b[0m             \u001b[0mstartrow\u001b[0m\u001b[0;34m=\u001b[0m\u001b[0mstartrow\u001b[0m\u001b[0;34m,\u001b[0m\u001b[0;34m\u001b[0m\u001b[0;34m\u001b[0m\u001b[0m\n\u001b[1;32m    734\u001b[0m             \u001b[0mstartcol\u001b[0m\u001b[0;34m=\u001b[0m\u001b[0mstartcol\u001b[0m\u001b[0;34m,\u001b[0m\u001b[0;34m\u001b[0m\u001b[0;34m\u001b[0m\u001b[0m\n\u001b[0;32m--> 735\u001b[0;31m             \u001b[0mfreeze_panes\u001b[0m\u001b[0;34m=\u001b[0m\u001b[0mfreeze_panes\u001b[0m\u001b[0;34m,\u001b[0m\u001b[0;34m\u001b[0m\u001b[0;34m\u001b[0m\u001b[0m\n\u001b[0m\u001b[1;32m    736\u001b[0m         )\n\u001b[1;32m    737\u001b[0m         \u001b[0;32mif\u001b[0m \u001b[0mneed_save\u001b[0m\u001b[0;34m:\u001b[0m\u001b[0;34m\u001b[0m\u001b[0;34m\u001b[0m\u001b[0m\n",
            "\u001b[0;32m/usr/local/lib/python3.6/dist-packages/pandas/io/excel/_openpyxl.py\u001b[0m in \u001b[0;36mwrite_cells\u001b[0;34m(self, cells, sheet_name, startrow, startcol, freeze_panes)\u001b[0m\n\u001b[1;32m    427\u001b[0m         \u001b[0;32mfor\u001b[0m \u001b[0mcell\u001b[0m \u001b[0;32min\u001b[0m \u001b[0mcells\u001b[0m\u001b[0;34m:\u001b[0m\u001b[0;34m\u001b[0m\u001b[0;34m\u001b[0m\u001b[0m\n\u001b[1;32m    428\u001b[0m             xcell = wks.cell(\n\u001b[0;32m--> 429\u001b[0;31m                 \u001b[0mrow\u001b[0m\u001b[0;34m=\u001b[0m\u001b[0mstartrow\u001b[0m \u001b[0;34m+\u001b[0m \u001b[0mcell\u001b[0m\u001b[0;34m.\u001b[0m\u001b[0mrow\u001b[0m \u001b[0;34m+\u001b[0m \u001b[0;36m1\u001b[0m\u001b[0;34m,\u001b[0m \u001b[0mcolumn\u001b[0m\u001b[0;34m=\u001b[0m\u001b[0mstartcol\u001b[0m \u001b[0;34m+\u001b[0m \u001b[0mcell\u001b[0m\u001b[0;34m.\u001b[0m\u001b[0mcol\u001b[0m \u001b[0;34m+\u001b[0m \u001b[0;36m1\u001b[0m\u001b[0;34m\u001b[0m\u001b[0;34m\u001b[0m\u001b[0m\n\u001b[0m\u001b[1;32m    430\u001b[0m             )\n\u001b[1;32m    431\u001b[0m             \u001b[0mxcell\u001b[0m\u001b[0;34m.\u001b[0m\u001b[0mvalue\u001b[0m\u001b[0;34m,\u001b[0m \u001b[0mfmt\u001b[0m \u001b[0;34m=\u001b[0m \u001b[0mself\u001b[0m\u001b[0;34m.\u001b[0m\u001b[0m_value_with_fmt\u001b[0m\u001b[0;34m(\u001b[0m\u001b[0mcell\u001b[0m\u001b[0;34m.\u001b[0m\u001b[0mval\u001b[0m\u001b[0;34m)\u001b[0m\u001b[0;34m\u001b[0m\u001b[0;34m\u001b[0m\u001b[0m\n",
            "\u001b[0;32m/usr/local/lib/python3.6/dist-packages/openpyxl/worksheet/worksheet.py\u001b[0m in \u001b[0;36mcell\u001b[0;34m(self, row, column, value)\u001b[0m\n\u001b[1;32m    296\u001b[0m             \u001b[0;32mraise\u001b[0m \u001b[0mValueError\u001b[0m\u001b[0;34m(\u001b[0m\u001b[0;34m\"Row or column values must be at least 1\"\u001b[0m\u001b[0;34m)\u001b[0m\u001b[0;34m\u001b[0m\u001b[0;34m\u001b[0m\u001b[0m\n\u001b[1;32m    297\u001b[0m \u001b[0;34m\u001b[0m\u001b[0m\n\u001b[0;32m--> 298\u001b[0;31m         \u001b[0mcell\u001b[0m \u001b[0;34m=\u001b[0m \u001b[0mself\u001b[0m\u001b[0;34m.\u001b[0m\u001b[0m_get_cell\u001b[0m\u001b[0;34m(\u001b[0m\u001b[0mrow\u001b[0m\u001b[0;34m,\u001b[0m \u001b[0mcolumn\u001b[0m\u001b[0;34m)\u001b[0m\u001b[0;34m\u001b[0m\u001b[0;34m\u001b[0m\u001b[0m\n\u001b[0m\u001b[1;32m    299\u001b[0m         \u001b[0;32mif\u001b[0m \u001b[0mvalue\u001b[0m \u001b[0;32mis\u001b[0m \u001b[0;32mnot\u001b[0m \u001b[0;32mNone\u001b[0m\u001b[0;34m:\u001b[0m\u001b[0;34m\u001b[0m\u001b[0;34m\u001b[0m\u001b[0m\n\u001b[1;32m    300\u001b[0m             \u001b[0mcell\u001b[0m\u001b[0;34m.\u001b[0m\u001b[0mvalue\u001b[0m \u001b[0;34m=\u001b[0m \u001b[0mvalue\u001b[0m\u001b[0;34m\u001b[0m\u001b[0;34m\u001b[0m\u001b[0m\n",
            "\u001b[0;32m/usr/local/lib/python3.6/dist-packages/openpyxl/worksheet/worksheet.py\u001b[0m in \u001b[0;36m_get_cell\u001b[0;34m(self, row, column)\u001b[0m\n\u001b[1;32m    310\u001b[0m         \u001b[0mcoordinate\u001b[0m \u001b[0;34m=\u001b[0m \u001b[0;34m(\u001b[0m\u001b[0mrow\u001b[0m\u001b[0;34m,\u001b[0m \u001b[0mcolumn\u001b[0m\u001b[0;34m)\u001b[0m\u001b[0;34m\u001b[0m\u001b[0;34m\u001b[0m\u001b[0m\n\u001b[1;32m    311\u001b[0m         \u001b[0;32mif\u001b[0m \u001b[0;32mnot\u001b[0m \u001b[0mcoordinate\u001b[0m \u001b[0;32min\u001b[0m \u001b[0mself\u001b[0m\u001b[0;34m.\u001b[0m\u001b[0m_cells\u001b[0m\u001b[0;34m:\u001b[0m\u001b[0;34m\u001b[0m\u001b[0;34m\u001b[0m\u001b[0m\n\u001b[0;32m--> 312\u001b[0;31m             \u001b[0mcell\u001b[0m \u001b[0;34m=\u001b[0m \u001b[0mCell\u001b[0m\u001b[0;34m(\u001b[0m\u001b[0mself\u001b[0m\u001b[0;34m,\u001b[0m \u001b[0mrow\u001b[0m\u001b[0;34m=\u001b[0m\u001b[0mrow\u001b[0m\u001b[0;34m,\u001b[0m \u001b[0mcol_idx\u001b[0m\u001b[0;34m=\u001b[0m\u001b[0mcolumn\u001b[0m\u001b[0;34m)\u001b[0m\u001b[0;34m\u001b[0m\u001b[0;34m\u001b[0m\u001b[0m\n\u001b[0m\u001b[1;32m    313\u001b[0m             \u001b[0mself\u001b[0m\u001b[0;34m.\u001b[0m\u001b[0m_add_cell\u001b[0m\u001b[0;34m(\u001b[0m\u001b[0mcell\u001b[0m\u001b[0;34m)\u001b[0m\u001b[0;34m\u001b[0m\u001b[0;34m\u001b[0m\u001b[0m\n\u001b[1;32m    314\u001b[0m         \u001b[0;32mreturn\u001b[0m \u001b[0mself\u001b[0m\u001b[0;34m.\u001b[0m\u001b[0m_cells\u001b[0m\u001b[0;34m[\u001b[0m\u001b[0mcoordinate\u001b[0m\u001b[0;34m]\u001b[0m\u001b[0;34m\u001b[0m\u001b[0;34m\u001b[0m\u001b[0m\n",
            "\u001b[0;32m/usr/local/lib/python3.6/dist-packages/openpyxl/cell/cell.py\u001b[0m in \u001b[0;36m__init__\u001b[0;34m(self, worksheet, column, row, value, col_idx, style_array)\u001b[0m\n\u001b[1;32m    105\u001b[0m \u001b[0;34m\u001b[0m\u001b[0m\n\u001b[1;32m    106\u001b[0m     \u001b[0;32mdef\u001b[0m \u001b[0m__init__\u001b[0m\u001b[0;34m(\u001b[0m\u001b[0mself\u001b[0m\u001b[0;34m,\u001b[0m \u001b[0mworksheet\u001b[0m\u001b[0;34m,\u001b[0m \u001b[0mcolumn\u001b[0m\u001b[0;34m=\u001b[0m\u001b[0;32mNone\u001b[0m\u001b[0;34m,\u001b[0m \u001b[0mrow\u001b[0m\u001b[0;34m=\u001b[0m\u001b[0;32mNone\u001b[0m\u001b[0;34m,\u001b[0m \u001b[0mvalue\u001b[0m\u001b[0;34m=\u001b[0m\u001b[0;32mNone\u001b[0m\u001b[0;34m,\u001b[0m \u001b[0mcol_idx\u001b[0m\u001b[0;34m=\u001b[0m\u001b[0;32mNone\u001b[0m\u001b[0;34m,\u001b[0m \u001b[0mstyle_array\u001b[0m\u001b[0;34m=\u001b[0m\u001b[0;32mNone\u001b[0m\u001b[0;34m)\u001b[0m\u001b[0;34m:\u001b[0m\u001b[0;34m\u001b[0m\u001b[0;34m\u001b[0m\u001b[0m\n\u001b[0;32m--> 107\u001b[0;31m         \u001b[0msuper\u001b[0m\u001b[0;34m(\u001b[0m\u001b[0mCell\u001b[0m\u001b[0;34m,\u001b[0m \u001b[0mself\u001b[0m\u001b[0;34m)\u001b[0m\u001b[0;34m.\u001b[0m\u001b[0m__init__\u001b[0m\u001b[0;34m(\u001b[0m\u001b[0mworksheet\u001b[0m\u001b[0;34m,\u001b[0m \u001b[0mstyle_array\u001b[0m\u001b[0;34m)\u001b[0m\u001b[0;34m\u001b[0m\u001b[0;34m\u001b[0m\u001b[0m\n\u001b[0m\u001b[1;32m    108\u001b[0m         \u001b[0mself\u001b[0m\u001b[0;34m.\u001b[0m\u001b[0mrow\u001b[0m \u001b[0;34m=\u001b[0m \u001b[0mrow\u001b[0m\u001b[0;34m\u001b[0m\u001b[0;34m\u001b[0m\u001b[0m\n\u001b[1;32m    109\u001b[0m         \u001b[0;34m\"\"\"Row number of this cell (1-based)\"\"\"\u001b[0m\u001b[0;34m\u001b[0m\u001b[0;34m\u001b[0m\u001b[0m\n",
            "\u001b[0;32m/usr/local/lib/python3.6/dist-packages/openpyxl/styles/styleable.py\u001b[0m in \u001b[0;36m__init__\u001b[0;34m(self, sheet, style_array)\u001b[0m\n\u001b[1;32m    129\u001b[0m     \u001b[0;32mdef\u001b[0m \u001b[0m__init__\u001b[0m\u001b[0;34m(\u001b[0m\u001b[0mself\u001b[0m\u001b[0;34m,\u001b[0m \u001b[0msheet\u001b[0m\u001b[0;34m,\u001b[0m \u001b[0mstyle_array\u001b[0m\u001b[0;34m=\u001b[0m\u001b[0;32mNone\u001b[0m\u001b[0;34m)\u001b[0m\u001b[0;34m:\u001b[0m\u001b[0;34m\u001b[0m\u001b[0;34m\u001b[0m\u001b[0m\n\u001b[1;32m    130\u001b[0m         \u001b[0mself\u001b[0m\u001b[0;34m.\u001b[0m\u001b[0mparent\u001b[0m \u001b[0;34m=\u001b[0m \u001b[0msheet\u001b[0m\u001b[0;34m\u001b[0m\u001b[0;34m\u001b[0m\u001b[0m\n\u001b[0;32m--> 131\u001b[0;31m         \u001b[0;32mif\u001b[0m \u001b[0mstyle_array\u001b[0m \u001b[0;32mis\u001b[0m \u001b[0;32mnot\u001b[0m \u001b[0;32mNone\u001b[0m\u001b[0;34m:\u001b[0m\u001b[0;34m\u001b[0m\u001b[0;34m\u001b[0m\u001b[0m\n\u001b[0m\u001b[1;32m    132\u001b[0m             \u001b[0mstyle_array\u001b[0m \u001b[0;34m=\u001b[0m \u001b[0mStyleArray\u001b[0m\u001b[0;34m(\u001b[0m\u001b[0mstyle_array\u001b[0m\u001b[0;34m)\u001b[0m\u001b[0;34m\u001b[0m\u001b[0;34m\u001b[0m\u001b[0m\n\u001b[1;32m    133\u001b[0m         \u001b[0mself\u001b[0m\u001b[0;34m.\u001b[0m\u001b[0m_style\u001b[0m \u001b[0;34m=\u001b[0m \u001b[0mstyle_array\u001b[0m\u001b[0;34m\u001b[0m\u001b[0;34m\u001b[0m\u001b[0m\n",
            "\u001b[0;31mKeyboardInterrupt\u001b[0m: "
          ]
        }
      ]
    },
    {
      "cell_type": "markdown",
      "metadata": {
        "id": "SEvwQcm6RJ75",
        "colab_type": "text"
      },
      "source": [
        "### Data Exploration"
      ]
    },
    {
      "cell_type": "markdown",
      "metadata": {
        "id": "rjFGSMx1RJ75",
        "colab_type": "text"
      },
      "source": [
        "<img src=\"reasonForCancellarion.JPG\" alt=\"xxx\" style=\"width: 600px;\"/>"
      ]
    },
    {
      "cell_type": "markdown",
      "metadata": {
        "id": "37TGQC1bRJ75",
        "colab_type": "text"
      },
      "source": [
        "<img src=\"way.JPG\" alt=\"xxx\" style=\"width: 600px;\"/>"
      ]
    },
    {
      "cell_type": "code",
      "metadata": {
        "id": "z-9KI1UqRJ76",
        "colab_type": "code",
        "colab": {}
      },
      "source": [
        ""
      ],
      "execution_count": 0,
      "outputs": []
    },
    {
      "cell_type": "markdown",
      "metadata": {
        "id": "_36AHw87RJ76",
        "colab_type": "text"
      },
      "source": [
        "## Feedback"
      ]
    },
    {
      "cell_type": "code",
      "metadata": {
        "id": "yT4QpMtYRJ76",
        "colab_type": "code",
        "colab": {
          "base_uri": "https://localhost:8080/",
          "height": 380
        },
        "outputId": "5f09da6e-71a9-4502-a0ce-deff268c3787"
      },
      "source": [
        "# Load andate and time when YFT become aware of this luggage information\n",
        "df_feedback = pd.DataFrame(pd.read_csv(\"/content/drive/My Drive/Business/06 - Case Services Demand Forecasting-20200501/YFT_Feedback.csv\", sep=\";\"))\n",
        "df_feedback.head()"
      ],
      "execution_count": 57,
      "outputs": [
        {
          "output_type": "execute_result",
          "data": {
            "text/html": [
              "<div>\n",
              "<style scoped>\n",
              "    .dataframe tbody tr th:only-of-type {\n",
              "        vertical-align: middle;\n",
              "    }\n",
              "\n",
              "    .dataframe tbody tr th {\n",
              "        vertical-align: top;\n",
              "    }\n",
              "\n",
              "    .dataframe thead th {\n",
              "        text-align: right;\n",
              "    }\n",
              "</style>\n",
              "<table border=\"1\" class=\"dataframe\">\n",
              "  <thead>\n",
              "    <tr style=\"text-align: right;\">\n",
              "      <th></th>\n",
              "      <th>id</th>\n",
              "      <th>book_id</th>\n",
              "      <th>codigo</th>\n",
              "      <th>welcome_arrival</th>\n",
              "      <th>welcome_departure</th>\n",
              "      <th>punctual_arrival</th>\n",
              "      <th>clean_in_arrival</th>\n",
              "      <th>clean_out_arrival</th>\n",
              "      <th>clean_in_departure</th>\n",
              "      <th>clean_out_departure</th>\n",
              "      <th>freegift</th>\n",
              "      <th>punctual_departure</th>\n",
              "      <th>driving_arrival</th>\n",
              "      <th>driving_departure</th>\n",
              "      <th>curteous_arrival</th>\n",
              "      <th>curteous_departure</th>\n",
              "      <th>website</th>\n",
              "      <th>experience</th>\n",
              "      <th>quality</th>\n",
              "      <th>comments</th>\n",
              "      <th>timer</th>\n",
              "    </tr>\n",
              "  </thead>\n",
              "  <tbody>\n",
              "    <tr>\n",
              "      <th>0</th>\n",
              "      <td>1</td>\n",
              "      <td>4319</td>\n",
              "      <td>RAL</td>\n",
              "      <td>5</td>\n",
              "      <td>0</td>\n",
              "      <td>5</td>\n",
              "      <td>5</td>\n",
              "      <td>5</td>\n",
              "      <td>0</td>\n",
              "      <td>0</td>\n",
              "      <td>5</td>\n",
              "      <td>5</td>\n",
              "      <td>5</td>\n",
              "      <td>5</td>\n",
              "      <td>5</td>\n",
              "      <td>4</td>\n",
              "      <td>3</td>\n",
              "      <td>5</td>\n",
              "      <td>0</td>\n",
              "      <td>NaN</td>\n",
              "      <td>NaN</td>\n",
              "    </tr>\n",
              "    <tr>\n",
              "      <th>1</th>\n",
              "      <td>2</td>\n",
              "      <td>4256</td>\n",
              "      <td>RAL</td>\n",
              "      <td>5</td>\n",
              "      <td>0</td>\n",
              "      <td>5</td>\n",
              "      <td>5</td>\n",
              "      <td>5</td>\n",
              "      <td>0</td>\n",
              "      <td>0</td>\n",
              "      <td>5</td>\n",
              "      <td>5</td>\n",
              "      <td>5</td>\n",
              "      <td>5</td>\n",
              "      <td>5</td>\n",
              "      <td>5</td>\n",
              "      <td>5</td>\n",
              "      <td>5</td>\n",
              "      <td>0</td>\n",
              "      <td>NaN</td>\n",
              "      <td>NaN</td>\n",
              "    </tr>\n",
              "    <tr>\n",
              "      <th>2</th>\n",
              "      <td>3</td>\n",
              "      <td>2758</td>\n",
              "      <td>RAL</td>\n",
              "      <td>5</td>\n",
              "      <td>0</td>\n",
              "      <td>5</td>\n",
              "      <td>5</td>\n",
              "      <td>5</td>\n",
              "      <td>0</td>\n",
              "      <td>0</td>\n",
              "      <td>5</td>\n",
              "      <td>5</td>\n",
              "      <td>5</td>\n",
              "      <td>5</td>\n",
              "      <td>5</td>\n",
              "      <td>5</td>\n",
              "      <td>5</td>\n",
              "      <td>5</td>\n",
              "      <td>0</td>\n",
              "      <td>NaN</td>\n",
              "      <td>NaN</td>\n",
              "    </tr>\n",
              "    <tr>\n",
              "      <th>3</th>\n",
              "      <td>4</td>\n",
              "      <td>4095</td>\n",
              "      <td>RAL</td>\n",
              "      <td>4</td>\n",
              "      <td>0</td>\n",
              "      <td>5</td>\n",
              "      <td>5</td>\n",
              "      <td>5</td>\n",
              "      <td>0</td>\n",
              "      <td>0</td>\n",
              "      <td>5</td>\n",
              "      <td>5</td>\n",
              "      <td>5</td>\n",
              "      <td>5</td>\n",
              "      <td>5</td>\n",
              "      <td>4</td>\n",
              "      <td>4</td>\n",
              "      <td>5</td>\n",
              "      <td>0</td>\n",
              "      <td>Great Service. Would use again.</td>\n",
              "      <td>NaN</td>\n",
              "    </tr>\n",
              "    <tr>\n",
              "      <th>4</th>\n",
              "      <td>5</td>\n",
              "      <td>3796</td>\n",
              "      <td>RAL</td>\n",
              "      <td>5</td>\n",
              "      <td>0</td>\n",
              "      <td>5</td>\n",
              "      <td>4</td>\n",
              "      <td>3</td>\n",
              "      <td>0</td>\n",
              "      <td>0</td>\n",
              "      <td>5</td>\n",
              "      <td>5</td>\n",
              "      <td>4</td>\n",
              "      <td>4</td>\n",
              "      <td>5</td>\n",
              "      <td>4</td>\n",
              "      <td>3</td>\n",
              "      <td>4</td>\n",
              "      <td>0</td>\n",
              "      <td>Please note I book on behalf of people visitin...</td>\n",
              "      <td>NaN</td>\n",
              "    </tr>\n",
              "  </tbody>\n",
              "</table>\n",
              "</div>"
            ],
            "text/plain": [
              "   id  book_id  ...                                           comments  timer\n",
              "0   1     4319  ...                                                NaN    NaN\n",
              "1   2     4256  ...                                                NaN    NaN\n",
              "2   3     2758  ...                                                NaN    NaN\n",
              "3   4     4095  ...                   Great Service. Would use again.     NaN\n",
              "4   5     3796  ...  Please note I book on behalf of people visitin...    NaN\n",
              "\n",
              "[5 rows x 21 columns]"
            ]
          },
          "metadata": {
            "tags": []
          },
          "execution_count": 57
        }
      ]
    },
    {
      "cell_type": "code",
      "metadata": {
        "id": "yk_AFG6VRJ77",
        "colab_type": "code",
        "colab": {}
      },
      "source": [
        "df_feedback=df_feedback.rename(columns={\"id\": \"feedbackID\"})\n",
        "df_feedback=df_feedback.rename(columns={\"book_id\": \"bookingID\"})\n",
        "df_feedback=df_feedback.rename(columns={\"codigo\": \"typeOfService\"})\n"
      ],
      "execution_count": 0,
      "outputs": []
    },
    {
      "cell_type": "markdown",
      "metadata": {
        "id": "DaekSGQ8RJ78",
        "colab_type": "text"
      },
      "source": [
        "### Dataset description\n",
        "\n",
        "- **feedbackID**: feedback ID\n",
        "- **bookingID**: booking ID\n",
        "- **typeOfService**:  code for type of service. Could be \"GOF\" for \"golf round trip\" or 3 letters that mean: \n",
        "1st letter: type of service purchase (O:One way, R:Return)\n",
        "2nd letter: Origin (A:Airport, L:Location)\n",
        "3rd letter: Destination (A:Airport, L:Location)\n",
        "- **welcome_arrival**: rating on how customer was welcomed at arrival\n",
        "- **welcome_departure**:  rating on how customer was welcomed at departure\n",
        "- **punctual_arrival**: rating on service punctuality at arrival\n",
        "- **clean_in_arrival**: rating on vehicle cleaning at arrival\n",
        "- **clean_out_arrival**: rating on vehicle cleaning and check for lost items at\n",
        "the end of the arrival service\n",
        "- **clean_in_departure**: rating on vehicle cleaning at departure\n",
        "- **clean_out_departure**:  rating on vehicle cleaning and check for lost items\n",
        "at the end of the departure service\n",
        "- **free_gift**: rating on free amenities offered\n",
        "- **punctual_departure**: rating on service punctuality at departure\n",
        "- **driving_arrival**: rating on driving quality at arrival\n",
        "- **driving_departure**: rating on driving quality at departure\n",
        "- **curteous_arrival**: rating on driver courteousness at arrival\n",
        "- **curteous_departure**: rating on driver courteousness at departure\n",
        "- **website**: rating of YFT website quality\n",
        "- **experience**: rating on the overall experience\n",
        "- **quality**: rating on the overall quality\n",
        "- **comments**:  customers own words on the service experience\n",
        "- **timer**: date and time of when the feedback given \n"
      ]
    },
    {
      "cell_type": "markdown",
      "metadata": {
        "id": "fL69DnQDRJ78",
        "colab_type": "text"
      },
      "source": [
        "### Data Understanding"
      ]
    },
    {
      "cell_type": "code",
      "metadata": {
        "id": "WRmHJZjdRJ78",
        "colab_type": "code",
        "colab": {
          "base_uri": "https://localhost:8080/",
          "height": 700
        },
        "outputId": "990658fe-1b91-4e9e-da23-c88662a59e4b"
      },
      "source": [
        "summary(df_feedback)"
      ],
      "execution_count": 59,
      "outputs": [
        {
          "output_type": "execute_result",
          "data": {
            "text/html": [
              "<div>\n",
              "<style scoped>\n",
              "    .dataframe tbody tr th:only-of-type {\n",
              "        vertical-align: middle;\n",
              "    }\n",
              "\n",
              "    .dataframe tbody tr th {\n",
              "        vertical-align: top;\n",
              "    }\n",
              "\n",
              "    .dataframe thead th {\n",
              "        text-align: right;\n",
              "    }\n",
              "</style>\n",
              "<table border=\"1\" class=\"dataframe\">\n",
              "  <thead>\n",
              "    <tr style=\"text-align: right;\">\n",
              "      <th></th>\n",
              "      <th>count</th>\n",
              "      <th>unique</th>\n",
              "      <th>top</th>\n",
              "      <th>freq</th>\n",
              "      <th>mean</th>\n",
              "      <th>std</th>\n",
              "      <th>min</th>\n",
              "      <th>25%</th>\n",
              "      <th>50%</th>\n",
              "      <th>75%</th>\n",
              "      <th>max</th>\n",
              "    </tr>\n",
              "  </thead>\n",
              "  <tbody>\n",
              "    <tr>\n",
              "      <th>feedbackID</th>\n",
              "      <td>82724</td>\n",
              "      <td>NaN</td>\n",
              "      <td>NaN</td>\n",
              "      <td>NaN</td>\n",
              "      <td>61861.9</td>\n",
              "      <td>33741.2</td>\n",
              "      <td>1</td>\n",
              "      <td>32444.5</td>\n",
              "      <td>69826.5</td>\n",
              "      <td>90509.2</td>\n",
              "      <td>111191</td>\n",
              "    </tr>\n",
              "    <tr>\n",
              "      <th>bookingID</th>\n",
              "      <td>82724</td>\n",
              "      <td>NaN</td>\n",
              "      <td>NaN</td>\n",
              "      <td>NaN</td>\n",
              "      <td>170777</td>\n",
              "      <td>93810.4</td>\n",
              "      <td>130</td>\n",
              "      <td>91396.8</td>\n",
              "      <td>165716</td>\n",
              "      <td>255838</td>\n",
              "      <td>330075</td>\n",
              "    </tr>\n",
              "    <tr>\n",
              "      <th>typeOfService</th>\n",
              "      <td>82724</td>\n",
              "      <td>4</td>\n",
              "      <td>RAL</td>\n",
              "      <td>65681</td>\n",
              "      <td>NaN</td>\n",
              "      <td>NaN</td>\n",
              "      <td>NaN</td>\n",
              "      <td>NaN</td>\n",
              "      <td>NaN</td>\n",
              "      <td>NaN</td>\n",
              "      <td>NaN</td>\n",
              "    </tr>\n",
              "    <tr>\n",
              "      <th>welcome_arrival</th>\n",
              "      <td>82724</td>\n",
              "      <td>NaN</td>\n",
              "      <td>NaN</td>\n",
              "      <td>NaN</td>\n",
              "      <td>4.52904</td>\n",
              "      <td>1.31093</td>\n",
              "      <td>0</td>\n",
              "      <td>5</td>\n",
              "      <td>5</td>\n",
              "      <td>5</td>\n",
              "      <td>5</td>\n",
              "    </tr>\n",
              "    <tr>\n",
              "      <th>welcome_departure</th>\n",
              "      <td>82724</td>\n",
              "      <td>NaN</td>\n",
              "      <td>NaN</td>\n",
              "      <td>NaN</td>\n",
              "      <td>1.53422</td>\n",
              "      <td>2.28492</td>\n",
              "      <td>0</td>\n",
              "      <td>0</td>\n",
              "      <td>0</td>\n",
              "      <td>5</td>\n",
              "      <td>5</td>\n",
              "    </tr>\n",
              "    <tr>\n",
              "      <th>punctual_arrival</th>\n",
              "      <td>82724</td>\n",
              "      <td>NaN</td>\n",
              "      <td>NaN</td>\n",
              "      <td>NaN</td>\n",
              "      <td>4.33596</td>\n",
              "      <td>1.62849</td>\n",
              "      <td>0</td>\n",
              "      <td>5</td>\n",
              "      <td>5</td>\n",
              "      <td>5</td>\n",
              "      <td>5</td>\n",
              "    </tr>\n",
              "    <tr>\n",
              "      <th>clean_in_arrival</th>\n",
              "      <td>82724</td>\n",
              "      <td>NaN</td>\n",
              "      <td>NaN</td>\n",
              "      <td>NaN</td>\n",
              "      <td>4.61461</td>\n",
              "      <td>1.1821</td>\n",
              "      <td>0</td>\n",
              "      <td>5</td>\n",
              "      <td>5</td>\n",
              "      <td>5</td>\n",
              "      <td>5</td>\n",
              "    </tr>\n",
              "    <tr>\n",
              "      <th>clean_out_arrival</th>\n",
              "      <td>82724</td>\n",
              "      <td>NaN</td>\n",
              "      <td>NaN</td>\n",
              "      <td>NaN</td>\n",
              "      <td>4.6072</td>\n",
              "      <td>1.18441</td>\n",
              "      <td>0</td>\n",
              "      <td>5</td>\n",
              "      <td>5</td>\n",
              "      <td>5</td>\n",
              "      <td>5</td>\n",
              "    </tr>\n",
              "    <tr>\n",
              "      <th>clean_in_departure</th>\n",
              "      <td>82724</td>\n",
              "      <td>NaN</td>\n",
              "      <td>NaN</td>\n",
              "      <td>NaN</td>\n",
              "      <td>1.56685</td>\n",
              "      <td>2.30523</td>\n",
              "      <td>0</td>\n",
              "      <td>0</td>\n",
              "      <td>0</td>\n",
              "      <td>5</td>\n",
              "      <td>5</td>\n",
              "    </tr>\n",
              "    <tr>\n",
              "      <th>clean_out_departure</th>\n",
              "      <td>82724</td>\n",
              "      <td>NaN</td>\n",
              "      <td>NaN</td>\n",
              "      <td>NaN</td>\n",
              "      <td>1.56695</td>\n",
              "      <td>2.30517</td>\n",
              "      <td>0</td>\n",
              "      <td>0</td>\n",
              "      <td>0</td>\n",
              "      <td>5</td>\n",
              "      <td>5</td>\n",
              "    </tr>\n",
              "    <tr>\n",
              "      <th>freegift</th>\n",
              "      <td>82724</td>\n",
              "      <td>NaN</td>\n",
              "      <td>NaN</td>\n",
              "      <td>NaN</td>\n",
              "      <td>1.03144</td>\n",
              "      <td>2.00667</td>\n",
              "      <td>0</td>\n",
              "      <td>0</td>\n",
              "      <td>0</td>\n",
              "      <td>0</td>\n",
              "      <td>5</td>\n",
              "    </tr>\n",
              "    <tr>\n",
              "      <th>punctual_departure</th>\n",
              "      <td>82724</td>\n",
              "      <td>NaN</td>\n",
              "      <td>NaN</td>\n",
              "      <td>NaN</td>\n",
              "      <td>4.4265</td>\n",
              "      <td>1.50799</td>\n",
              "      <td>0</td>\n",
              "      <td>5</td>\n",
              "      <td>5</td>\n",
              "      <td>5</td>\n",
              "      <td>5</td>\n",
              "    </tr>\n",
              "    <tr>\n",
              "      <th>driving_arrival</th>\n",
              "      <td>82724</td>\n",
              "      <td>NaN</td>\n",
              "      <td>NaN</td>\n",
              "      <td>NaN</td>\n",
              "      <td>4.2911</td>\n",
              "      <td>1.63011</td>\n",
              "      <td>0</td>\n",
              "      <td>5</td>\n",
              "      <td>5</td>\n",
              "      <td>5</td>\n",
              "      <td>5</td>\n",
              "    </tr>\n",
              "    <tr>\n",
              "      <th>driving_departure</th>\n",
              "      <td>82724</td>\n",
              "      <td>NaN</td>\n",
              "      <td>NaN</td>\n",
              "      <td>NaN</td>\n",
              "      <td>4.3949</td>\n",
              "      <td>1.50554</td>\n",
              "      <td>0</td>\n",
              "      <td>5</td>\n",
              "      <td>5</td>\n",
              "      <td>5</td>\n",
              "      <td>5</td>\n",
              "    </tr>\n",
              "    <tr>\n",
              "      <th>curteous_arrival</th>\n",
              "      <td>82724</td>\n",
              "      <td>NaN</td>\n",
              "      <td>NaN</td>\n",
              "      <td>NaN</td>\n",
              "      <td>4.3169</td>\n",
              "      <td>1.62502</td>\n",
              "      <td>0</td>\n",
              "      <td>5</td>\n",
              "      <td>5</td>\n",
              "      <td>5</td>\n",
              "      <td>5</td>\n",
              "    </tr>\n",
              "    <tr>\n",
              "      <th>curteous_departure</th>\n",
              "      <td>82724</td>\n",
              "      <td>NaN</td>\n",
              "      <td>NaN</td>\n",
              "      <td>NaN</td>\n",
              "      <td>4.42679</td>\n",
              "      <td>1.49435</td>\n",
              "      <td>0</td>\n",
              "      <td>5</td>\n",
              "      <td>5</td>\n",
              "      <td>5</td>\n",
              "      <td>5</td>\n",
              "    </tr>\n",
              "    <tr>\n",
              "      <th>website</th>\n",
              "      <td>82724</td>\n",
              "      <td>NaN</td>\n",
              "      <td>NaN</td>\n",
              "      <td>NaN</td>\n",
              "      <td>4.64765</td>\n",
              "      <td>0.940216</td>\n",
              "      <td>0</td>\n",
              "      <td>5</td>\n",
              "      <td>5</td>\n",
              "      <td>5</td>\n",
              "      <td>5</td>\n",
              "    </tr>\n",
              "    <tr>\n",
              "      <th>experience</th>\n",
              "      <td>82724</td>\n",
              "      <td>NaN</td>\n",
              "      <td>NaN</td>\n",
              "      <td>NaN</td>\n",
              "      <td>6.57676</td>\n",
              "      <td>2.50105</td>\n",
              "      <td>0</td>\n",
              "      <td>5</td>\n",
              "      <td>5</td>\n",
              "      <td>10</td>\n",
              "      <td>10</td>\n",
              "    </tr>\n",
              "    <tr>\n",
              "      <th>quality</th>\n",
              "      <td>82724</td>\n",
              "      <td>NaN</td>\n",
              "      <td>NaN</td>\n",
              "      <td>NaN</td>\n",
              "      <td>3.01845</td>\n",
              "      <td>2.33342</td>\n",
              "      <td>0</td>\n",
              "      <td>0</td>\n",
              "      <td>5</td>\n",
              "      <td>5</td>\n",
              "      <td>5</td>\n",
              "    </tr>\n",
              "    <tr>\n",
              "      <th>comments</th>\n",
              "      <td>54695</td>\n",
              "      <td>51113</td>\n",
              "      <td>Excellent service</td>\n",
              "      <td>302</td>\n",
              "      <td>NaN</td>\n",
              "      <td>NaN</td>\n",
              "      <td>NaN</td>\n",
              "      <td>NaN</td>\n",
              "      <td>NaN</td>\n",
              "      <td>NaN</td>\n",
              "      <td>NaN</td>\n",
              "    </tr>\n",
              "    <tr>\n",
              "      <th>timer</th>\n",
              "      <td>30141</td>\n",
              "      <td>30108</td>\n",
              "      <td>2019-07-19 09:40:24</td>\n",
              "      <td>2</td>\n",
              "      <td>NaN</td>\n",
              "      <td>NaN</td>\n",
              "      <td>NaN</td>\n",
              "      <td>NaN</td>\n",
              "      <td>NaN</td>\n",
              "      <td>NaN</td>\n",
              "      <td>NaN</td>\n",
              "    </tr>\n",
              "  </tbody>\n",
              "</table>\n",
              "</div>"
            ],
            "text/plain": [
              "                     count unique  ...      75%     max\n",
              "feedbackID           82724    NaN  ...  90509.2  111191\n",
              "bookingID            82724    NaN  ...   255838  330075\n",
              "typeOfService        82724      4  ...      NaN     NaN\n",
              "welcome_arrival      82724    NaN  ...        5       5\n",
              "welcome_departure    82724    NaN  ...        5       5\n",
              "punctual_arrival     82724    NaN  ...        5       5\n",
              "clean_in_arrival     82724    NaN  ...        5       5\n",
              "clean_out_arrival    82724    NaN  ...        5       5\n",
              "clean_in_departure   82724    NaN  ...        5       5\n",
              "clean_out_departure  82724    NaN  ...        5       5\n",
              "freegift             82724    NaN  ...        0       5\n",
              "punctual_departure   82724    NaN  ...        5       5\n",
              "driving_arrival      82724    NaN  ...        5       5\n",
              "driving_departure    82724    NaN  ...        5       5\n",
              "curteous_arrival     82724    NaN  ...        5       5\n",
              "curteous_departure   82724    NaN  ...        5       5\n",
              "website              82724    NaN  ...        5       5\n",
              "experience           82724    NaN  ...       10      10\n",
              "quality              82724    NaN  ...        5       5\n",
              "comments             54695  51113  ...      NaN     NaN\n",
              "timer                30141  30108  ...      NaN     NaN\n",
              "\n",
              "[21 rows x 11 columns]"
            ]
          },
          "metadata": {
            "tags": []
          },
          "execution_count": 59
        }
      ]
    },
    {
      "cell_type": "code",
      "metadata": {
        "id": "ZF8UiKpFRJ79",
        "colab_type": "code",
        "colab": {}
      },
      "source": [
        "# Check missing values\n",
        "print(df_feedback.isnull().sum())"
      ],
      "execution_count": 0,
      "outputs": []
    },
    {
      "cell_type": "code",
      "metadata": {
        "id": "j3OpczqdRJ79",
        "colab_type": "code",
        "colab": {
          "base_uri": "https://localhost:8080/",
          "height": 34
        },
        "outputId": "459b5c62-13f9-4e18-bbd2-2c9d3041c3db"
      },
      "source": [
        "df_feedback.feedbackID.unique()"
      ],
      "execution_count": 61,
      "outputs": [
        {
          "output_type": "execute_result",
          "data": {
            "text/plain": [
              "array([     1,      2,      3, ..., 111189, 111190, 111191])"
            ]
          },
          "metadata": {
            "tags": []
          },
          "execution_count": 61
        }
      ]
    },
    {
      "cell_type": "code",
      "metadata": {
        "id": "6-lzhmeHRJ7-",
        "colab_type": "code",
        "colab": {
          "base_uri": "https://localhost:8080/",
          "height": 34
        },
        "outputId": "8e0abd87-4faa-4e00-9465-c35bd1bb77fd"
      },
      "source": [
        "df_feedback.bookingID.unique()"
      ],
      "execution_count": 62,
      "outputs": [
        {
          "output_type": "execute_result",
          "data": {
            "text/plain": [
              "array([  4319,   4256,   2758, ..., 287026, 329632, 330056])"
            ]
          },
          "metadata": {
            "tags": []
          },
          "execution_count": 62
        }
      ]
    },
    {
      "cell_type": "code",
      "metadata": {
        "id": "p8lxPW2sRJ7_",
        "colab_type": "code",
        "colab": {
          "base_uri": "https://localhost:8080/",
          "height": 34
        },
        "outputId": "e870b992-827c-4268-dfab-cfb6aa44617c"
      },
      "source": [
        "df_feedback.typeOfService.unique()"
      ],
      "execution_count": 63,
      "outputs": [
        {
          "output_type": "execute_result",
          "data": {
            "text/plain": [
              "array(['RAL', 'OLA', 'OAL', 'OLL'], dtype=object)"
            ]
          },
          "metadata": {
            "tags": []
          },
          "execution_count": 63
        }
      ]
    },
    {
      "cell_type": "code",
      "metadata": {
        "id": "ZzuBWRZuRJ8A",
        "colab_type": "code",
        "colab": {}
      },
      "source": [
        "df_feedback.welcome_arrival.unique()"
      ],
      "execution_count": 0,
      "outputs": []
    },
    {
      "cell_type": "code",
      "metadata": {
        "id": "wCIyQST3RJ8A",
        "colab_type": "code",
        "colab": {
          "base_uri": "https://localhost:8080/",
          "height": 34
        },
        "outputId": "15a22ffd-7f71-45f5-e227-87a213be7962"
      },
      "source": [
        "df_feedback.welcome_departure.unique()"
      ],
      "execution_count": 66,
      "outputs": [
        {
          "output_type": "execute_result",
          "data": {
            "text/plain": [
              "array([0, 5, 4, 2, 3, 1])"
            ]
          },
          "metadata": {
            "tags": []
          },
          "execution_count": 66
        }
      ]
    },
    {
      "cell_type": "code",
      "metadata": {
        "id": "QTIfK1UlRJ8B",
        "colab_type": "code",
        "colab": {
          "base_uri": "https://localhost:8080/",
          "height": 34
        },
        "outputId": "b4731fa4-cc91-4986-9755-2752a5fc7397"
      },
      "source": [
        "df_feedback.punctual_arrival.unique()"
      ],
      "execution_count": 65,
      "outputs": [
        {
          "output_type": "execute_result",
          "data": {
            "text/plain": [
              "array([5, 4, 3, 0, 1, 2])"
            ]
          },
          "metadata": {
            "tags": []
          },
          "execution_count": 65
        }
      ]
    },
    {
      "cell_type": "code",
      "metadata": {
        "id": "0c_LPfMjRJ8C",
        "colab_type": "code",
        "colab": {}
      },
      "source": [
        "df_feedback.clean_in_arrival.unique()"
      ],
      "execution_count": 0,
      "outputs": []
    },
    {
      "cell_type": "code",
      "metadata": {
        "id": "dDhMD9OkRJ8D",
        "colab_type": "code",
        "colab": {}
      },
      "source": [
        "df_feedback.clean_out_arrival.unique()"
      ],
      "execution_count": 0,
      "outputs": []
    },
    {
      "cell_type": "code",
      "metadata": {
        "id": "3C3DkLixRJ8E",
        "colab_type": "code",
        "colab": {
          "base_uri": "https://localhost:8080/",
          "height": 34
        },
        "outputId": "cb9d197a-0ae4-4a1f-b89d-20981da2e18d"
      },
      "source": [
        "df_feedback.clean_in_departure.unique()"
      ],
      "execution_count": 68,
      "outputs": [
        {
          "output_type": "execute_result",
          "data": {
            "text/plain": [
              "array([0, 4, 5, 2, 3, 1])"
            ]
          },
          "metadata": {
            "tags": []
          },
          "execution_count": 68
        }
      ]
    },
    {
      "cell_type": "code",
      "metadata": {
        "id": "azXiB9vHRJ8F",
        "colab_type": "code",
        "colab": {}
      },
      "source": [
        "df_feedback.clean_out_departure.unique()"
      ],
      "execution_count": 0,
      "outputs": []
    },
    {
      "cell_type": "code",
      "metadata": {
        "id": "yBKvB1aTRJ8F",
        "colab_type": "code",
        "colab": {}
      },
      "source": [
        "df_feedback.freegift.unique()"
      ],
      "execution_count": 0,
      "outputs": []
    },
    {
      "cell_type": "code",
      "metadata": {
        "id": "uBFycfbaRJ8G",
        "colab_type": "code",
        "colab": {}
      },
      "source": [
        "df_feedback.punctual_departure.unique()"
      ],
      "execution_count": 0,
      "outputs": []
    },
    {
      "cell_type": "code",
      "metadata": {
        "id": "CcuOHF9cRJ8H",
        "colab_type": "code",
        "colab": {}
      },
      "source": [
        "df_feedback.driving_arrival.unique()"
      ],
      "execution_count": 0,
      "outputs": []
    },
    {
      "cell_type": "code",
      "metadata": {
        "id": "3hXm9lMgRJ8I",
        "colab_type": "code",
        "colab": {}
      },
      "source": [
        "df_feedback.driving_departure.unique()"
      ],
      "execution_count": 0,
      "outputs": []
    },
    {
      "cell_type": "code",
      "metadata": {
        "id": "Bmv8Rk_qRJ8I",
        "colab_type": "code",
        "colab": {}
      },
      "source": [
        "df_feedback.curteous_arrival.unique()"
      ],
      "execution_count": 0,
      "outputs": []
    },
    {
      "cell_type": "code",
      "metadata": {
        "id": "kZjyqRtuRJ8J",
        "colab_type": "code",
        "colab": {}
      },
      "source": [
        "df_feedback.curteous_departure.unique()"
      ],
      "execution_count": 0,
      "outputs": []
    },
    {
      "cell_type": "code",
      "metadata": {
        "id": "plW-n-b4RJ8K",
        "colab_type": "code",
        "colab": {}
      },
      "source": [
        "df_feedback.curteous_departure.unique()"
      ],
      "execution_count": 0,
      "outputs": []
    },
    {
      "cell_type": "code",
      "metadata": {
        "id": "sMRLIpsCRJ8L",
        "colab_type": "code",
        "colab": {}
      },
      "source": [
        "df_feedback.website.unique()"
      ],
      "execution_count": 0,
      "outputs": []
    },
    {
      "cell_type": "code",
      "metadata": {
        "id": "-BbUBuJKRJ8L",
        "colab_type": "code",
        "colab": {}
      },
      "source": [
        "df_feedback.experience.unique()"
      ],
      "execution_count": 0,
      "outputs": []
    },
    {
      "cell_type": "code",
      "metadata": {
        "id": "6k2FY8n9RJ8M",
        "colab_type": "code",
        "colab": {}
      },
      "source": [
        "df_feedback.quality.unique()"
      ],
      "execution_count": 0,
      "outputs": []
    },
    {
      "cell_type": "code",
      "metadata": {
        "id": "w3HhH7fGRJ8N",
        "colab_type": "code",
        "colab": {}
      },
      "source": [
        "df_feedback.comments.unique()"
      ],
      "execution_count": 0,
      "outputs": []
    },
    {
      "cell_type": "code",
      "metadata": {
        "id": "P9ISxGxTRJ8N",
        "colab_type": "code",
        "colab": {
          "base_uri": "https://localhost:8080/",
          "height": 68
        },
        "outputId": "44bab239-36d4-4bd0-d87e-15a222f7e098"
      },
      "source": [
        "df_feedback.timer.unique()"
      ],
      "execution_count": 71,
      "outputs": [
        {
          "output_type": "execute_result",
          "data": {
            "text/plain": [
              "array([nan, '2018-03-12 12:27:04', '2018-03-12 13:50:35', ...,\n",
              "       '2019-12-02 08:54:01', '2019-12-02 09:20:11',\n",
              "       '2019-12-02 10:05:41'], dtype=object)"
            ]
          },
          "metadata": {
            "tags": []
          },
          "execution_count": 71
        }
      ]
    },
    {
      "cell_type": "code",
      "metadata": {
        "id": "KSbYUXosRJ8O",
        "colab_type": "code",
        "colab": {
          "base_uri": "https://localhost:8080/",
          "height": 317
        },
        "outputId": "81ce9fa9-eed1-41b8-9e0a-20022fbeff93"
      },
      "source": [
        "df_feedback=df_feedback.sort_values('feedbackID')\n",
        "df_feedback=df_feedback.set_index('feedbackID')\n",
        "df_feedback.head()"
      ],
      "execution_count": 72,
      "outputs": [
        {
          "output_type": "error",
          "ename": "KeyError",
          "evalue": "ignored",
          "traceback": [
            "\u001b[0;31m---------------------------------------------------------------------------\u001b[0m",
            "\u001b[0;31mKeyError\u001b[0m                                  Traceback (most recent call last)",
            "\u001b[0;32m<ipython-input-72-2d3c759e1a57>\u001b[0m in \u001b[0;36m<module>\u001b[0;34m()\u001b[0m\n\u001b[1;32m      1\u001b[0m \u001b[0mdf_feedback\u001b[0m\u001b[0;34m=\u001b[0m\u001b[0mdf_feedback\u001b[0m\u001b[0;34m.\u001b[0m\u001b[0msort_values\u001b[0m\u001b[0;34m(\u001b[0m\u001b[0;34m'feedbackID'\u001b[0m\u001b[0;34m)\u001b[0m\u001b[0;34m\u001b[0m\u001b[0;34m\u001b[0m\u001b[0m\n\u001b[0;32m----> 2\u001b[0;31m \u001b[0mdf_feedback\u001b[0m\u001b[0;34m=\u001b[0m\u001b[0mdf_feedback\u001b[0m\u001b[0;34m.\u001b[0m\u001b[0mset_index\u001b[0m\u001b[0;34m(\u001b[0m\u001b[0;34m'feedbackID'\u001b[0m\u001b[0;34m)\u001b[0m\u001b[0;34m\u001b[0m\u001b[0;34m\u001b[0m\u001b[0m\n\u001b[0m\u001b[1;32m      3\u001b[0m \u001b[0mdf_feedback\u001b[0m\u001b[0;34m.\u001b[0m\u001b[0mhead\u001b[0m\u001b[0;34m(\u001b[0m\u001b[0;34m)\u001b[0m\u001b[0;34m\u001b[0m\u001b[0;34m\u001b[0m\u001b[0m\n",
            "\u001b[0;32m/usr/local/lib/python3.6/dist-packages/pandas/core/frame.py\u001b[0m in \u001b[0;36mset_index\u001b[0;34m(self, keys, drop, append, inplace, verify_integrity)\u001b[0m\n\u001b[1;32m   4301\u001b[0m \u001b[0;34m\u001b[0m\u001b[0m\n\u001b[1;32m   4302\u001b[0m         \u001b[0;32mif\u001b[0m \u001b[0mmissing\u001b[0m\u001b[0;34m:\u001b[0m\u001b[0;34m\u001b[0m\u001b[0;34m\u001b[0m\u001b[0m\n\u001b[0;32m-> 4303\u001b[0;31m             \u001b[0;32mraise\u001b[0m \u001b[0mKeyError\u001b[0m\u001b[0;34m(\u001b[0m\u001b[0;34mf\"None of {missing} are in the columns\"\u001b[0m\u001b[0;34m)\u001b[0m\u001b[0;34m\u001b[0m\u001b[0;34m\u001b[0m\u001b[0m\n\u001b[0m\u001b[1;32m   4304\u001b[0m \u001b[0;34m\u001b[0m\u001b[0m\n\u001b[1;32m   4305\u001b[0m         \u001b[0;32mif\u001b[0m \u001b[0minplace\u001b[0m\u001b[0;34m:\u001b[0m\u001b[0;34m\u001b[0m\u001b[0;34m\u001b[0m\u001b[0m\n",
            "\u001b[0;31mKeyError\u001b[0m: \"None of ['feedbackID'] are in the columns\""
          ]
        }
      ]
    },
    {
      "cell_type": "code",
      "metadata": {
        "id": "RIyDHc2wRJ8P",
        "colab_type": "code",
        "colab": {}
      },
      "source": [
        "df_feedback.to_excel(\"feedback.xlsx\")  \n"
      ],
      "execution_count": 0,
      "outputs": []
    },
    {
      "cell_type": "markdown",
      "metadata": {
        "id": "jsX8QoMrRJ8P",
        "colab_type": "text"
      },
      "source": [
        "### Data Exploration"
      ]
    },
    {
      "cell_type": "markdown",
      "metadata": {
        "id": "rMj5kvOKRJ8Q",
        "colab_type": "text"
      },
      "source": [
        "#### Clean in arrival feedback"
      ]
    },
    {
      "cell_type": "markdown",
      "metadata": {
        "id": "qt8nqEaYRJ8Q",
        "colab_type": "text"
      },
      "source": [
        "<img src=\"cleanInArrival.JPG\" alt=\"xxx\" style=\"width: 600px;\"/>"
      ]
    },
    {
      "cell_type": "markdown",
      "metadata": {
        "id": "PBpM8pOyRJ8Q",
        "colab_type": "text"
      },
      "source": [
        "#### Clean in departure feedback"
      ]
    },
    {
      "cell_type": "markdown",
      "metadata": {
        "id": "DUnl1YZpRJ8Q",
        "colab_type": "text"
      },
      "source": [
        "<img src=\"cleanInDeparture.JPG\" alt=\"xxx\" style=\"width: 600px;\"/>"
      ]
    },
    {
      "cell_type": "markdown",
      "metadata": {
        "id": "TkQ4dLAMRJ8Q",
        "colab_type": "text"
      },
      "source": [
        "#### Clean out arrival feedback"
      ]
    },
    {
      "cell_type": "markdown",
      "metadata": {
        "id": "-5VtqYUdRJ8Q",
        "colab_type": "text"
      },
      "source": [
        "<img src=\"cleanOutArrival.JPG\" alt=\"xxx\" style=\"width: 600px;\"/>"
      ]
    },
    {
      "cell_type": "markdown",
      "metadata": {
        "id": "-Bf0aDOvRJ8Q",
        "colab_type": "text"
      },
      "source": [
        "#### Clean out departure feedback"
      ]
    },
    {
      "cell_type": "markdown",
      "metadata": {
        "id": "tssR4jIRRJ8Q",
        "colab_type": "text"
      },
      "source": [
        "<img src=\"cleanOutDeparture.JPG\" alt=\"xxx\" style=\"width: 600px;\"/>"
      ]
    },
    {
      "cell_type": "markdown",
      "metadata": {
        "id": "ieP-l6QXRJ8R",
        "colab_type": "text"
      },
      "source": [
        "#### Comments"
      ]
    },
    {
      "cell_type": "markdown",
      "metadata": {
        "id": "FVtBQ0pSRJ8R",
        "colab_type": "text"
      },
      "source": [
        "<img src=\"comments.JPG\" alt=\"xxx\" style=\"width: 600px;\"/>"
      ]
    },
    {
      "cell_type": "markdown",
      "metadata": {
        "id": "sR0gMrmoRJ8R",
        "colab_type": "text"
      },
      "source": [
        "#### Curteous arrival feedback"
      ]
    },
    {
      "cell_type": "markdown",
      "metadata": {
        "id": "pUn7_gMxRJ8R",
        "colab_type": "text"
      },
      "source": [
        "<img src=\"curteousArrival.JPG\" alt=\"xxx\" style=\"width: 600px;\"/>"
      ]
    },
    {
      "cell_type": "markdown",
      "metadata": {
        "id": "tPuuys0cRJ8R",
        "colab_type": "text"
      },
      "source": [
        "#### Curteous departure feedback"
      ]
    },
    {
      "cell_type": "markdown",
      "metadata": {
        "id": "cnTZOdtCRJ8R",
        "colab_type": "text"
      },
      "source": [
        "<img src=\"curteousDeparture.JPG\" alt=\"xxx\" style=\"width: 600px;\"/>"
      ]
    },
    {
      "cell_type": "markdown",
      "metadata": {
        "id": "fIMWkH98RJ8R",
        "colab_type": "text"
      },
      "source": [
        "#### Driving arrival feedback"
      ]
    },
    {
      "cell_type": "markdown",
      "metadata": {
        "id": "Kl9oG1TyRJ8S",
        "colab_type": "text"
      },
      "source": [
        "<img src=\"drivingArrival.JPG\" alt=\"xxx\" style=\"width: 600px;\"/>"
      ]
    },
    {
      "cell_type": "markdown",
      "metadata": {
        "id": "b27lGNrJRJ8S",
        "colab_type": "text"
      },
      "source": [
        "#### Driving departure feedback"
      ]
    },
    {
      "cell_type": "markdown",
      "metadata": {
        "id": "bx9YtB1fRJ8S",
        "colab_type": "text"
      },
      "source": [
        "<img src=\"drivingDeparture.JPG\" alt=\"xxx\" style=\"width: 600px;\"/>"
      ]
    },
    {
      "cell_type": "markdown",
      "metadata": {
        "id": "jio1dz6wRJ8S",
        "colab_type": "text"
      },
      "source": [
        "#### Experience feedback"
      ]
    },
    {
      "cell_type": "markdown",
      "metadata": {
        "id": "7gcQUIyiRJ8S",
        "colab_type": "text"
      },
      "source": [
        "<img src=\"experience.JPG\" alt=\"xxx\" style=\"width: 600px;\"/>"
      ]
    },
    {
      "cell_type": "markdown",
      "metadata": {
        "id": "F7jG0P_ZRJ8S",
        "colab_type": "text"
      },
      "source": [
        "#### Freegift"
      ]
    },
    {
      "cell_type": "markdown",
      "metadata": {
        "id": "1QzrapLIRJ8S",
        "colab_type": "text"
      },
      "source": [
        "<img src=\"freegift.JPG\" alt=\"xxx\" style=\"width: 600px;\"/>"
      ]
    },
    {
      "cell_type": "markdown",
      "metadata": {
        "id": "johPaLv_RJ8T",
        "colab_type": "text"
      },
      "source": [
        "#### Punctual arrival feedback"
      ]
    },
    {
      "cell_type": "markdown",
      "metadata": {
        "id": "6B61p52vRJ8T",
        "colab_type": "text"
      },
      "source": [
        "<img src=\"punctualArrival.JPG\" alt=\"xxx\" style=\"width: 600px;\"/>"
      ]
    },
    {
      "cell_type": "markdown",
      "metadata": {
        "id": "QghQhY7dRJ8T",
        "colab_type": "text"
      },
      "source": [
        "#### Punctual departure feedback"
      ]
    },
    {
      "cell_type": "markdown",
      "metadata": {
        "id": "lkE1QdRcRJ8T",
        "colab_type": "text"
      },
      "source": [
        "<img src=\"punctualDeparture.JPG\" alt=\"xxx\" style=\"width: 600px;\"/>"
      ]
    },
    {
      "cell_type": "markdown",
      "metadata": {
        "id": "JwihcuC1RJ8T",
        "colab_type": "text"
      },
      "source": [
        "#### Quality feedback"
      ]
    },
    {
      "cell_type": "markdown",
      "metadata": {
        "id": "XahDWs7TRJ8T",
        "colab_type": "text"
      },
      "source": [
        "<img src=\"quality.JPG\" alt=\"xxx\" style=\"width: 600px;\"/>"
      ]
    },
    {
      "cell_type": "markdown",
      "metadata": {
        "id": "Dvqct2anRJ8T",
        "colab_type": "text"
      },
      "source": [
        "#### Type of service feedback"
      ]
    },
    {
      "cell_type": "markdown",
      "metadata": {
        "id": "Nhq5r4FVRJ8U",
        "colab_type": "text"
      },
      "source": [
        "<img src=\"typeOfService.JPG\" alt=\"xxx\" style=\"width: 600px;\"/>"
      ]
    },
    {
      "cell_type": "markdown",
      "metadata": {
        "id": "9A2D01kMRJ8U",
        "colab_type": "text"
      },
      "source": [
        "#### Website feedback"
      ]
    },
    {
      "cell_type": "markdown",
      "metadata": {
        "id": "Knv3z4M8RJ8U",
        "colab_type": "text"
      },
      "source": [
        "<img src=\"website.JPG\" alt=\"xxx\" style=\"width: 600px;\"/>"
      ]
    },
    {
      "cell_type": "markdown",
      "metadata": {
        "id": "rY96DWGpRJ8U",
        "colab_type": "text"
      },
      "source": [
        "#### Welcome arrival feedback"
      ]
    },
    {
      "cell_type": "markdown",
      "metadata": {
        "id": "1ZMw88YkRJ8U",
        "colab_type": "text"
      },
      "source": [
        "<img src=\"welcomeArrival.JPG\" alt=\"xxx\" style=\"width: 600px;\"/>"
      ]
    },
    {
      "cell_type": "markdown",
      "metadata": {
        "id": "wZGUUO8vRJ8U",
        "colab_type": "text"
      },
      "source": [
        "#### Welcome departure feedback"
      ]
    },
    {
      "cell_type": "markdown",
      "metadata": {
        "id": "e5QcpsitRJ8U",
        "colab_type": "text"
      },
      "source": [
        "<img src=\"welcomeDeparture.JPG\" alt=\"xxx\" style=\"width: 600px;\"/>"
      ]
    },
    {
      "cell_type": "markdown",
      "metadata": {
        "id": "qFVoarxkRJ8U",
        "colab_type": "text"
      },
      "source": [
        "## Canceled bookings"
      ]
    },
    {
      "cell_type": "code",
      "metadata": {
        "id": "McN0A_5ARJ8V",
        "colab_type": "code",
        "colab": {
          "base_uri": "https://localhost:8080/",
          "height": 204
        },
        "outputId": "568c5792-61ec-4d0f-9bb4-b585f8d7b22c"
      },
      "source": [
        "# Load and show dataset info \n",
        "df_canceledBookings = pd.DataFrame(pd.read_csv(\"/content/drive/My Drive/Business/06 - Case Services Demand Forecasting-20200501/YFT_CanceledBookings.csv\", sep=\";\"))\n",
        "df_canceledBookings.head()"
      ],
      "execution_count": 74,
      "outputs": [
        {
          "output_type": "execute_result",
          "data": {
            "text/html": [
              "<div>\n",
              "<style scoped>\n",
              "    .dataframe tbody tr th:only-of-type {\n",
              "        vertical-align: middle;\n",
              "    }\n",
              "\n",
              "    .dataframe tbody tr th {\n",
              "        vertical-align: top;\n",
              "    }\n",
              "\n",
              "    .dataframe thead th {\n",
              "        text-align: right;\n",
              "    }\n",
              "</style>\n",
              "<table border=\"1\" class=\"dataframe\">\n",
              "  <thead>\n",
              "    <tr style=\"text-align: right;\">\n",
              "      <th></th>\n",
              "      <th>id</th>\n",
              "      <th>bookingID</th>\n",
              "      <th>whichway</th>\n",
              "      <th>reason</th>\n",
              "      <th>timer</th>\n",
              "    </tr>\n",
              "  </thead>\n",
              "  <tbody>\n",
              "    <tr>\n",
              "      <th>0</th>\n",
              "      <td>1</td>\n",
              "      <td>41445</td>\n",
              "      <td>booking</td>\n",
              "      <td>testes</td>\n",
              "      <td>2013-12-02 15:23:02</td>\n",
              "    </tr>\n",
              "    <tr>\n",
              "      <th>1</th>\n",
              "      <td>2</td>\n",
              "      <td>41446</td>\n",
              "      <td>booking</td>\n",
              "      <td>Test</td>\n",
              "      <td>2013-12-02 17:50:02</td>\n",
              "    </tr>\n",
              "    <tr>\n",
              "      <th>2</th>\n",
              "      <td>3</td>\n",
              "      <td>41446</td>\n",
              "      <td>booking</td>\n",
              "      <td>test</td>\n",
              "      <td>2013-12-02 17:54:49</td>\n",
              "    </tr>\n",
              "    <tr>\n",
              "      <th>3</th>\n",
              "      <td>4</td>\n",
              "      <td>41597</td>\n",
              "      <td>booking</td>\n",
              "      <td>cancel by email</td>\n",
              "      <td>2013-12-11 11:43:53</td>\n",
              "    </tr>\n",
              "    <tr>\n",
              "      <th>4</th>\n",
              "      <td>5</td>\n",
              "      <td>41718</td>\n",
              "      <td>booking</td>\n",
              "      <td>ESTA XXXX É NOVA...AONDA NA TOU HABITAUDO..OK????</td>\n",
              "      <td>2013-12-18 12:58:59</td>\n",
              "    </tr>\n",
              "  </tbody>\n",
              "</table>\n",
              "</div>"
            ],
            "text/plain": [
              "   id  ...                timer\n",
              "0   1  ...  2013-12-02 15:23:02\n",
              "1   2  ...  2013-12-02 17:50:02\n",
              "2   3  ...  2013-12-02 17:54:49\n",
              "3   4  ...  2013-12-11 11:43:53\n",
              "4   5  ...  2013-12-18 12:58:59\n",
              "\n",
              "[5 rows x 5 columns]"
            ]
          },
          "metadata": {
            "tags": []
          },
          "execution_count": 74
        }
      ]
    },
    {
      "cell_type": "markdown",
      "metadata": {
        "id": "qjieDDB8RJ8V",
        "colab_type": "text"
      },
      "source": [
        "### Data Understanding"
      ]
    },
    {
      "cell_type": "code",
      "metadata": {
        "id": "77on4MSjRJ8V",
        "colab_type": "code",
        "colab": {
          "base_uri": "https://localhost:8080/",
          "height": 204
        },
        "outputId": "ec921a8c-787b-4e1f-9546-bf38d21ccc71"
      },
      "source": [
        "summary(df_canceledBookings)"
      ],
      "execution_count": 75,
      "outputs": [
        {
          "output_type": "execute_result",
          "data": {
            "text/html": [
              "<div>\n",
              "<style scoped>\n",
              "    .dataframe tbody tr th:only-of-type {\n",
              "        vertical-align: middle;\n",
              "    }\n",
              "\n",
              "    .dataframe tbody tr th {\n",
              "        vertical-align: top;\n",
              "    }\n",
              "\n",
              "    .dataframe thead th {\n",
              "        text-align: right;\n",
              "    }\n",
              "</style>\n",
              "<table border=\"1\" class=\"dataframe\">\n",
              "  <thead>\n",
              "    <tr style=\"text-align: right;\">\n",
              "      <th></th>\n",
              "      <th>count</th>\n",
              "      <th>unique</th>\n",
              "      <th>top</th>\n",
              "      <th>freq</th>\n",
              "      <th>mean</th>\n",
              "      <th>std</th>\n",
              "      <th>min</th>\n",
              "      <th>25%</th>\n",
              "      <th>50%</th>\n",
              "      <th>75%</th>\n",
              "      <th>max</th>\n",
              "    </tr>\n",
              "  </thead>\n",
              "  <tbody>\n",
              "    <tr>\n",
              "      <th>id</th>\n",
              "      <td>11287</td>\n",
              "      <td>NaN</td>\n",
              "      <td>NaN</td>\n",
              "      <td>NaN</td>\n",
              "      <td>8843.66</td>\n",
              "      <td>4375.45</td>\n",
              "      <td>1</td>\n",
              "      <td>5356</td>\n",
              "      <td>9661</td>\n",
              "      <td>12482.5</td>\n",
              "      <td>15304</td>\n",
              "    </tr>\n",
              "    <tr>\n",
              "      <th>bookingID</th>\n",
              "      <td>11287</td>\n",
              "      <td>NaN</td>\n",
              "      <td>NaN</td>\n",
              "      <td>NaN</td>\n",
              "      <td>197895</td>\n",
              "      <td>96894</td>\n",
              "      <td>22137</td>\n",
              "      <td>106033</td>\n",
              "      <td>201257</td>\n",
              "      <td>289306</td>\n",
              "      <td>336264</td>\n",
              "    </tr>\n",
              "    <tr>\n",
              "      <th>whichway</th>\n",
              "      <td>11287</td>\n",
              "      <td>3</td>\n",
              "      <td>booking</td>\n",
              "      <td>10372</td>\n",
              "      <td>NaN</td>\n",
              "      <td>NaN</td>\n",
              "      <td>NaN</td>\n",
              "      <td>NaN</td>\n",
              "      <td>NaN</td>\n",
              "      <td>NaN</td>\n",
              "      <td>NaN</td>\n",
              "    </tr>\n",
              "    <tr>\n",
              "      <th>reason</th>\n",
              "      <td>11281</td>\n",
              "      <td>4414</td>\n",
              "      <td>dup</td>\n",
              "      <td>1319</td>\n",
              "      <td>NaN</td>\n",
              "      <td>NaN</td>\n",
              "      <td>NaN</td>\n",
              "      <td>NaN</td>\n",
              "      <td>NaN</td>\n",
              "      <td>NaN</td>\n",
              "      <td>NaN</td>\n",
              "    </tr>\n",
              "    <tr>\n",
              "      <th>timer</th>\n",
              "      <td>11287</td>\n",
              "      <td>11233</td>\n",
              "      <td>2020-03-19 10:50:56</td>\n",
              "      <td>4</td>\n",
              "      <td>NaN</td>\n",
              "      <td>NaN</td>\n",
              "      <td>NaN</td>\n",
              "      <td>NaN</td>\n",
              "      <td>NaN</td>\n",
              "      <td>NaN</td>\n",
              "      <td>NaN</td>\n",
              "    </tr>\n",
              "  </tbody>\n",
              "</table>\n",
              "</div>"
            ],
            "text/plain": [
              "           count unique                  top  ...     50%      75%     max\n",
              "id         11287    NaN                  NaN  ...    9661  12482.5   15304\n",
              "bookingID  11287    NaN                  NaN  ...  201257   289306  336264\n",
              "whichway   11287      3              booking  ...     NaN      NaN     NaN\n",
              "reason     11281   4414                  dup  ...     NaN      NaN     NaN\n",
              "timer      11287  11233  2020-03-19 10:50:56  ...     NaN      NaN     NaN\n",
              "\n",
              "[5 rows x 11 columns]"
            ]
          },
          "metadata": {
            "tags": []
          },
          "execution_count": 75
        }
      ]
    },
    {
      "cell_type": "code",
      "metadata": {
        "id": "KbBvJpstRJ8W",
        "colab_type": "code",
        "colab": {}
      },
      "source": [
        "# Check missing values\n",
        "print(df_canceledBookings.isnull().sum())"
      ],
      "execution_count": 0,
      "outputs": []
    },
    {
      "cell_type": "code",
      "metadata": {
        "id": "Uq508y7YRJ8X",
        "colab_type": "code",
        "colab": {}
      },
      "source": [
        "df_canceledBookings.id.unique()"
      ],
      "execution_count": 0,
      "outputs": []
    },
    {
      "cell_type": "code",
      "metadata": {
        "id": "2iNll5dpRJ8X",
        "colab_type": "code",
        "colab": {}
      },
      "source": [
        "df_canceledBookings.bookingID.unique()"
      ],
      "execution_count": 0,
      "outputs": []
    },
    {
      "cell_type": "code",
      "metadata": {
        "id": "yaoMhqI5RJ8Y",
        "colab_type": "code",
        "colab": {}
      },
      "source": [
        "df_canceledBookings.whichway.unique()"
      ],
      "execution_count": 0,
      "outputs": []
    },
    {
      "cell_type": "code",
      "metadata": {
        "id": "RQu53NuuRJ8Z",
        "colab_type": "code",
        "colab": {}
      },
      "source": [
        "df_canceledBookings.reason.unique()"
      ],
      "execution_count": 0,
      "outputs": []
    },
    {
      "cell_type": "code",
      "metadata": {
        "id": "nfahPToIRJ8a",
        "colab_type": "code",
        "colab": {}
      },
      "source": [
        "df_canceledBookings.timer.unique()"
      ],
      "execution_count": 0,
      "outputs": []
    },
    {
      "cell_type": "code",
      "metadata": {
        "id": "BpWQX2q_RJ8a",
        "colab_type": "code",
        "colab": {}
      },
      "source": [
        "df_canceledBookings.to_excel(\"canceledBookings.xlsx\")  \n"
      ],
      "execution_count": 0,
      "outputs": []
    },
    {
      "cell_type": "markdown",
      "metadata": {
        "id": "a6pk_SuVRJ8b",
        "colab_type": "text"
      },
      "source": [
        "### Data Exploration"
      ]
    },
    {
      "cell_type": "markdown",
      "metadata": {
        "id": "PYOoRynmRJ8b",
        "colab_type": "text"
      },
      "source": [
        "#### Reason for boooking canceled"
      ]
    },
    {
      "cell_type": "markdown",
      "metadata": {
        "id": "6LQ0Ypd3RJ8b",
        "colab_type": "text"
      },
      "source": [
        "<img src=\"reasonForCancellarion.JPG\" alt=\"xxx\" style=\"width: 600px;\"/>"
      ]
    },
    {
      "cell_type": "markdown",
      "metadata": {
        "id": "lmtYu3BvRJ8b",
        "colab_type": "text"
      },
      "source": [
        "#### Type of canceled booking"
      ]
    },
    {
      "cell_type": "markdown",
      "metadata": {
        "id": "isFhq0FaRJ8c",
        "colab_type": "text"
      },
      "source": [
        "<img src=\"way.JPG\" alt=\"xxx\" style=\"width: 600px;\"/>"
      ]
    },
    {
      "cell_type": "markdown",
      "metadata": {
        "id": "KlRTwvWjRJ8c",
        "colab_type": "text"
      },
      "source": [
        "## Transfer Bookings"
      ]
    },
    {
      "cell_type": "code",
      "metadata": {
        "id": "HzW3Z1jSRJ8c",
        "colab_type": "code",
        "colab": {
          "base_uri": "https://localhost:8080/",
          "height": 412
        },
        "outputId": "7e70286b-33ab-4ac6-e7fa-11f26fff3230"
      },
      "source": [
        "# Load and show dataset info \n",
        "df_transferBookings = pd.DataFrame(pd.read_csv(\"/content/drive/My Drive/Business/06 - Case Services Demand Forecasting-20200501/YFT_TransferBookings.csv\", sep=\";\"))\n",
        "df_transferBookings"
      ],
      "execution_count": 77,
      "outputs": [
        {
          "output_type": "error",
          "ename": "FileNotFoundError",
          "evalue": "ignored",
          "traceback": [
            "\u001b[0;31m---------------------------------------------------------------------------\u001b[0m",
            "\u001b[0;31mFileNotFoundError\u001b[0m                         Traceback (most recent call last)",
            "\u001b[0;32m<ipython-input-77-266345074759>\u001b[0m in \u001b[0;36m<module>\u001b[0;34m()\u001b[0m\n\u001b[0;32m----> 1\u001b[0;31m \u001b[0mdf_transferBookings\u001b[0m \u001b[0;34m=\u001b[0m \u001b[0mpd\u001b[0m\u001b[0;34m.\u001b[0m\u001b[0mDataFrame\u001b[0m\u001b[0;34m(\u001b[0m\u001b[0mpd\u001b[0m\u001b[0;34m.\u001b[0m\u001b[0mread_csv\u001b[0m\u001b[0;34m(\u001b[0m\u001b[0;34m\"/content/drive/My Drive/Business/06 - Case Services Demand Forecasting-20200501/YFT_TransferBookings.csv\"\u001b[0m\u001b[0;34m,\u001b[0m \u001b[0msep\u001b[0m\u001b[0;34m=\u001b[0m\u001b[0;34m\";\"\u001b[0m\u001b[0;34m)\u001b[0m\u001b[0;34m)\u001b[0m\u001b[0;34m\u001b[0m\u001b[0;34m\u001b[0m\u001b[0m\n\u001b[0m\u001b[1;32m      2\u001b[0m \u001b[0mdf_transferBookings\u001b[0m\u001b[0;34m\u001b[0m\u001b[0;34m\u001b[0m\u001b[0m\n",
            "\u001b[0;32m/usr/local/lib/python3.6/dist-packages/pandas/io/parsers.py\u001b[0m in \u001b[0;36mparser_f\u001b[0;34m(filepath_or_buffer, sep, delimiter, header, names, index_col, usecols, squeeze, prefix, mangle_dupe_cols, dtype, engine, converters, true_values, false_values, skipinitialspace, skiprows, skipfooter, nrows, na_values, keep_default_na, na_filter, verbose, skip_blank_lines, parse_dates, infer_datetime_format, keep_date_col, date_parser, dayfirst, cache_dates, iterator, chunksize, compression, thousands, decimal, lineterminator, quotechar, quoting, doublequote, escapechar, comment, encoding, dialect, error_bad_lines, warn_bad_lines, delim_whitespace, low_memory, memory_map, float_precision)\u001b[0m\n\u001b[1;32m    674\u001b[0m         )\n\u001b[1;32m    675\u001b[0m \u001b[0;34m\u001b[0m\u001b[0m\n\u001b[0;32m--> 676\u001b[0;31m         \u001b[0;32mreturn\u001b[0m \u001b[0m_read\u001b[0m\u001b[0;34m(\u001b[0m\u001b[0mfilepath_or_buffer\u001b[0m\u001b[0;34m,\u001b[0m \u001b[0mkwds\u001b[0m\u001b[0;34m)\u001b[0m\u001b[0;34m\u001b[0m\u001b[0;34m\u001b[0m\u001b[0m\n\u001b[0m\u001b[1;32m    677\u001b[0m \u001b[0;34m\u001b[0m\u001b[0m\n\u001b[1;32m    678\u001b[0m     \u001b[0mparser_f\u001b[0m\u001b[0;34m.\u001b[0m\u001b[0m__name__\u001b[0m \u001b[0;34m=\u001b[0m \u001b[0mname\u001b[0m\u001b[0;34m\u001b[0m\u001b[0;34m\u001b[0m\u001b[0m\n",
            "\u001b[0;32m/usr/local/lib/python3.6/dist-packages/pandas/io/parsers.py\u001b[0m in \u001b[0;36m_read\u001b[0;34m(filepath_or_buffer, kwds)\u001b[0m\n\u001b[1;32m    446\u001b[0m \u001b[0;34m\u001b[0m\u001b[0m\n\u001b[1;32m    447\u001b[0m     \u001b[0;31m# Create the parser.\u001b[0m\u001b[0;34m\u001b[0m\u001b[0;34m\u001b[0m\u001b[0;34m\u001b[0m\u001b[0m\n\u001b[0;32m--> 448\u001b[0;31m     \u001b[0mparser\u001b[0m \u001b[0;34m=\u001b[0m \u001b[0mTextFileReader\u001b[0m\u001b[0;34m(\u001b[0m\u001b[0mfp_or_buf\u001b[0m\u001b[0;34m,\u001b[0m \u001b[0;34m**\u001b[0m\u001b[0mkwds\u001b[0m\u001b[0;34m)\u001b[0m\u001b[0;34m\u001b[0m\u001b[0;34m\u001b[0m\u001b[0m\n\u001b[0m\u001b[1;32m    449\u001b[0m \u001b[0;34m\u001b[0m\u001b[0m\n\u001b[1;32m    450\u001b[0m     \u001b[0;32mif\u001b[0m \u001b[0mchunksize\u001b[0m \u001b[0;32mor\u001b[0m \u001b[0miterator\u001b[0m\u001b[0;34m:\u001b[0m\u001b[0;34m\u001b[0m\u001b[0;34m\u001b[0m\u001b[0m\n",
            "\u001b[0;32m/usr/local/lib/python3.6/dist-packages/pandas/io/parsers.py\u001b[0m in \u001b[0;36m__init__\u001b[0;34m(self, f, engine, **kwds)\u001b[0m\n\u001b[1;32m    878\u001b[0m             \u001b[0mself\u001b[0m\u001b[0;34m.\u001b[0m\u001b[0moptions\u001b[0m\u001b[0;34m[\u001b[0m\u001b[0;34m\"has_index_names\"\u001b[0m\u001b[0;34m]\u001b[0m \u001b[0;34m=\u001b[0m \u001b[0mkwds\u001b[0m\u001b[0;34m[\u001b[0m\u001b[0;34m\"has_index_names\"\u001b[0m\u001b[0;34m]\u001b[0m\u001b[0;34m\u001b[0m\u001b[0;34m\u001b[0m\u001b[0m\n\u001b[1;32m    879\u001b[0m \u001b[0;34m\u001b[0m\u001b[0m\n\u001b[0;32m--> 880\u001b[0;31m         \u001b[0mself\u001b[0m\u001b[0;34m.\u001b[0m\u001b[0m_make_engine\u001b[0m\u001b[0;34m(\u001b[0m\u001b[0mself\u001b[0m\u001b[0;34m.\u001b[0m\u001b[0mengine\u001b[0m\u001b[0;34m)\u001b[0m\u001b[0;34m\u001b[0m\u001b[0;34m\u001b[0m\u001b[0m\n\u001b[0m\u001b[1;32m    881\u001b[0m \u001b[0;34m\u001b[0m\u001b[0m\n\u001b[1;32m    882\u001b[0m     \u001b[0;32mdef\u001b[0m \u001b[0mclose\u001b[0m\u001b[0;34m(\u001b[0m\u001b[0mself\u001b[0m\u001b[0;34m)\u001b[0m\u001b[0;34m:\u001b[0m\u001b[0;34m\u001b[0m\u001b[0;34m\u001b[0m\u001b[0m\n",
            "\u001b[0;32m/usr/local/lib/python3.6/dist-packages/pandas/io/parsers.py\u001b[0m in \u001b[0;36m_make_engine\u001b[0;34m(self, engine)\u001b[0m\n\u001b[1;32m   1112\u001b[0m     \u001b[0;32mdef\u001b[0m \u001b[0m_make_engine\u001b[0m\u001b[0;34m(\u001b[0m\u001b[0mself\u001b[0m\u001b[0;34m,\u001b[0m \u001b[0mengine\u001b[0m\u001b[0;34m=\u001b[0m\u001b[0;34m\"c\"\u001b[0m\u001b[0;34m)\u001b[0m\u001b[0;34m:\u001b[0m\u001b[0;34m\u001b[0m\u001b[0;34m\u001b[0m\u001b[0m\n\u001b[1;32m   1113\u001b[0m         \u001b[0;32mif\u001b[0m \u001b[0mengine\u001b[0m \u001b[0;34m==\u001b[0m \u001b[0;34m\"c\"\u001b[0m\u001b[0;34m:\u001b[0m\u001b[0;34m\u001b[0m\u001b[0;34m\u001b[0m\u001b[0m\n\u001b[0;32m-> 1114\u001b[0;31m             \u001b[0mself\u001b[0m\u001b[0;34m.\u001b[0m\u001b[0m_engine\u001b[0m \u001b[0;34m=\u001b[0m \u001b[0mCParserWrapper\u001b[0m\u001b[0;34m(\u001b[0m\u001b[0mself\u001b[0m\u001b[0;34m.\u001b[0m\u001b[0mf\u001b[0m\u001b[0;34m,\u001b[0m \u001b[0;34m**\u001b[0m\u001b[0mself\u001b[0m\u001b[0;34m.\u001b[0m\u001b[0moptions\u001b[0m\u001b[0;34m)\u001b[0m\u001b[0;34m\u001b[0m\u001b[0;34m\u001b[0m\u001b[0m\n\u001b[0m\u001b[1;32m   1115\u001b[0m         \u001b[0;32melse\u001b[0m\u001b[0;34m:\u001b[0m\u001b[0;34m\u001b[0m\u001b[0;34m\u001b[0m\u001b[0m\n\u001b[1;32m   1116\u001b[0m             \u001b[0;32mif\u001b[0m \u001b[0mengine\u001b[0m \u001b[0;34m==\u001b[0m \u001b[0;34m\"python\"\u001b[0m\u001b[0;34m:\u001b[0m\u001b[0;34m\u001b[0m\u001b[0;34m\u001b[0m\u001b[0m\n",
            "\u001b[0;32m/usr/local/lib/python3.6/dist-packages/pandas/io/parsers.py\u001b[0m in \u001b[0;36m__init__\u001b[0;34m(self, src, **kwds)\u001b[0m\n\u001b[1;32m   1889\u001b[0m         \u001b[0mkwds\u001b[0m\u001b[0;34m[\u001b[0m\u001b[0;34m\"usecols\"\u001b[0m\u001b[0;34m]\u001b[0m \u001b[0;34m=\u001b[0m \u001b[0mself\u001b[0m\u001b[0;34m.\u001b[0m\u001b[0musecols\u001b[0m\u001b[0;34m\u001b[0m\u001b[0;34m\u001b[0m\u001b[0m\n\u001b[1;32m   1890\u001b[0m \u001b[0;34m\u001b[0m\u001b[0m\n\u001b[0;32m-> 1891\u001b[0;31m         \u001b[0mself\u001b[0m\u001b[0;34m.\u001b[0m\u001b[0m_reader\u001b[0m \u001b[0;34m=\u001b[0m \u001b[0mparsers\u001b[0m\u001b[0;34m.\u001b[0m\u001b[0mTextReader\u001b[0m\u001b[0;34m(\u001b[0m\u001b[0msrc\u001b[0m\u001b[0;34m,\u001b[0m \u001b[0;34m**\u001b[0m\u001b[0mkwds\u001b[0m\u001b[0;34m)\u001b[0m\u001b[0;34m\u001b[0m\u001b[0;34m\u001b[0m\u001b[0m\n\u001b[0m\u001b[1;32m   1892\u001b[0m         \u001b[0mself\u001b[0m\u001b[0;34m.\u001b[0m\u001b[0munnamed_cols\u001b[0m \u001b[0;34m=\u001b[0m \u001b[0mself\u001b[0m\u001b[0;34m.\u001b[0m\u001b[0m_reader\u001b[0m\u001b[0;34m.\u001b[0m\u001b[0munnamed_cols\u001b[0m\u001b[0;34m\u001b[0m\u001b[0;34m\u001b[0m\u001b[0m\n\u001b[1;32m   1893\u001b[0m \u001b[0;34m\u001b[0m\u001b[0m\n",
            "\u001b[0;32mpandas/_libs/parsers.pyx\u001b[0m in \u001b[0;36mpandas._libs.parsers.TextReader.__cinit__\u001b[0;34m()\u001b[0m\n",
            "\u001b[0;32mpandas/_libs/parsers.pyx\u001b[0m in \u001b[0;36mpandas._libs.parsers.TextReader._setup_parser_source\u001b[0;34m()\u001b[0m\n",
            "\u001b[0;31mFileNotFoundError\u001b[0m: [Errno 2] File /content/drive/My Drive/Business/06 - Case Services Demand Forecasting-20200501/YFT_TransferBookings.csv does not exist: '/content/drive/My Drive/Business/06 - Case Services Demand Forecasting-20200501/YFT_TransferBookings.csv'"
          ]
        }
      ]
    },
    {
      "cell_type": "markdown",
      "metadata": {
        "id": "A9j2khdfRJ8d",
        "colab_type": "text"
      },
      "source": [
        "### Data Understanding"
      ]
    },
    {
      "cell_type": "code",
      "metadata": {
        "id": "TAZavC61RJ8d",
        "colab_type": "code",
        "colab": {}
      },
      "source": [
        "summary(df_transferBookings)"
      ],
      "execution_count": 0,
      "outputs": []
    },
    {
      "cell_type": "code",
      "metadata": {
        "id": "PcHXK5zdRJ8e",
        "colab_type": "code",
        "colab": {}
      },
      "source": [
        "print(df_transferBookings.isnull().sum())"
      ],
      "execution_count": 0,
      "outputs": []
    },
    {
      "cell_type": "code",
      "metadata": {
        "id": "SG3Mex-nRJ8e",
        "colab_type": "code",
        "colab": {}
      },
      "source": [
        "df_transferBookings.info()"
      ],
      "execution_count": 0,
      "outputs": []
    },
    {
      "cell_type": "code",
      "metadata": {
        "id": "RamY6De8RJ8f",
        "colab_type": "code",
        "colab": {}
      },
      "source": [
        "df_transferBookings=df_transferBookings.drop(['Unnamed: 24', 'Unnamed: 25', 'Unnamed: 26','Unnamed: 27', 'Unnamed: 28'], axis=1)\n"
      ],
      "execution_count": 0,
      "outputs": []
    },
    {
      "cell_type": "code",
      "metadata": {
        "id": "TwBSR-trRJ8f",
        "colab_type": "code",
        "colab": {}
      },
      "source": [
        "df_transferBookings.bookingID.unique()"
      ],
      "execution_count": 0,
      "outputs": []
    },
    {
      "cell_type": "code",
      "metadata": {
        "id": "t7ELnk9gRJ8g",
        "colab_type": "code",
        "colab": {}
      },
      "source": [
        "df_transferBookings.operatorID.unique()"
      ],
      "execution_count": 0,
      "outputs": []
    },
    {
      "cell_type": "code",
      "metadata": {
        "id": "HNzpfVVHRJ8h",
        "colab_type": "code",
        "colab": {}
      },
      "source": [
        "df_transferBookings.whichway.unique()"
      ],
      "execution_count": 0,
      "outputs": []
    },
    {
      "cell_type": "code",
      "metadata": {
        "id": "XPuZJTzrRJ8i",
        "colab_type": "code",
        "colab": {}
      },
      "source": [
        "df_transferBookings.flightNr.unique()"
      ],
      "execution_count": 0,
      "outputs": []
    },
    {
      "cell_type": "code",
      "metadata": {
        "id": "hvVcHWylRJ8j",
        "colab_type": "code",
        "colab": {}
      },
      "source": [
        "df_transferBookings.paymentType.unique()"
      ],
      "execution_count": 0,
      "outputs": []
    },
    {
      "cell_type": "code",
      "metadata": {
        "id": "4LBXJuzIRJ8j",
        "colab_type": "code",
        "colab": {}
      },
      "source": [
        "df_transferBookings.typeOfService.unique()"
      ],
      "execution_count": 0,
      "outputs": []
    },
    {
      "cell_type": "code",
      "metadata": {
        "collapsed": true,
        "id": "e4YhBNxlRJ8k",
        "colab_type": "code",
        "colab": {}
      },
      "source": [
        "df_transferBookings.pickupLocal.unique()"
      ],
      "execution_count": 0,
      "outputs": []
    },
    {
      "cell_type": "code",
      "metadata": {
        "collapsed": true,
        "id": "M4aToxhfRJ8l",
        "colab_type": "code",
        "colab": {}
      },
      "source": [
        "df_transferBookings.dropoffLocal.unique()"
      ],
      "execution_count": 0,
      "outputs": []
    },
    {
      "cell_type": "code",
      "metadata": {
        "id": "fxeKk80CRJ8m",
        "colab_type": "code",
        "colab": {}
      },
      "source": [
        "df_transferBookings.adults                        .unique()"
      ],
      "execution_count": 0,
      "outputs": []
    },
    {
      "cell_type": "code",
      "metadata": {
        "id": "LIXA3LXkRJ8m",
        "colab_type": "code",
        "colab": {}
      },
      "source": [
        "df_transferBookings.children.unique()"
      ],
      "execution_count": 0,
      "outputs": []
    },
    {
      "cell_type": "code",
      "metadata": {
        "id": "1JUeFEhWRJ8n",
        "colab_type": "code",
        "colab": {}
      },
      "source": [
        "df_transferBookings.babies.unique()"
      ],
      "execution_count": 0,
      "outputs": []
    },
    {
      "cell_type": "code",
      "metadata": {
        "id": "o9AxriKKRJ8o",
        "colab_type": "code",
        "colab": {}
      },
      "source": [
        "df_transferBookings.bookingStatus                 .unique()"
      ],
      "execution_count": 0,
      "outputs": []
    },
    {
      "cell_type": "code",
      "metadata": {
        "id": "YffKfBWqRJ8o",
        "colab_type": "code",
        "colab": {}
      },
      "source": [
        "df_transferBookings.serviceStatus                 .unique()"
      ],
      "execution_count": 0,
      "outputs": []
    },
    {
      "cell_type": "markdown",
      "metadata": {
        "id": "owdGU8u7RJ8p",
        "colab_type": "text"
      },
      "source": [
        "### Data Preprocessing"
      ]
    },
    {
      "cell_type": "code",
      "metadata": {
        "id": "qMjZxM1RRJ8p",
        "colab_type": "code",
        "colab": {}
      },
      "source": [
        "# Get names of indexes for which column Age has value 30\n",
        "indexNames = df_transferBookings[ df_transferBookings['bookingStatus'] == 0 ].index\n",
        "# Delete these row indexes from dataFrame\n",
        "df_transferBookings.drop(indexNames , inplace=True)"
      ],
      "execution_count": 0,
      "outputs": []
    },
    {
      "cell_type": "code",
      "metadata": {
        "id": "L9Qxk28ARJ8q",
        "colab_type": "code",
        "colab": {}
      },
      "source": [
        "# Get names of indexes for which column Age has value 30\n",
        "indexNames = df_transferBookings[ df_transferBookings['children'] < 0 ].index\n",
        "# Delete these row indexes from dataFrame\n",
        "df_transferBookings.drop(indexNames , inplace=True)"
      ],
      "execution_count": 0,
      "outputs": []
    },
    {
      "cell_type": "code",
      "metadata": {
        "id": "q0TF4q_lRJ8q",
        "colab_type": "code",
        "colab": {}
      },
      "source": [
        "# Get names of indexes for which column Age has value 30\n",
        "indexNames = df_transferBookings[ df_transferBookings['adults'] == '37.017596,-7.96972' ].index\n",
        "# Delete these row indexes from dataFrame\n",
        "df_transferBookings.drop(indexNames , inplace=True)"
      ],
      "execution_count": 0,
      "outputs": []
    },
    {
      "cell_type": "code",
      "metadata": {
        "id": "uY1mpTpqRJ8r",
        "colab_type": "code",
        "colab": {}
      },
      "source": [
        "# Get names of indexes for which column Age has value 30\n",
        "indexNames = df_transferBookings[ df_transferBookings['adults'] == '37.0970061,-8.2241438'].index\n",
        "# Delete these row indexes from dataFrame\n",
        "df_transferBookings.drop(indexNames , inplace=True)"
      ],
      "execution_count": 0,
      "outputs": []
    },
    {
      "cell_type": "code",
      "metadata": {
        "id": "Srm065gCRJ8r",
        "colab_type": "code",
        "colab": {}
      },
      "source": [
        "df_transferBookings['adults'] = df_transferBookings['adults'].astype('int64')\n"
      ],
      "execution_count": 0,
      "outputs": []
    },
    {
      "cell_type": "code",
      "metadata": {
        "id": "e_RHVQIfRJ8s",
        "colab_type": "code",
        "colab": {}
      },
      "source": [
        "# Get names of indexes for which column Age has value 30\n",
        "indexNames = df_transferBookings[ df_transferBookings['adults'] < 0 ].index\n",
        "# Delete these row indexes from dataFrame\n",
        "df_transferBookings.drop(indexNames , inplace=True)"
      ],
      "execution_count": 0,
      "outputs": []
    },
    {
      "cell_type": "code",
      "metadata": {
        "id": "HBL8eV6iRJ8t",
        "colab_type": "code",
        "colab": {}
      },
      "source": [
        "df_transferBookings = df_transferBookings[~df_transferBookings['pickupLocal'].isin(['0'])]\n"
      ],
      "execution_count": 0,
      "outputs": []
    },
    {
      "cell_type": "code",
      "metadata": {
        "id": "_HeF0r9oRJ8t",
        "colab_type": "code",
        "colab": {}
      },
      "source": [
        "# Get names of indexes for which column Age has value 30\n",
        "indexNames = df_transferBookings[ df_transferBookings['paymentType'] == '0'].index\n",
        "# Delete these row indexes from dataFrame\n",
        "df_transferBookings.drop(indexNames , inplace=True)"
      ],
      "execution_count": 0,
      "outputs": []
    },
    {
      "cell_type": "code",
      "metadata": {
        "id": "d7nKPV8MRJ8u",
        "colab_type": "code",
        "colab": {}
      },
      "source": [
        "# Get names of indexes for which column Age has value 30\n",
        "indexNames = df_transferBookings[ df_transferBookings['paymentType'] == '2'].index\n",
        "# Delete these row indexes from dataFrame\n",
        "df_transferBookings.drop(indexNames , inplace=True)"
      ],
      "execution_count": 0,
      "outputs": []
    },
    {
      "cell_type": "code",
      "metadata": {
        "id": "hN4BbwoNRJ8u",
        "colab_type": "code",
        "colab": {}
      },
      "source": [
        "# Get names of indexes for which column Age has value 30\n",
        "indexNames = df_transferBookings[ df_transferBookings['paymentType'] == '4'].index\n",
        "# Delete these row indexes from dataFrame\n",
        "df_transferBookings.drop(indexNames , inplace=True)"
      ],
      "execution_count": 0,
      "outputs": []
    },
    {
      "cell_type": "code",
      "metadata": {
        "id": "HIk-WL4yRJ8v",
        "colab_type": "code",
        "colab": {}
      },
      "source": [
        "# Get names of indexes for which column Age has value 30\n",
        "indexNames = df_transferBookings[ df_transferBookings['paymentType'] == 'nan'].index\n",
        "# Delete these row indexes from dataFrame\n",
        "df_transferBookings.drop(indexNames , inplace=True)"
      ],
      "execution_count": 0,
      "outputs": []
    },
    {
      "cell_type": "code",
      "metadata": {
        "id": "roaNiTv0RJ8v",
        "colab_type": "code",
        "colab": {}
      },
      "source": [
        "df_transferBookings['whichway'].replace(\"departurex\", 'departure', inplace=True)\n"
      ],
      "execution_count": 0,
      "outputs": []
    },
    {
      "cell_type": "code",
      "metadata": {
        "id": "PkjYzX-7RJ8w",
        "colab_type": "code",
        "colab": {}
      },
      "source": [
        "df_transferBookings = df_transferBookings.dropna(subset=['typeOfService', 'pickupLocal', 'dropoffLocal'] )"
      ],
      "execution_count": 0,
      "outputs": []
    },
    {
      "cell_type": "code",
      "metadata": {
        "id": "Ilb0AH3yRJ8x",
        "colab_type": "code",
        "colab": {}
      },
      "source": [
        "df_transferBookings.to_excel(\"transferBookings.xlsx\")  \n"
      ],
      "execution_count": 0,
      "outputs": []
    },
    {
      "cell_type": "markdown",
      "metadata": {
        "id": "hdflMAblRJ8x",
        "colab_type": "text"
      },
      "source": [
        "### Data Exploration"
      ]
    },
    {
      "cell_type": "markdown",
      "metadata": {
        "id": "obXo1zv4RJ8x",
        "colab_type": "text"
      },
      "source": [
        "#### Adults per transfered bookings"
      ]
    },
    {
      "cell_type": "markdown",
      "metadata": {
        "id": "TGvP7f3GRJ8x",
        "colab_type": "text"
      },
      "source": [
        "<img src=\"adultst.JPG\" alt=\"xxx\" style=\"width: 600px;\"/>"
      ]
    },
    {
      "cell_type": "markdown",
      "metadata": {
        "id": "wzvPS35BRJ8y",
        "colab_type": "text"
      },
      "source": [
        "#### Children per transfered bookings"
      ]
    },
    {
      "cell_type": "markdown",
      "metadata": {
        "id": "d5BBLKrMRJ8y",
        "colab_type": "text"
      },
      "source": [
        "<img src=\"childrent.JPG\" alt=\"xxx\" style=\"width: 600px;\"/>"
      ]
    },
    {
      "cell_type": "markdown",
      "metadata": {
        "id": "ggJXnUFfRJ8y",
        "colab_type": "text"
      },
      "source": [
        "#### Babies per transfered bookings"
      ]
    },
    {
      "cell_type": "markdown",
      "metadata": {
        "id": "4YUVcpTvRJ8y",
        "colab_type": "text"
      },
      "source": [
        "<img src=\"babiest.JPG\" alt=\"xxx\" style=\"width: 600px;\"/>"
      ]
    },
    {
      "cell_type": "markdown",
      "metadata": {
        "id": "d-XeZc_TRJ8y",
        "colab_type": "text"
      },
      "source": [
        "#### Type of transfer per transfered bookings"
      ]
    },
    {
      "cell_type": "markdown",
      "metadata": {
        "id": "AqzqTjMjRJ8y",
        "colab_type": "text"
      },
      "source": [
        "<img src=\"typeOfTrasnfert.JPG\" alt=\"xxx\" style=\"width: 600px;\"/>"
      ]
    },
    {
      "cell_type": "markdown",
      "metadata": {
        "id": "M_ADDMStRJ8y",
        "colab_type": "text"
      },
      "source": [
        "#### Pickup Local per transfered bookings"
      ]
    },
    {
      "cell_type": "markdown",
      "metadata": {
        "id": "FIht2afFRJ8y",
        "colab_type": "text"
      },
      "source": [
        "<img src=\"pickuplocalt.JPG\" alt=\"xxx\" style=\"width: 600px;\"/>"
      ]
    },
    {
      "cell_type": "markdown",
      "metadata": {
        "id": "UAHtj3y6RJ8z",
        "colab_type": "text"
      },
      "source": [
        "#### Dropoff Local per transfered bookings"
      ]
    },
    {
      "cell_type": "markdown",
      "metadata": {
        "id": "ui8YZ4w-RJ8z",
        "colab_type": "text"
      },
      "source": [
        "<img src=\"dropofflocalt.JPG\" alt=\"xxx\" style=\"width: 600px;\"/>"
      ]
    },
    {
      "cell_type": "markdown",
      "metadata": {
        "id": "2BGkU3gDRJ8z",
        "colab_type": "text"
      },
      "source": [
        "#### Flight number per transfered bookings"
      ]
    },
    {
      "cell_type": "markdown",
      "metadata": {
        "id": "fyj1Xh7eRJ8z",
        "colab_type": "text"
      },
      "source": [
        "<img src=\"flightnt.JPG\" alt=\"xxx\" style=\"width: 600px;\"/>"
      ]
    },
    {
      "cell_type": "markdown",
      "metadata": {
        "id": "lnno3cA6RJ8z",
        "colab_type": "text"
      },
      "source": [
        "#### Payment Type per transfered bookings"
      ]
    },
    {
      "cell_type": "markdown",
      "metadata": {
        "id": "X-dPozqZRJ8z",
        "colab_type": "text"
      },
      "source": [
        "<img src=\"paymentTypet.JPG\" alt=\"xxx\" style=\"width: 600px;\"/>"
      ]
    },
    {
      "cell_type": "markdown",
      "metadata": {
        "id": "8I_NlstWRJ8z",
        "colab_type": "text"
      },
      "source": [
        "#### Type of Service per transfered bookings"
      ]
    },
    {
      "cell_type": "markdown",
      "metadata": {
        "id": "Mib9dsOsRJ8z",
        "colab_type": "text"
      },
      "source": [
        "<img src=\"typeOfServicet.JPG\" alt=\"xxx\" style=\"width: 600px;\"/>"
      ]
    },
    {
      "cell_type": "markdown",
      "metadata": {
        "id": "HRP0htukRJ8z",
        "colab_type": "text"
      },
      "source": [
        "#### Service Status per transfered bookings"
      ]
    },
    {
      "cell_type": "markdown",
      "metadata": {
        "id": "XA2WwAmSRJ8z",
        "colab_type": "text"
      },
      "source": [
        "<img src=\"serviceStatust.JPG\" alt=\"xxx\" style=\"width: 600px;\"/>"
      ]
    },
    {
      "cell_type": "markdown",
      "metadata": {
        "id": "Py1b_YC7RJ80",
        "colab_type": "text"
      },
      "source": [
        "#### Booking Status per transfered bookings"
      ]
    },
    {
      "cell_type": "markdown",
      "metadata": {
        "id": "_n_IH75TRJ80",
        "colab_type": "text"
      },
      "source": [
        "<img src=\"bookingStatust.JPG\" alt=\"xxx\" style=\"width: 600px;\"/>"
      ]
    },
    {
      "cell_type": "markdown",
      "metadata": {
        "id": "sb8iZaumRJ80",
        "colab_type": "text"
      },
      "source": [
        "## Manifesto"
      ]
    },
    {
      "cell_type": "code",
      "metadata": {
        "id": "G2uWUV55RJ80",
        "colab_type": "code",
        "colab": {
          "base_uri": "https://localhost:8080/",
          "height": 397
        },
        "outputId": "7ca4491d-e768-47ac-b633-5b0b0f28aef6"
      },
      "source": [
        "manifesto=pd.read_csv(\"/content/drive/My Drive/Business/06 - Case Services Demand Forecasting-20200501/YFT_Manifesto.csv\",sep=\";\", error_bad_lines=False)\n",
        "manifesto.head()"
      ],
      "execution_count": 112,
      "outputs": [
        {
          "output_type": "stream",
          "text": [
            "b'Skipping line 48541: expected 24 fields, saw 25\\nSkipping line 51419: expected 24 fields, saw 25\\nSkipping line 55106: expected 24 fields, saw 25\\nSkipping line 63666: expected 24 fields, saw 25\\n'\n",
            "b'Skipping line 72779: expected 24 fields, saw 25\\n'\n",
            "b'Skipping line 135977: expected 24 fields, saw 25\\nSkipping line 141150: expected 24 fields, saw 25\\nSkipping line 142906: expected 24 fields, saw 25\\nSkipping line 144394: expected 24 fields, saw 25\\nSkipping line 144396: expected 24 fields, saw 25\\nSkipping line 152122: expected 24 fields, saw 25\\n'\n",
            "b'Skipping line 166696: expected 24 fields, saw 25\\n'\n"
          ],
          "name": "stderr"
        },
        {
          "output_type": "execute_result",
          "data": {
            "text/html": [
              "<div>\n",
              "<style scoped>\n",
              "    .dataframe tbody tr th:only-of-type {\n",
              "        vertical-align: middle;\n",
              "    }\n",
              "\n",
              "    .dataframe tbody tr th {\n",
              "        vertical-align: top;\n",
              "    }\n",
              "\n",
              "    .dataframe thead th {\n",
              "        text-align: right;\n",
              "    }\n",
              "</style>\n",
              "<table border=\"1\" class=\"dataframe\">\n",
              "  <thead>\n",
              "    <tr style=\"text-align: right;\">\n",
              "      <th></th>\n",
              "      <th>bookingID</th>\n",
              "      <th>operatorID</th>\n",
              "      <th>whichway</th>\n",
              "      <th>flightNr</th>\n",
              "      <th>paymentType</th>\n",
              "      <th>customerID</th>\n",
              "      <th>typeOfService</th>\n",
              "      <th>serviceDate</th>\n",
              "      <th>serviceTime</th>\n",
              "      <th>pickupLocal</th>\n",
              "      <th>pickupPlaceID</th>\n",
              "      <th>pickupGPSCoordinates</th>\n",
              "      <th>dropoffLocal</th>\n",
              "      <th>dropoffPlaceID</th>\n",
              "      <th>dropoffGPSCoordinates</th>\n",
              "      <th>adults</th>\n",
              "      <th>children</th>\n",
              "      <th>babies</th>\n",
              "      <th>vehicleID</th>\n",
              "      <th>driverID</th>\n",
              "      <th>supplierID</th>\n",
              "      <th>bookingStatus</th>\n",
              "      <th>serviceStatus</th>\n",
              "      <th>bookingDate</th>\n",
              "    </tr>\n",
              "  </thead>\n",
              "  <tbody>\n",
              "    <tr>\n",
              "      <th>0</th>\n",
              "      <td>74968</td>\n",
              "      <td>1</td>\n",
              "      <td>departure</td>\n",
              "      <td>ZB1243</td>\n",
              "      <td>Cash</td>\n",
              "      <td>56823</td>\n",
              "      <td>RAL</td>\n",
              "      <td>2016-01-07</td>\n",
              "      <td>08:15:00</td>\n",
              "      <td>ALBUFEIRA</td>\n",
              "      <td>1</td>\n",
              "      <td>37.09138973782737, -8.240325450897217</td>\n",
              "      <td>FARO AIRPORT</td>\n",
              "      <td>3</td>\n",
              "      <td>37.017596,-7.96972</td>\n",
              "      <td>2</td>\n",
              "      <td>0</td>\n",
              "      <td>0</td>\n",
              "      <td>30</td>\n",
              "      <td>29</td>\n",
              "      <td>0</td>\n",
              "      <td>Done</td>\n",
              "      <td>Done</td>\n",
              "      <td>2015-04-07 18:46:08</td>\n",
              "    </tr>\n",
              "    <tr>\n",
              "      <th>1</th>\n",
              "      <td>77524</td>\n",
              "      <td>1</td>\n",
              "      <td>departure</td>\n",
              "      <td>FR7033</td>\n",
              "      <td>Cash</td>\n",
              "      <td>24133</td>\n",
              "      <td>RAL</td>\n",
              "      <td>2016-01-12</td>\n",
              "      <td>07:30:00</td>\n",
              "      <td>ALBUFEIRA</td>\n",
              "      <td>1</td>\n",
              "      <td>37.0884666,-8.22149849</td>\n",
              "      <td>FARO AIRPORT</td>\n",
              "      <td>3</td>\n",
              "      <td>37.017596,-7.96972</td>\n",
              "      <td>2</td>\n",
              "      <td>0</td>\n",
              "      <td>0</td>\n",
              "      <td>85</td>\n",
              "      <td>163</td>\n",
              "      <td>0</td>\n",
              "      <td>Done</td>\n",
              "      <td>Done</td>\n",
              "      <td>2015-04-29 17:05:44</td>\n",
              "    </tr>\n",
              "    <tr>\n",
              "      <th>2</th>\n",
              "      <td>78623</td>\n",
              "      <td>1</td>\n",
              "      <td>departure</td>\n",
              "      <td>EY8918</td>\n",
              "      <td>B.Transfer</td>\n",
              "      <td>25798</td>\n",
              "      <td>RAL</td>\n",
              "      <td>2016-01-02</td>\n",
              "      <td>06:40:00</td>\n",
              "      <td>LAGOS</td>\n",
              "      <td>23</td>\n",
              "      <td>37.1030579,-8.69011</td>\n",
              "      <td>FARO AIRPORT</td>\n",
              "      <td>3</td>\n",
              "      <td>37.017596,-7.96972</td>\n",
              "      <td>2</td>\n",
              "      <td>2</td>\n",
              "      <td>0</td>\n",
              "      <td>30</td>\n",
              "      <td>29</td>\n",
              "      <td>0</td>\n",
              "      <td>Done</td>\n",
              "      <td>Done</td>\n",
              "      <td>2015-05-08 12:07:17</td>\n",
              "    </tr>\n",
              "    <tr>\n",
              "      <th>3</th>\n",
              "      <td>79196</td>\n",
              "      <td>1</td>\n",
              "      <td>arrival</td>\n",
              "      <td>ZB402</td>\n",
              "      <td>B.Transfer</td>\n",
              "      <td>61773</td>\n",
              "      <td>RAL</td>\n",
              "      <td>2016-01-14</td>\n",
              "      <td>10:00:00</td>\n",
              "      <td>FARO AIRPORT</td>\n",
              "      <td>3</td>\n",
              "      <td>37.017596,-7.96972</td>\n",
              "      <td>QUINTA do LAGO</td>\n",
              "      <td>41</td>\n",
              "      <td>37.04894,-8.018547</td>\n",
              "      <td>3</td>\n",
              "      <td>0</td>\n",
              "      <td>0</td>\n",
              "      <td>4</td>\n",
              "      <td>125</td>\n",
              "      <td>0</td>\n",
              "      <td>Done</td>\n",
              "      <td>Done</td>\n",
              "      <td>2015-05-12 19:20:26</td>\n",
              "    </tr>\n",
              "    <tr>\n",
              "      <th>4</th>\n",
              "      <td>79196</td>\n",
              "      <td>1</td>\n",
              "      <td>departure</td>\n",
              "      <td>ZB403</td>\n",
              "      <td>B.Transfer</td>\n",
              "      <td>61773</td>\n",
              "      <td>RAL</td>\n",
              "      <td>2016-01-21</td>\n",
              "      <td>08:00:00</td>\n",
              "      <td>QUINTA do LAGO</td>\n",
              "      <td>41</td>\n",
              "      <td>37.04894,-8.018547</td>\n",
              "      <td>FARO AIRPORT</td>\n",
              "      <td>3</td>\n",
              "      <td>37.017596,-7.96972</td>\n",
              "      <td>3</td>\n",
              "      <td>0</td>\n",
              "      <td>0</td>\n",
              "      <td>4</td>\n",
              "      <td>125</td>\n",
              "      <td>0</td>\n",
              "      <td>Done</td>\n",
              "      <td>Done</td>\n",
              "      <td>2015-05-12 19:20:26</td>\n",
              "    </tr>\n",
              "  </tbody>\n",
              "</table>\n",
              "</div>"
            ],
            "text/plain": [
              "   bookingID  operatorID  ... serviceStatus          bookingDate\n",
              "0      74968           1  ...          Done  2015-04-07 18:46:08\n",
              "1      77524           1  ...          Done  2015-04-29 17:05:44\n",
              "2      78623           1  ...          Done  2015-05-08 12:07:17\n",
              "3      79196           1  ...          Done  2015-05-12 19:20:26\n",
              "4      79196           1  ...          Done  2015-05-12 19:20:26\n",
              "\n",
              "[5 rows x 24 columns]"
            ]
          },
          "metadata": {
            "tags": []
          },
          "execution_count": 112
        }
      ]
    },
    {
      "cell_type": "code",
      "metadata": {
        "id": "MsQ2j1u5RJ81",
        "colab_type": "code",
        "colab": {
          "base_uri": "https://localhost:8080/",
          "height": 142
        },
        "outputId": "454a3429-b28e-48a8-9d2a-5f83fd2ac62a"
      },
      "source": [
        "cols=['bookingStatus','serviceStatus']\n",
        "manifesto[cols].apply(pd.Series.value_counts).iloc[:10]"
      ],
      "execution_count": 79,
      "outputs": [
        {
          "output_type": "execute_result",
          "data": {
            "text/html": [
              "<div>\n",
              "<style scoped>\n",
              "    .dataframe tbody tr th:only-of-type {\n",
              "        vertical-align: middle;\n",
              "    }\n",
              "\n",
              "    .dataframe tbody tr th {\n",
              "        vertical-align: top;\n",
              "    }\n",
              "\n",
              "    .dataframe thead th {\n",
              "        text-align: right;\n",
              "    }\n",
              "</style>\n",
              "<table border=\"1\" class=\"dataframe\">\n",
              "  <thead>\n",
              "    <tr style=\"text-align: right;\">\n",
              "      <th></th>\n",
              "      <th>bookingStatus</th>\n",
              "      <th>serviceStatus</th>\n",
              "    </tr>\n",
              "  </thead>\n",
              "  <tbody>\n",
              "    <tr>\n",
              "      <th>Done</th>\n",
              "      <td>321208</td>\n",
              "      <td>367323</td>\n",
              "    </tr>\n",
              "    <tr>\n",
              "      <th>Canceled</th>\n",
              "      <td>47344</td>\n",
              "      <td>1813</td>\n",
              "    </tr>\n",
              "    <tr>\n",
              "      <th>No-show</th>\n",
              "      <td>1712</td>\n",
              "      <td>1128</td>\n",
              "    </tr>\n",
              "  </tbody>\n",
              "</table>\n",
              "</div>"
            ],
            "text/plain": [
              "          bookingStatus  serviceStatus\n",
              "Done             321208         367323\n",
              "Canceled          47344           1813\n",
              "No-show            1712           1128"
            ]
          },
          "metadata": {
            "tags": []
          },
          "execution_count": 79
        }
      ]
    },
    {
      "cell_type": "code",
      "metadata": {
        "id": "EMSRR11hRJ81",
        "colab_type": "code",
        "colab": {
          "base_uri": "https://localhost:8080/",
          "height": 136
        },
        "outputId": "3861f43b-2e6e-4f26-bfee-300dea262669"
      },
      "source": [
        "manifesto2=manifesto.groupby(['bookingID'])['bookingID'].count()\n",
        "manifesto2.head()"
      ],
      "execution_count": 80,
      "outputs": [
        {
          "output_type": "execute_result",
          "data": {
            "text/plain": [
              "bookingID\n",
              "74968    1\n",
              "77524    1\n",
              "78623    1\n",
              "79196    2\n",
              "80529    1\n",
              "Name: bookingID, dtype: int64"
            ]
          },
          "metadata": {
            "tags": []
          },
          "execution_count": 80
        }
      ]
    },
    {
      "cell_type": "code",
      "metadata": {
        "id": "B8km_G98RJ82",
        "colab_type": "code",
        "colab": {
          "base_uri": "https://localhost:8080/",
          "height": 309
        },
        "outputId": "89cf2709-e824-4017-c135-bab499d5f38e"
      },
      "source": [
        "#let's copy all duplicated DocIDHash entries to a new database to be able to have a closer look at these records\n",
        "duplicates = manifesto.loc[manifesto['bookingID'].duplicated(False),:]\n",
        "duplicates.head()\n",
        "duplicates.shape\n",
        "duplicates2 = duplicates.loc[duplicates['serviceDate'].duplicated(False),:]\n",
        "duplicates2.head()"
      ],
      "execution_count": 81,
      "outputs": [
        {
          "output_type": "execute_result",
          "data": {
            "text/html": [
              "<div>\n",
              "<style scoped>\n",
              "    .dataframe tbody tr th:only-of-type {\n",
              "        vertical-align: middle;\n",
              "    }\n",
              "\n",
              "    .dataframe tbody tr th {\n",
              "        vertical-align: top;\n",
              "    }\n",
              "\n",
              "    .dataframe thead th {\n",
              "        text-align: right;\n",
              "    }\n",
              "</style>\n",
              "<table border=\"1\" class=\"dataframe\">\n",
              "  <thead>\n",
              "    <tr style=\"text-align: right;\">\n",
              "      <th></th>\n",
              "      <th>bookingID</th>\n",
              "      <th>operatorID</th>\n",
              "      <th>whichway</th>\n",
              "      <th>flightNr</th>\n",
              "      <th>paymentType</th>\n",
              "      <th>customerID</th>\n",
              "      <th>typeOfService</th>\n",
              "      <th>serviceDate</th>\n",
              "      <th>serviceTime</th>\n",
              "      <th>pickupLocal</th>\n",
              "      <th>pickupPlaceID</th>\n",
              "      <th>pickupGPSCoordinates</th>\n",
              "      <th>dropoffLocal</th>\n",
              "      <th>dropoffPlaceID</th>\n",
              "      <th>dropoffGPSCoordinates</th>\n",
              "      <th>adults</th>\n",
              "      <th>children</th>\n",
              "      <th>babies</th>\n",
              "      <th>vehicleID</th>\n",
              "      <th>driverID</th>\n",
              "      <th>supplierID</th>\n",
              "      <th>bookingStatus</th>\n",
              "      <th>serviceStatus</th>\n",
              "      <th>bookingDate</th>\n",
              "    </tr>\n",
              "  </thead>\n",
              "  <tbody>\n",
              "    <tr>\n",
              "      <th>3</th>\n",
              "      <td>79196</td>\n",
              "      <td>1</td>\n",
              "      <td>arrival</td>\n",
              "      <td>ZB402</td>\n",
              "      <td>B.Transfer</td>\n",
              "      <td>61773</td>\n",
              "      <td>RAL</td>\n",
              "      <td>2016-01-14</td>\n",
              "      <td>10:00:00</td>\n",
              "      <td>FARO AIRPORT</td>\n",
              "      <td>3</td>\n",
              "      <td>37.017596,-7.96972</td>\n",
              "      <td>QUINTA do LAGO</td>\n",
              "      <td>41</td>\n",
              "      <td>37.04894,-8.018547</td>\n",
              "      <td>3</td>\n",
              "      <td>0</td>\n",
              "      <td>0</td>\n",
              "      <td>4</td>\n",
              "      <td>125</td>\n",
              "      <td>0</td>\n",
              "      <td>Done</td>\n",
              "      <td>Done</td>\n",
              "      <td>2015-05-12 19:20:26</td>\n",
              "    </tr>\n",
              "    <tr>\n",
              "      <th>4</th>\n",
              "      <td>79196</td>\n",
              "      <td>1</td>\n",
              "      <td>departure</td>\n",
              "      <td>ZB403</td>\n",
              "      <td>B.Transfer</td>\n",
              "      <td>61773</td>\n",
              "      <td>RAL</td>\n",
              "      <td>2016-01-21</td>\n",
              "      <td>08:00:00</td>\n",
              "      <td>QUINTA do LAGO</td>\n",
              "      <td>41</td>\n",
              "      <td>37.04894,-8.018547</td>\n",
              "      <td>FARO AIRPORT</td>\n",
              "      <td>3</td>\n",
              "      <td>37.017596,-7.96972</td>\n",
              "      <td>3</td>\n",
              "      <td>0</td>\n",
              "      <td>0</td>\n",
              "      <td>4</td>\n",
              "      <td>125</td>\n",
              "      <td>0</td>\n",
              "      <td>Done</td>\n",
              "      <td>Done</td>\n",
              "      <td>2015-05-12 19:20:26</td>\n",
              "    </tr>\n",
              "    <tr>\n",
              "      <th>6</th>\n",
              "      <td>83487</td>\n",
              "      <td>1</td>\n",
              "      <td>arrival</td>\n",
              "      <td>EZY6005</td>\n",
              "      <td>B.Transfer</td>\n",
              "      <td>46885</td>\n",
              "      <td>RAL</td>\n",
              "      <td>2016-01-29</td>\n",
              "      <td>10:30:00</td>\n",
              "      <td>FARO AIRPORT</td>\n",
              "      <td>3</td>\n",
              "      <td>37.017596,-7.96972</td>\n",
              "      <td>ALVOR</td>\n",
              "      <td>11</td>\n",
              "      <td>37.12729394502123, -8.590882122516632</td>\n",
              "      <td>2</td>\n",
              "      <td>0</td>\n",
              "      <td>0</td>\n",
              "      <td>89</td>\n",
              "      <td>3</td>\n",
              "      <td>0</td>\n",
              "      <td>Done</td>\n",
              "      <td>Done</td>\n",
              "      <td>2015-06-09 12:31:40</td>\n",
              "    </tr>\n",
              "    <tr>\n",
              "      <th>7</th>\n",
              "      <td>83487</td>\n",
              "      <td>1</td>\n",
              "      <td>departure</td>\n",
              "      <td>EZY6006</td>\n",
              "      <td>B.Transfer</td>\n",
              "      <td>46885</td>\n",
              "      <td>RAL</td>\n",
              "      <td>2016-02-12</td>\n",
              "      <td>08:00:00</td>\n",
              "      <td>ALVOR</td>\n",
              "      <td>11</td>\n",
              "      <td>37.12729394502123, -8.590882122516632</td>\n",
              "      <td>FARO AIRPORT</td>\n",
              "      <td>3</td>\n",
              "      <td>37.017596,-7.96972</td>\n",
              "      <td>2</td>\n",
              "      <td>0</td>\n",
              "      <td>0</td>\n",
              "      <td>22</td>\n",
              "      <td>173</td>\n",
              "      <td>0</td>\n",
              "      <td>Done</td>\n",
              "      <td>Done</td>\n",
              "      <td>2015-06-09 12:31:40</td>\n",
              "    </tr>\n",
              "    <tr>\n",
              "      <th>8</th>\n",
              "      <td>84157</td>\n",
              "      <td>1</td>\n",
              "      <td>arrival</td>\n",
              "      <td>BA2694</td>\n",
              "      <td>B.Transfer</td>\n",
              "      <td>23258</td>\n",
              "      <td>RAL</td>\n",
              "      <td>2016-03-31</td>\n",
              "      <td>12:05:00</td>\n",
              "      <td>FARO AIRPORT</td>\n",
              "      <td>3</td>\n",
              "      <td>37.017596,-7.96972</td>\n",
              "      <td>VILAMOURA</td>\n",
              "      <td>2</td>\n",
              "      <td>37.0933092,-8.1242628</td>\n",
              "      <td>4</td>\n",
              "      <td>0</td>\n",
              "      <td>0</td>\n",
              "      <td>28</td>\n",
              "      <td>47</td>\n",
              "      <td>0</td>\n",
              "      <td>Done</td>\n",
              "      <td>Done</td>\n",
              "      <td>2015-06-13 15:07:32</td>\n",
              "    </tr>\n",
              "  </tbody>\n",
              "</table>\n",
              "</div>"
            ],
            "text/plain": [
              "   bookingID  operatorID  ... serviceStatus          bookingDate\n",
              "3      79196           1  ...          Done  2015-05-12 19:20:26\n",
              "4      79196           1  ...          Done  2015-05-12 19:20:26\n",
              "6      83487           1  ...          Done  2015-06-09 12:31:40\n",
              "7      83487           1  ...          Done  2015-06-09 12:31:40\n",
              "8      84157           1  ...          Done  2015-06-13 15:07:32\n",
              "\n",
              "[5 rows x 24 columns]"
            ]
          },
          "metadata": {
            "tags": []
          },
          "execution_count": 81
        }
      ]
    },
    {
      "cell_type": "code",
      "metadata": {
        "id": "emRl4h7eRJ83",
        "colab_type": "code",
        "colab": {
          "base_uri": "https://localhost:8080/",
          "height": 442
        },
        "outputId": "77b510f0-2074-4894-887b-43ccf00c4a7f"
      },
      "source": [
        "total = manifesto.isnull().sum().sort_values(ascending=False)\n",
        "total"
      ],
      "execution_count": 82,
      "outputs": [
        {
          "output_type": "execute_result",
          "data": {
            "text/plain": [
              "flightNr                 20289\n",
              "dropoffGPSCoordinates     1972\n",
              "pickupGPSCoordinates       237\n",
              "typeOfService               11\n",
              "dropoffLocal                 3\n",
              "pickupLocal                  2\n",
              "pickupPlaceID                0\n",
              "operatorID                   0\n",
              "whichway                     0\n",
              "paymentType                  0\n",
              "customerID                   0\n",
              "serviceDate                  0\n",
              "serviceTime                  0\n",
              "bookingDate                  0\n",
              "serviceStatus                0\n",
              "dropoffPlaceID               0\n",
              "adults                       0\n",
              "children                     0\n",
              "babies                       0\n",
              "vehicleID                    0\n",
              "driverID                     0\n",
              "supplierID                   0\n",
              "bookingStatus                0\n",
              "bookingID                    0\n",
              "dtype: int64"
            ]
          },
          "metadata": {
            "tags": []
          },
          "execution_count": 82
        }
      ]
    },
    {
      "cell_type": "markdown",
      "metadata": {
        "id": "wtTG_coXX7E-",
        "colab_type": "text"
      },
      "source": [
        "After check nulls we decided drop this features\n",
        "flightNr           \n",
        "dropoffGPSCoordinates  \n",
        "pickupGPSCoordinates\n",
        "```\n",
        "\n"
      ]
    },
    {
      "cell_type": "code",
      "metadata": {
        "id": "2LmCYD7JRJ84",
        "colab_type": "code",
        "colab": {
          "base_uri": "https://localhost:8080/",
          "height": 117
        },
        "outputId": "bcf81d57-e0d4-4c4c-d83a-0f0fcc574523"
      },
      "source": [
        "manifesto['serviceDate'] =  pd.to_datetime(manifesto['serviceDate'], format='%Y/%m/%d')\n",
        "manifesto.head(1)"
      ],
      "execution_count": 83,
      "outputs": [
        {
          "output_type": "execute_result",
          "data": {
            "text/html": [
              "<div>\n",
              "<style scoped>\n",
              "    .dataframe tbody tr th:only-of-type {\n",
              "        vertical-align: middle;\n",
              "    }\n",
              "\n",
              "    .dataframe tbody tr th {\n",
              "        vertical-align: top;\n",
              "    }\n",
              "\n",
              "    .dataframe thead th {\n",
              "        text-align: right;\n",
              "    }\n",
              "</style>\n",
              "<table border=\"1\" class=\"dataframe\">\n",
              "  <thead>\n",
              "    <tr style=\"text-align: right;\">\n",
              "      <th></th>\n",
              "      <th>bookingID</th>\n",
              "      <th>operatorID</th>\n",
              "      <th>whichway</th>\n",
              "      <th>flightNr</th>\n",
              "      <th>paymentType</th>\n",
              "      <th>customerID</th>\n",
              "      <th>typeOfService</th>\n",
              "      <th>serviceDate</th>\n",
              "      <th>serviceTime</th>\n",
              "      <th>pickupLocal</th>\n",
              "      <th>pickupPlaceID</th>\n",
              "      <th>pickupGPSCoordinates</th>\n",
              "      <th>dropoffLocal</th>\n",
              "      <th>dropoffPlaceID</th>\n",
              "      <th>dropoffGPSCoordinates</th>\n",
              "      <th>adults</th>\n",
              "      <th>children</th>\n",
              "      <th>babies</th>\n",
              "      <th>vehicleID</th>\n",
              "      <th>driverID</th>\n",
              "      <th>supplierID</th>\n",
              "      <th>bookingStatus</th>\n",
              "      <th>serviceStatus</th>\n",
              "      <th>bookingDate</th>\n",
              "    </tr>\n",
              "  </thead>\n",
              "  <tbody>\n",
              "    <tr>\n",
              "      <th>0</th>\n",
              "      <td>74968</td>\n",
              "      <td>1</td>\n",
              "      <td>departure</td>\n",
              "      <td>ZB1243</td>\n",
              "      <td>Cash</td>\n",
              "      <td>56823</td>\n",
              "      <td>RAL</td>\n",
              "      <td>2016-01-07</td>\n",
              "      <td>08:15:00</td>\n",
              "      <td>ALBUFEIRA</td>\n",
              "      <td>1</td>\n",
              "      <td>37.09138973782737, -8.240325450897217</td>\n",
              "      <td>FARO AIRPORT</td>\n",
              "      <td>3</td>\n",
              "      <td>37.017596,-7.96972</td>\n",
              "      <td>2</td>\n",
              "      <td>0</td>\n",
              "      <td>0</td>\n",
              "      <td>30</td>\n",
              "      <td>29</td>\n",
              "      <td>0</td>\n",
              "      <td>Done</td>\n",
              "      <td>Done</td>\n",
              "      <td>2015-04-07 18:46:08</td>\n",
              "    </tr>\n",
              "  </tbody>\n",
              "</table>\n",
              "</div>"
            ],
            "text/plain": [
              "   bookingID  operatorID  ... serviceStatus          bookingDate\n",
              "0      74968           1  ...          Done  2015-04-07 18:46:08\n",
              "\n",
              "[1 rows x 24 columns]"
            ]
          },
          "metadata": {
            "tags": []
          },
          "execution_count": 83
        }
      ]
    },
    {
      "cell_type": "code",
      "metadata": {
        "id": "IvZ93bTWRJ84",
        "colab_type": "code",
        "colab": {
          "base_uri": "https://localhost:8080/",
          "height": 473
        },
        "outputId": "b6d52dab-f806-47f7-c2f1-7b6a8c69ebc7"
      },
      "source": [
        "manifesto['day']=manifesto['serviceDate'].dt.dayofweek\n",
        "manifesto['day_month']=manifesto['serviceDate'].dt.day\n",
        "manifesto['week']=manifesto['serviceDate'].dt.weekofyear\n",
        "manifesto['month']=manifesto['serviceDate'].dt.month\n",
        "manifesto['year']=manifesto['serviceDate'].dt.year\n",
        "manifesto.head(8)"
      ],
      "execution_count": 93,
      "outputs": [
        {
          "output_type": "execute_result",
          "data": {
            "text/html": [
              "<div>\n",
              "<style scoped>\n",
              "    .dataframe tbody tr th:only-of-type {\n",
              "        vertical-align: middle;\n",
              "    }\n",
              "\n",
              "    .dataframe tbody tr th {\n",
              "        vertical-align: top;\n",
              "    }\n",
              "\n",
              "    .dataframe thead th {\n",
              "        text-align: right;\n",
              "    }\n",
              "</style>\n",
              "<table border=\"1\" class=\"dataframe\">\n",
              "  <thead>\n",
              "    <tr style=\"text-align: right;\">\n",
              "      <th></th>\n",
              "      <th>bookingID</th>\n",
              "      <th>operatorID</th>\n",
              "      <th>whichway</th>\n",
              "      <th>flightNr</th>\n",
              "      <th>paymentType</th>\n",
              "      <th>customerID</th>\n",
              "      <th>typeOfService</th>\n",
              "      <th>serviceDate</th>\n",
              "      <th>serviceTime</th>\n",
              "      <th>pickupLocal</th>\n",
              "      <th>pickupPlaceID</th>\n",
              "      <th>pickupGPSCoordinates</th>\n",
              "      <th>dropoffLocal</th>\n",
              "      <th>dropoffPlaceID</th>\n",
              "      <th>dropoffGPSCoordinates</th>\n",
              "      <th>adults</th>\n",
              "      <th>children</th>\n",
              "      <th>babies</th>\n",
              "      <th>vehicleID</th>\n",
              "      <th>driverID</th>\n",
              "      <th>supplierID</th>\n",
              "      <th>bookingStatus</th>\n",
              "      <th>serviceStatus</th>\n",
              "      <th>bookingDate</th>\n",
              "      <th>day</th>\n",
              "      <th>day_month</th>\n",
              "      <th>week</th>\n",
              "      <th>month</th>\n",
              "      <th>New_week</th>\n",
              "      <th>year</th>\n",
              "    </tr>\n",
              "  </thead>\n",
              "  <tbody>\n",
              "    <tr>\n",
              "      <th>0</th>\n",
              "      <td>74968</td>\n",
              "      <td>1</td>\n",
              "      <td>departure</td>\n",
              "      <td>ZB1243</td>\n",
              "      <td>Cash</td>\n",
              "      <td>56823</td>\n",
              "      <td>RAL</td>\n",
              "      <td>2016-01-07</td>\n",
              "      <td>08:15:00</td>\n",
              "      <td>ALBUFEIRA</td>\n",
              "      <td>1</td>\n",
              "      <td>37.09138973782737, -8.240325450897217</td>\n",
              "      <td>FARO AIRPORT</td>\n",
              "      <td>3</td>\n",
              "      <td>37.017596,-7.96972</td>\n",
              "      <td>2</td>\n",
              "      <td>0</td>\n",
              "      <td>0</td>\n",
              "      <td>30</td>\n",
              "      <td>29</td>\n",
              "      <td>0</td>\n",
              "      <td>Done</td>\n",
              "      <td>Done</td>\n",
              "      <td>2015-04-07 18:46:08</td>\n",
              "      <td>3</td>\n",
              "      <td>7</td>\n",
              "      <td>1</td>\n",
              "      <td>1</td>\n",
              "      <td>2</td>\n",
              "      <td>2016</td>\n",
              "    </tr>\n",
              "    <tr>\n",
              "      <th>1</th>\n",
              "      <td>77524</td>\n",
              "      <td>1</td>\n",
              "      <td>departure</td>\n",
              "      <td>FR7033</td>\n",
              "      <td>Cash</td>\n",
              "      <td>24133</td>\n",
              "      <td>RAL</td>\n",
              "      <td>2016-01-12</td>\n",
              "      <td>07:30:00</td>\n",
              "      <td>ALBUFEIRA</td>\n",
              "      <td>1</td>\n",
              "      <td>37.0884666,-8.22149849</td>\n",
              "      <td>FARO AIRPORT</td>\n",
              "      <td>3</td>\n",
              "      <td>37.017596,-7.96972</td>\n",
              "      <td>2</td>\n",
              "      <td>0</td>\n",
              "      <td>0</td>\n",
              "      <td>85</td>\n",
              "      <td>163</td>\n",
              "      <td>0</td>\n",
              "      <td>Done</td>\n",
              "      <td>Done</td>\n",
              "      <td>2015-04-29 17:05:44</td>\n",
              "      <td>1</td>\n",
              "      <td>12</td>\n",
              "      <td>2</td>\n",
              "      <td>1</td>\n",
              "      <td>3</td>\n",
              "      <td>2016</td>\n",
              "    </tr>\n",
              "    <tr>\n",
              "      <th>2</th>\n",
              "      <td>78623</td>\n",
              "      <td>1</td>\n",
              "      <td>departure</td>\n",
              "      <td>EY8918</td>\n",
              "      <td>B.Transfer</td>\n",
              "      <td>25798</td>\n",
              "      <td>RAL</td>\n",
              "      <td>2016-01-02</td>\n",
              "      <td>06:40:00</td>\n",
              "      <td>LAGOS</td>\n",
              "      <td>23</td>\n",
              "      <td>37.1030579,-8.69011</td>\n",
              "      <td>FARO AIRPORT</td>\n",
              "      <td>3</td>\n",
              "      <td>37.017596,-7.96972</td>\n",
              "      <td>2</td>\n",
              "      <td>2</td>\n",
              "      <td>0</td>\n",
              "      <td>30</td>\n",
              "      <td>29</td>\n",
              "      <td>0</td>\n",
              "      <td>Done</td>\n",
              "      <td>Done</td>\n",
              "      <td>2015-05-08 12:07:17</td>\n",
              "      <td>5</td>\n",
              "      <td>2</td>\n",
              "      <td>53</td>\n",
              "      <td>1</td>\n",
              "      <td>1</td>\n",
              "      <td>2016</td>\n",
              "    </tr>\n",
              "    <tr>\n",
              "      <th>3</th>\n",
              "      <td>79196</td>\n",
              "      <td>1</td>\n",
              "      <td>arrival</td>\n",
              "      <td>ZB402</td>\n",
              "      <td>B.Transfer</td>\n",
              "      <td>61773</td>\n",
              "      <td>RAL</td>\n",
              "      <td>2016-01-14</td>\n",
              "      <td>10:00:00</td>\n",
              "      <td>FARO AIRPORT</td>\n",
              "      <td>3</td>\n",
              "      <td>37.017596,-7.96972</td>\n",
              "      <td>QUINTA do LAGO</td>\n",
              "      <td>41</td>\n",
              "      <td>37.04894,-8.018547</td>\n",
              "      <td>3</td>\n",
              "      <td>0</td>\n",
              "      <td>0</td>\n",
              "      <td>4</td>\n",
              "      <td>125</td>\n",
              "      <td>0</td>\n",
              "      <td>Done</td>\n",
              "      <td>Done</td>\n",
              "      <td>2015-05-12 19:20:26</td>\n",
              "      <td>3</td>\n",
              "      <td>14</td>\n",
              "      <td>2</td>\n",
              "      <td>1</td>\n",
              "      <td>3</td>\n",
              "      <td>2016</td>\n",
              "    </tr>\n",
              "    <tr>\n",
              "      <th>4</th>\n",
              "      <td>79196</td>\n",
              "      <td>1</td>\n",
              "      <td>departure</td>\n",
              "      <td>ZB403</td>\n",
              "      <td>B.Transfer</td>\n",
              "      <td>61773</td>\n",
              "      <td>RAL</td>\n",
              "      <td>2016-01-21</td>\n",
              "      <td>08:00:00</td>\n",
              "      <td>QUINTA do LAGO</td>\n",
              "      <td>41</td>\n",
              "      <td>37.04894,-8.018547</td>\n",
              "      <td>FARO AIRPORT</td>\n",
              "      <td>3</td>\n",
              "      <td>37.017596,-7.96972</td>\n",
              "      <td>3</td>\n",
              "      <td>0</td>\n",
              "      <td>0</td>\n",
              "      <td>4</td>\n",
              "      <td>125</td>\n",
              "      <td>0</td>\n",
              "      <td>Done</td>\n",
              "      <td>Done</td>\n",
              "      <td>2015-05-12 19:20:26</td>\n",
              "      <td>3</td>\n",
              "      <td>21</td>\n",
              "      <td>3</td>\n",
              "      <td>1</td>\n",
              "      <td>4</td>\n",
              "      <td>2016</td>\n",
              "    </tr>\n",
              "    <tr>\n",
              "      <th>5</th>\n",
              "      <td>80529</td>\n",
              "      <td>113</td>\n",
              "      <td>departure</td>\n",
              "      <td>EZY6844</td>\n",
              "      <td>Op.Collected</td>\n",
              "      <td>63393</td>\n",
              "      <td>RAL</td>\n",
              "      <td>2016-01-02</td>\n",
              "      <td>16:35:00</td>\n",
              "      <td>ALBUFEIRA</td>\n",
              "      <td>1</td>\n",
              "      <td>37.08798402887410000,-8.2487207651138300</td>\n",
              "      <td>FARO AIRPORT</td>\n",
              "      <td>3</td>\n",
              "      <td>37.017596,-7.96972</td>\n",
              "      <td>2</td>\n",
              "      <td>0</td>\n",
              "      <td>0</td>\n",
              "      <td>2</td>\n",
              "      <td>185</td>\n",
              "      <td>0</td>\n",
              "      <td>Done</td>\n",
              "      <td>Done</td>\n",
              "      <td>2015-05-21 15:27:06</td>\n",
              "      <td>5</td>\n",
              "      <td>2</td>\n",
              "      <td>53</td>\n",
              "      <td>1</td>\n",
              "      <td>1</td>\n",
              "      <td>2016</td>\n",
              "    </tr>\n",
              "    <tr>\n",
              "      <th>6</th>\n",
              "      <td>83487</td>\n",
              "      <td>1</td>\n",
              "      <td>arrival</td>\n",
              "      <td>EZY6005</td>\n",
              "      <td>B.Transfer</td>\n",
              "      <td>46885</td>\n",
              "      <td>RAL</td>\n",
              "      <td>2016-01-29</td>\n",
              "      <td>10:30:00</td>\n",
              "      <td>FARO AIRPORT</td>\n",
              "      <td>3</td>\n",
              "      <td>37.017596,-7.96972</td>\n",
              "      <td>ALVOR</td>\n",
              "      <td>11</td>\n",
              "      <td>37.12729394502123, -8.590882122516632</td>\n",
              "      <td>2</td>\n",
              "      <td>0</td>\n",
              "      <td>0</td>\n",
              "      <td>89</td>\n",
              "      <td>3</td>\n",
              "      <td>0</td>\n",
              "      <td>Done</td>\n",
              "      <td>Done</td>\n",
              "      <td>2015-06-09 12:31:40</td>\n",
              "      <td>4</td>\n",
              "      <td>29</td>\n",
              "      <td>4</td>\n",
              "      <td>1</td>\n",
              "      <td>5</td>\n",
              "      <td>2016</td>\n",
              "    </tr>\n",
              "    <tr>\n",
              "      <th>7</th>\n",
              "      <td>83487</td>\n",
              "      <td>1</td>\n",
              "      <td>departure</td>\n",
              "      <td>EZY6006</td>\n",
              "      <td>B.Transfer</td>\n",
              "      <td>46885</td>\n",
              "      <td>RAL</td>\n",
              "      <td>2016-02-12</td>\n",
              "      <td>08:00:00</td>\n",
              "      <td>ALVOR</td>\n",
              "      <td>11</td>\n",
              "      <td>37.12729394502123, -8.590882122516632</td>\n",
              "      <td>FARO AIRPORT</td>\n",
              "      <td>3</td>\n",
              "      <td>37.017596,-7.96972</td>\n",
              "      <td>2</td>\n",
              "      <td>0</td>\n",
              "      <td>0</td>\n",
              "      <td>22</td>\n",
              "      <td>173</td>\n",
              "      <td>0</td>\n",
              "      <td>Done</td>\n",
              "      <td>Done</td>\n",
              "      <td>2015-06-09 12:31:40</td>\n",
              "      <td>4</td>\n",
              "      <td>12</td>\n",
              "      <td>6</td>\n",
              "      <td>2</td>\n",
              "      <td>6</td>\n",
              "      <td>2016</td>\n",
              "    </tr>\n",
              "  </tbody>\n",
              "</table>\n",
              "</div>"
            ],
            "text/plain": [
              "   bookingID  operatorID   whichway flightNr  ... week  month New_week  year\n",
              "0      74968           1  departure   ZB1243  ...    1      1        2  2016\n",
              "1      77524           1  departure   FR7033  ...    2      1        3  2016\n",
              "2      78623           1  departure   EY8918  ...   53      1        1  2016\n",
              "3      79196           1    arrival   ZB402   ...    2      1        3  2016\n",
              "4      79196           1  departure   ZB403   ...    3      1        4  2016\n",
              "5      80529         113  departure  EZY6844  ...   53      1        1  2016\n",
              "6      83487           1    arrival  EZY6005  ...    4      1        5  2016\n",
              "7      83487           1  departure  EZY6006  ...    6      2        6  2016\n",
              "\n",
              "[8 rows x 30 columns]"
            ]
          },
          "metadata": {
            "tags": []
          },
          "execution_count": 93
        }
      ]
    },
    {
      "cell_type": "code",
      "metadata": {
        "id": "KboafPnURJ85",
        "colab_type": "code",
        "colab": {}
      },
      "source": [
        "def set_week(row):\n",
        "    if row['week'] ==53 and row['month'] ==1 :\n",
        "        return 1\n",
        "    elif row['week'] ==52 and row['month'] ==1 :\n",
        "        return 1\n",
        "    elif row['week'] !=53 and row['month'] ==1 :\n",
        "        return row['week']+1\n",
        "    else:\n",
        "        return row['week'] \n",
        "\n",
        "manifesto=manifesto.assign(New_week=manifesto.apply(set_week, axis=1))"
      ],
      "execution_count": 0,
      "outputs": []
    },
    {
      "cell_type": "code",
      "metadata": {
        "id": "Oa2X_XxYZks7",
        "colab_type": "code",
        "colab": {
          "base_uri": "https://localhost:8080/",
          "height": 85
        },
        "outputId": "6de862dc-1cea-48f2-8768-992e7a28704f"
      },
      "source": [
        "manifesto.New_week.unique()"
      ],
      "execution_count": 87,
      "outputs": [
        {
          "output_type": "execute_result",
          "data": {
            "text/plain": [
              "array([ 2,  3,  1,  4,  5,  6, 13, 14, 21, 22, 23, 16, 17, 18, 20, 15,  9,\n",
              "       26, 27, 28, 19, 10, 24, 29, 25, 30, 32, 31, 33, 34, 12, 35,  7, 36,\n",
              "       11, 38, 39, 41, 42, 37,  8, 47, 40, 43, 51, 48, 49, 52, 45, 46, 44,\n",
              "       50])"
            ]
          },
          "metadata": {
            "tags": []
          },
          "execution_count": 87
        }
      ]
    },
    {
      "cell_type": "code",
      "metadata": {
        "id": "o4Vi9Yn_Zu3B",
        "colab_type": "code",
        "colab": {
          "base_uri": "https://localhost:8080/",
          "height": 142
        },
        "outputId": "6d4a29fc-f384-4690-bcdc-8c62a6858685"
      },
      "source": [
        "table1 = pd.crosstab(index = manifesto['bookingStatus'], \n",
        "                     columns = manifesto['serviceStatus'],\n",
        "                    margins = True)\n",
        "table1"
      ],
      "execution_count": 89,
      "outputs": [
        {
          "output_type": "execute_result",
          "data": {
            "text/html": [
              "<div>\n",
              "<style scoped>\n",
              "    .dataframe tbody tr th:only-of-type {\n",
              "        vertical-align: middle;\n",
              "    }\n",
              "\n",
              "    .dataframe tbody tr th {\n",
              "        vertical-align: top;\n",
              "    }\n",
              "\n",
              "    .dataframe thead th {\n",
              "        text-align: right;\n",
              "    }\n",
              "</style>\n",
              "<table border=\"1\" class=\"dataframe\">\n",
              "  <thead>\n",
              "    <tr style=\"text-align: right;\">\n",
              "      <th>serviceStatus</th>\n",
              "      <th>Done</th>\n",
              "      <th>All</th>\n",
              "    </tr>\n",
              "    <tr>\n",
              "      <th>bookingStatus</th>\n",
              "      <th></th>\n",
              "      <th></th>\n",
              "    </tr>\n",
              "  </thead>\n",
              "  <tbody>\n",
              "    <tr>\n",
              "      <th>Done</th>\n",
              "      <td>318991</td>\n",
              "      <td>318991</td>\n",
              "    </tr>\n",
              "    <tr>\n",
              "      <th>All</th>\n",
              "      <td>318991</td>\n",
              "      <td>318991</td>\n",
              "    </tr>\n",
              "  </tbody>\n",
              "</table>\n",
              "</div>"
            ],
            "text/plain": [
              "serviceStatus    Done     All\n",
              "bookingStatus                \n",
              "Done           318991  318991\n",
              "All            318991  318991"
            ]
          },
          "metadata": {
            "tags": []
          },
          "execution_count": 89
        }
      ]
    },
    {
      "cell_type": "code",
      "metadata": {
        "id": "OO9485s2RJ85",
        "colab_type": "code",
        "colab": {}
      },
      "source": [
        "manifesto.drop(manifesto[ (manifesto.babies < 0) ].index, axis=0, inplace=True)\n",
        "manifesto.drop(manifesto[ (manifesto.children < 0) ].index, axis=0, inplace=True)\n",
        "manifesto.drop(manifesto[ (manifesto.adults < 0) ].index, axis=0, inplace=True)\n",
        "manifesto.drop(manifesto[ (manifesto.bookingStatus != 'Done') ].index, axis=0, inplace=True)\n",
        "manifesto.drop(manifesto[ (manifesto.serviceStatus != 'Done') ].index, axis=0, inplace=True)"
      ],
      "execution_count": 0,
      "outputs": []
    },
    {
      "cell_type": "code",
      "metadata": {
        "id": "-rT0f5R8aaYi",
        "colab_type": "code",
        "colab": {
          "base_uri": "https://localhost:8080/",
          "height": 349
        },
        "outputId": "e7cbca7f-1e9e-44c0-c86e-f10a9e27feff"
      },
      "source": [
        "duplicateRowsDF = manifesto.sort_values('bookingID', ascending=False)\n",
        "duplicateRowsDF = duplicateRowsDF.drop_duplicates(subset=['bookingID','serviceDate','whichway'], keep='first')\n",
        "duplicateRowsDF.head()"
      ],
      "execution_count": 96,
      "outputs": [
        {
          "output_type": "execute_result",
          "data": {
            "text/html": [
              "<div>\n",
              "<style scoped>\n",
              "    .dataframe tbody tr th:only-of-type {\n",
              "        vertical-align: middle;\n",
              "    }\n",
              "\n",
              "    .dataframe tbody tr th {\n",
              "        vertical-align: top;\n",
              "    }\n",
              "\n",
              "    .dataframe thead th {\n",
              "        text-align: right;\n",
              "    }\n",
              "</style>\n",
              "<table border=\"1\" class=\"dataframe\">\n",
              "  <thead>\n",
              "    <tr style=\"text-align: right;\">\n",
              "      <th></th>\n",
              "      <th>bookingID</th>\n",
              "      <th>operatorID</th>\n",
              "      <th>whichway</th>\n",
              "      <th>flightNr</th>\n",
              "      <th>paymentType</th>\n",
              "      <th>customerID</th>\n",
              "      <th>typeOfService</th>\n",
              "      <th>serviceDate</th>\n",
              "      <th>serviceTime</th>\n",
              "      <th>pickupLocal</th>\n",
              "      <th>pickupPlaceID</th>\n",
              "      <th>pickupGPSCoordinates</th>\n",
              "      <th>dropoffLocal</th>\n",
              "      <th>dropoffPlaceID</th>\n",
              "      <th>dropoffGPSCoordinates</th>\n",
              "      <th>adults</th>\n",
              "      <th>children</th>\n",
              "      <th>babies</th>\n",
              "      <th>vehicleID</th>\n",
              "      <th>driverID</th>\n",
              "      <th>supplierID</th>\n",
              "      <th>bookingStatus</th>\n",
              "      <th>serviceStatus</th>\n",
              "      <th>bookingDate</th>\n",
              "      <th>day</th>\n",
              "      <th>day_month</th>\n",
              "      <th>week</th>\n",
              "      <th>month</th>\n",
              "      <th>New_week</th>\n",
              "      <th>year</th>\n",
              "    </tr>\n",
              "  </thead>\n",
              "  <tbody>\n",
              "    <tr>\n",
              "      <th>370263</th>\n",
              "      <td>330143</td>\n",
              "      <td>1</td>\n",
              "      <td>departure</td>\n",
              "      <td>FR3712</td>\n",
              "      <td>Cash</td>\n",
              "      <td>216942</td>\n",
              "      <td>OLA</td>\n",
              "      <td>2019-12-02</td>\n",
              "      <td>11:00:00</td>\n",
              "      <td>QUINTA do LAGO</td>\n",
              "      <td>41</td>\n",
              "      <td>37.062350, -8.036359</td>\n",
              "      <td>FARO AIRPORT</td>\n",
              "      <td>3</td>\n",
              "      <td>37.017596,-7.96972</td>\n",
              "      <td>4</td>\n",
              "      <td>0</td>\n",
              "      <td>0</td>\n",
              "      <td>274</td>\n",
              "      <td>683</td>\n",
              "      <td>0</td>\n",
              "      <td>Done</td>\n",
              "      <td>Done</td>\n",
              "      <td>2019-12-02 09:39:02</td>\n",
              "      <td>0</td>\n",
              "      <td>2</td>\n",
              "      <td>49</td>\n",
              "      <td>12</td>\n",
              "      <td>49</td>\n",
              "      <td>2019</td>\n",
              "    </tr>\n",
              "    <tr>\n",
              "      <th>370260</th>\n",
              "      <td>330135</td>\n",
              "      <td>1</td>\n",
              "      <td>departure</td>\n",
              "      <td>EZY8914</td>\n",
              "      <td>Cash</td>\n",
              "      <td>189747</td>\n",
              "      <td>OLA</td>\n",
              "      <td>2019-12-02</td>\n",
              "      <td>08:30:00</td>\n",
              "      <td>BOLIQUEIME</td>\n",
              "      <td>133</td>\n",
              "      <td>37.162785, -8.133276</td>\n",
              "      <td>FARO AIRPORT</td>\n",
              "      <td>3</td>\n",
              "      <td>37.017596,-7.96972</td>\n",
              "      <td>1</td>\n",
              "      <td>0</td>\n",
              "      <td>0</td>\n",
              "      <td>234</td>\n",
              "      <td>602</td>\n",
              "      <td>0</td>\n",
              "      <td>Done</td>\n",
              "      <td>Done</td>\n",
              "      <td>2019-12-02 07:09:17</td>\n",
              "      <td>0</td>\n",
              "      <td>2</td>\n",
              "      <td>49</td>\n",
              "      <td>12</td>\n",
              "      <td>49</td>\n",
              "      <td>2019</td>\n",
              "    </tr>\n",
              "    <tr>\n",
              "      <th>370259</th>\n",
              "      <td>330130</td>\n",
              "      <td>1</td>\n",
              "      <td>departure</td>\n",
              "      <td>FR4051</td>\n",
              "      <td>Cash</td>\n",
              "      <td>216866</td>\n",
              "      <td>OLA</td>\n",
              "      <td>2019-12-02</td>\n",
              "      <td>12:15:00</td>\n",
              "      <td>ALBUFEIRA</td>\n",
              "      <td>1</td>\n",
              "      <td>37.08858697788972, -8.221556047965578</td>\n",
              "      <td>FARO AIRPORT</td>\n",
              "      <td>3</td>\n",
              "      <td>37.017596,-7.96972</td>\n",
              "      <td>2</td>\n",
              "      <td>0</td>\n",
              "      <td>0</td>\n",
              "      <td>219</td>\n",
              "      <td>3</td>\n",
              "      <td>0</td>\n",
              "      <td>Done</td>\n",
              "      <td>Done</td>\n",
              "      <td>2019-12-01 21:53:38</td>\n",
              "      <td>0</td>\n",
              "      <td>2</td>\n",
              "      <td>49</td>\n",
              "      <td>12</td>\n",
              "      <td>49</td>\n",
              "      <td>2019</td>\n",
              "    </tr>\n",
              "    <tr>\n",
              "      <th>370258</th>\n",
              "      <td>330121</td>\n",
              "      <td>1</td>\n",
              "      <td>arrival</td>\n",
              "      <td>EC4735</td>\n",
              "      <td>C.Card</td>\n",
              "      <td>216933</td>\n",
              "      <td>OAL</td>\n",
              "      <td>2019-12-02</td>\n",
              "      <td>18:00:00</td>\n",
              "      <td>FARO AIRPORT</td>\n",
              "      <td>3</td>\n",
              "      <td>37.017596,-7.96972</td>\n",
              "      <td>ALBUFEIRA</td>\n",
              "      <td>1</td>\n",
              "      <td>37.084775, -8.257789</td>\n",
              "      <td>1</td>\n",
              "      <td>0</td>\n",
              "      <td>0</td>\n",
              "      <td>205</td>\n",
              "      <td>655</td>\n",
              "      <td>0</td>\n",
              "      <td>Done</td>\n",
              "      <td>Done</td>\n",
              "      <td>2019-12-01 17:11:35</td>\n",
              "      <td>0</td>\n",
              "      <td>2</td>\n",
              "      <td>49</td>\n",
              "      <td>12</td>\n",
              "      <td>49</td>\n",
              "      <td>2019</td>\n",
              "    </tr>\n",
              "    <tr>\n",
              "      <th>370257</th>\n",
              "      <td>330119</td>\n",
              "      <td>1</td>\n",
              "      <td>departure</td>\n",
              "      <td>NaN</td>\n",
              "      <td>Cash</td>\n",
              "      <td>58499</td>\n",
              "      <td>RLL</td>\n",
              "      <td>2019-12-02</td>\n",
              "      <td>15:30:00</td>\n",
              "      <td>VILAMOURA</td>\n",
              "      <td>2</td>\n",
              "      <td>37.0867653,-8.255335</td>\n",
              "      <td>ALBUFEIRA</td>\n",
              "      <td>1</td>\n",
              "      <td>37.089025, -8.247838</td>\n",
              "      <td>8</td>\n",
              "      <td>0</td>\n",
              "      <td>0</td>\n",
              "      <td>260</td>\n",
              "      <td>479</td>\n",
              "      <td>0</td>\n",
              "      <td>Done</td>\n",
              "      <td>Done</td>\n",
              "      <td>2019-12-01 15:29:17</td>\n",
              "      <td>0</td>\n",
              "      <td>2</td>\n",
              "      <td>49</td>\n",
              "      <td>12</td>\n",
              "      <td>49</td>\n",
              "      <td>2019</td>\n",
              "    </tr>\n",
              "  </tbody>\n",
              "</table>\n",
              "</div>"
            ],
            "text/plain": [
              "        bookingID  operatorID   whichway flightNr  ... week  month New_week  year\n",
              "370263     330143           1  departure   FR3712  ...   49     12       49  2019\n",
              "370260     330135           1  departure  EZY8914  ...   49     12       49  2019\n",
              "370259     330130           1  departure  FR4051   ...   49     12       49  2019\n",
              "370258     330121           1    arrival   EC4735  ...   49     12       49  2019\n",
              "370257     330119           1  departure      NaN  ...   49     12       49  2019\n",
              "\n",
              "[5 rows x 30 columns]"
            ]
          },
          "metadata": {
            "tags": []
          },
          "execution_count": 96
        }
      ]
    },
    {
      "cell_type": "code",
      "metadata": {
        "id": "Z4yru08jbm7U",
        "colab_type": "code",
        "colab": {}
      },
      "source": [
        "cleanduplicates = duplicateRowsDF.groupby(['year','New_week'], as_index = False).agg({\n",
        "                                                    \n",
        "                                                        'bookingID':'count'})"
      ],
      "execution_count": 0,
      "outputs": []
    },
    {
      "cell_type": "code",
      "metadata": {
        "id": "IGxx3rsPcUqN",
        "colab_type": "code",
        "colab": {
          "base_uri": "https://localhost:8080/",
          "height": 421
        },
        "outputId": "c59040f3-4b81-4d34-fb84-202da409c1d7"
      },
      "source": [
        "cleanduplicates.head(12)"
      ],
      "execution_count": 106,
      "outputs": [
        {
          "output_type": "execute_result",
          "data": {
            "text/html": [
              "<div>\n",
              "<style scoped>\n",
              "    .dataframe tbody tr th:only-of-type {\n",
              "        vertical-align: middle;\n",
              "    }\n",
              "\n",
              "    .dataframe tbody tr th {\n",
              "        vertical-align: top;\n",
              "    }\n",
              "\n",
              "    .dataframe thead th {\n",
              "        text-align: right;\n",
              "    }\n",
              "</style>\n",
              "<table border=\"1\" class=\"dataframe\">\n",
              "  <thead>\n",
              "    <tr style=\"text-align: right;\">\n",
              "      <th></th>\n",
              "      <th>year</th>\n",
              "      <th>New_week</th>\n",
              "      <th>bookingID</th>\n",
              "    </tr>\n",
              "  </thead>\n",
              "  <tbody>\n",
              "    <tr>\n",
              "      <th>0</th>\n",
              "      <td>2016</td>\n",
              "      <td>1</td>\n",
              "      <td>128</td>\n",
              "    </tr>\n",
              "    <tr>\n",
              "      <th>1</th>\n",
              "      <td>2016</td>\n",
              "      <td>2</td>\n",
              "      <td>229</td>\n",
              "    </tr>\n",
              "    <tr>\n",
              "      <th>2</th>\n",
              "      <td>2016</td>\n",
              "      <td>3</td>\n",
              "      <td>197</td>\n",
              "    </tr>\n",
              "    <tr>\n",
              "      <th>3</th>\n",
              "      <td>2016</td>\n",
              "      <td>4</td>\n",
              "      <td>229</td>\n",
              "    </tr>\n",
              "    <tr>\n",
              "      <th>4</th>\n",
              "      <td>2016</td>\n",
              "      <td>5</td>\n",
              "      <td>401</td>\n",
              "    </tr>\n",
              "    <tr>\n",
              "      <th>5</th>\n",
              "      <td>2016</td>\n",
              "      <td>6</td>\n",
              "      <td>284</td>\n",
              "    </tr>\n",
              "    <tr>\n",
              "      <th>6</th>\n",
              "      <td>2016</td>\n",
              "      <td>7</td>\n",
              "      <td>367</td>\n",
              "    </tr>\n",
              "    <tr>\n",
              "      <th>7</th>\n",
              "      <td>2016</td>\n",
              "      <td>8</td>\n",
              "      <td>382</td>\n",
              "    </tr>\n",
              "    <tr>\n",
              "      <th>8</th>\n",
              "      <td>2016</td>\n",
              "      <td>9</td>\n",
              "      <td>314</td>\n",
              "    </tr>\n",
              "    <tr>\n",
              "      <th>9</th>\n",
              "      <td>2016</td>\n",
              "      <td>10</td>\n",
              "      <td>308</td>\n",
              "    </tr>\n",
              "    <tr>\n",
              "      <th>10</th>\n",
              "      <td>2016</td>\n",
              "      <td>11</td>\n",
              "      <td>433</td>\n",
              "    </tr>\n",
              "    <tr>\n",
              "      <th>11</th>\n",
              "      <td>2016</td>\n",
              "      <td>12</td>\n",
              "      <td>764</td>\n",
              "    </tr>\n",
              "  </tbody>\n",
              "</table>\n",
              "</div>"
            ],
            "text/plain": [
              "    year  New_week  bookingID\n",
              "0   2016         1        128\n",
              "1   2016         2        229\n",
              "2   2016         3        197\n",
              "3   2016         4        229\n",
              "4   2016         5        401\n",
              "5   2016         6        284\n",
              "6   2016         7        367\n",
              "7   2016         8        382\n",
              "8   2016         9        314\n",
              "9   2016        10        308\n",
              "10  2016        11        433\n",
              "11  2016        12        764"
            ]
          },
          "metadata": {
            "tags": []
          },
          "execution_count": 106
        }
      ]
    },
    {
      "cell_type": "code",
      "metadata": {
        "id": "Be8qeZW9c6Yn",
        "colab_type": "code",
        "colab": {
          "base_uri": "https://localhost:8080/",
          "height": 1000
        },
        "outputId": "946042c0-f3eb-43ae-9c62-359c2fe937e4"
      },
      "source": [
        "table2 = pd.crosstab(index = cleanduplicates['New_week'], \n",
        "                     columns = cleanduplicates['year'],\n",
        "                    margins = True)\n",
        "table2"
      ],
      "execution_count": 107,
      "outputs": [
        {
          "output_type": "execute_result",
          "data": {
            "text/html": [
              "<div>\n",
              "<style scoped>\n",
              "    .dataframe tbody tr th:only-of-type {\n",
              "        vertical-align: middle;\n",
              "    }\n",
              "\n",
              "    .dataframe tbody tr th {\n",
              "        vertical-align: top;\n",
              "    }\n",
              "\n",
              "    .dataframe thead th {\n",
              "        text-align: right;\n",
              "    }\n",
              "</style>\n",
              "<table border=\"1\" class=\"dataframe\">\n",
              "  <thead>\n",
              "    <tr style=\"text-align: right;\">\n",
              "      <th>year</th>\n",
              "      <th>2016</th>\n",
              "      <th>2017</th>\n",
              "      <th>2018</th>\n",
              "      <th>2019</th>\n",
              "      <th>All</th>\n",
              "    </tr>\n",
              "    <tr>\n",
              "      <th>New_week</th>\n",
              "      <th></th>\n",
              "      <th></th>\n",
              "      <th></th>\n",
              "      <th></th>\n",
              "      <th></th>\n",
              "    </tr>\n",
              "  </thead>\n",
              "  <tbody>\n",
              "    <tr>\n",
              "      <th>1</th>\n",
              "      <td>1</td>\n",
              "      <td>1</td>\n",
              "      <td>1</td>\n",
              "      <td>0</td>\n",
              "      <td>3</td>\n",
              "    </tr>\n",
              "    <tr>\n",
              "      <th>2</th>\n",
              "      <td>1</td>\n",
              "      <td>1</td>\n",
              "      <td>1</td>\n",
              "      <td>1</td>\n",
              "      <td>4</td>\n",
              "    </tr>\n",
              "    <tr>\n",
              "      <th>3</th>\n",
              "      <td>1</td>\n",
              "      <td>1</td>\n",
              "      <td>1</td>\n",
              "      <td>1</td>\n",
              "      <td>4</td>\n",
              "    </tr>\n",
              "    <tr>\n",
              "      <th>4</th>\n",
              "      <td>1</td>\n",
              "      <td>1</td>\n",
              "      <td>1</td>\n",
              "      <td>1</td>\n",
              "      <td>4</td>\n",
              "    </tr>\n",
              "    <tr>\n",
              "      <th>5</th>\n",
              "      <td>1</td>\n",
              "      <td>1</td>\n",
              "      <td>1</td>\n",
              "      <td>1</td>\n",
              "      <td>4</td>\n",
              "    </tr>\n",
              "    <tr>\n",
              "      <th>6</th>\n",
              "      <td>1</td>\n",
              "      <td>1</td>\n",
              "      <td>1</td>\n",
              "      <td>1</td>\n",
              "      <td>4</td>\n",
              "    </tr>\n",
              "    <tr>\n",
              "      <th>7</th>\n",
              "      <td>1</td>\n",
              "      <td>1</td>\n",
              "      <td>1</td>\n",
              "      <td>1</td>\n",
              "      <td>4</td>\n",
              "    </tr>\n",
              "    <tr>\n",
              "      <th>8</th>\n",
              "      <td>1</td>\n",
              "      <td>1</td>\n",
              "      <td>1</td>\n",
              "      <td>1</td>\n",
              "      <td>4</td>\n",
              "    </tr>\n",
              "    <tr>\n",
              "      <th>9</th>\n",
              "      <td>1</td>\n",
              "      <td>1</td>\n",
              "      <td>1</td>\n",
              "      <td>1</td>\n",
              "      <td>4</td>\n",
              "    </tr>\n",
              "    <tr>\n",
              "      <th>10</th>\n",
              "      <td>1</td>\n",
              "      <td>1</td>\n",
              "      <td>1</td>\n",
              "      <td>1</td>\n",
              "      <td>4</td>\n",
              "    </tr>\n",
              "    <tr>\n",
              "      <th>11</th>\n",
              "      <td>1</td>\n",
              "      <td>1</td>\n",
              "      <td>1</td>\n",
              "      <td>1</td>\n",
              "      <td>4</td>\n",
              "    </tr>\n",
              "    <tr>\n",
              "      <th>12</th>\n",
              "      <td>1</td>\n",
              "      <td>1</td>\n",
              "      <td>1</td>\n",
              "      <td>1</td>\n",
              "      <td>4</td>\n",
              "    </tr>\n",
              "    <tr>\n",
              "      <th>13</th>\n",
              "      <td>1</td>\n",
              "      <td>1</td>\n",
              "      <td>1</td>\n",
              "      <td>1</td>\n",
              "      <td>4</td>\n",
              "    </tr>\n",
              "    <tr>\n",
              "      <th>14</th>\n",
              "      <td>1</td>\n",
              "      <td>1</td>\n",
              "      <td>1</td>\n",
              "      <td>1</td>\n",
              "      <td>4</td>\n",
              "    </tr>\n",
              "    <tr>\n",
              "      <th>15</th>\n",
              "      <td>1</td>\n",
              "      <td>1</td>\n",
              "      <td>1</td>\n",
              "      <td>1</td>\n",
              "      <td>4</td>\n",
              "    </tr>\n",
              "    <tr>\n",
              "      <th>16</th>\n",
              "      <td>1</td>\n",
              "      <td>1</td>\n",
              "      <td>1</td>\n",
              "      <td>1</td>\n",
              "      <td>4</td>\n",
              "    </tr>\n",
              "    <tr>\n",
              "      <th>17</th>\n",
              "      <td>1</td>\n",
              "      <td>1</td>\n",
              "      <td>1</td>\n",
              "      <td>1</td>\n",
              "      <td>4</td>\n",
              "    </tr>\n",
              "    <tr>\n",
              "      <th>18</th>\n",
              "      <td>1</td>\n",
              "      <td>1</td>\n",
              "      <td>1</td>\n",
              "      <td>1</td>\n",
              "      <td>4</td>\n",
              "    </tr>\n",
              "    <tr>\n",
              "      <th>19</th>\n",
              "      <td>1</td>\n",
              "      <td>1</td>\n",
              "      <td>1</td>\n",
              "      <td>1</td>\n",
              "      <td>4</td>\n",
              "    </tr>\n",
              "    <tr>\n",
              "      <th>20</th>\n",
              "      <td>1</td>\n",
              "      <td>1</td>\n",
              "      <td>1</td>\n",
              "      <td>1</td>\n",
              "      <td>4</td>\n",
              "    </tr>\n",
              "    <tr>\n",
              "      <th>21</th>\n",
              "      <td>1</td>\n",
              "      <td>1</td>\n",
              "      <td>1</td>\n",
              "      <td>1</td>\n",
              "      <td>4</td>\n",
              "    </tr>\n",
              "    <tr>\n",
              "      <th>22</th>\n",
              "      <td>1</td>\n",
              "      <td>1</td>\n",
              "      <td>1</td>\n",
              "      <td>1</td>\n",
              "      <td>4</td>\n",
              "    </tr>\n",
              "    <tr>\n",
              "      <th>23</th>\n",
              "      <td>1</td>\n",
              "      <td>1</td>\n",
              "      <td>1</td>\n",
              "      <td>1</td>\n",
              "      <td>4</td>\n",
              "    </tr>\n",
              "    <tr>\n",
              "      <th>24</th>\n",
              "      <td>1</td>\n",
              "      <td>1</td>\n",
              "      <td>1</td>\n",
              "      <td>1</td>\n",
              "      <td>4</td>\n",
              "    </tr>\n",
              "    <tr>\n",
              "      <th>25</th>\n",
              "      <td>1</td>\n",
              "      <td>1</td>\n",
              "      <td>1</td>\n",
              "      <td>1</td>\n",
              "      <td>4</td>\n",
              "    </tr>\n",
              "    <tr>\n",
              "      <th>26</th>\n",
              "      <td>1</td>\n",
              "      <td>1</td>\n",
              "      <td>1</td>\n",
              "      <td>1</td>\n",
              "      <td>4</td>\n",
              "    </tr>\n",
              "    <tr>\n",
              "      <th>27</th>\n",
              "      <td>1</td>\n",
              "      <td>1</td>\n",
              "      <td>1</td>\n",
              "      <td>1</td>\n",
              "      <td>4</td>\n",
              "    </tr>\n",
              "    <tr>\n",
              "      <th>28</th>\n",
              "      <td>1</td>\n",
              "      <td>1</td>\n",
              "      <td>1</td>\n",
              "      <td>1</td>\n",
              "      <td>4</td>\n",
              "    </tr>\n",
              "    <tr>\n",
              "      <th>29</th>\n",
              "      <td>1</td>\n",
              "      <td>1</td>\n",
              "      <td>1</td>\n",
              "      <td>1</td>\n",
              "      <td>4</td>\n",
              "    </tr>\n",
              "    <tr>\n",
              "      <th>30</th>\n",
              "      <td>1</td>\n",
              "      <td>1</td>\n",
              "      <td>1</td>\n",
              "      <td>1</td>\n",
              "      <td>4</td>\n",
              "    </tr>\n",
              "    <tr>\n",
              "      <th>31</th>\n",
              "      <td>1</td>\n",
              "      <td>1</td>\n",
              "      <td>1</td>\n",
              "      <td>1</td>\n",
              "      <td>4</td>\n",
              "    </tr>\n",
              "    <tr>\n",
              "      <th>32</th>\n",
              "      <td>1</td>\n",
              "      <td>1</td>\n",
              "      <td>1</td>\n",
              "      <td>1</td>\n",
              "      <td>4</td>\n",
              "    </tr>\n",
              "    <tr>\n",
              "      <th>33</th>\n",
              "      <td>1</td>\n",
              "      <td>1</td>\n",
              "      <td>1</td>\n",
              "      <td>1</td>\n",
              "      <td>4</td>\n",
              "    </tr>\n",
              "    <tr>\n",
              "      <th>34</th>\n",
              "      <td>1</td>\n",
              "      <td>1</td>\n",
              "      <td>1</td>\n",
              "      <td>1</td>\n",
              "      <td>4</td>\n",
              "    </tr>\n",
              "    <tr>\n",
              "      <th>35</th>\n",
              "      <td>1</td>\n",
              "      <td>1</td>\n",
              "      <td>1</td>\n",
              "      <td>1</td>\n",
              "      <td>4</td>\n",
              "    </tr>\n",
              "    <tr>\n",
              "      <th>36</th>\n",
              "      <td>1</td>\n",
              "      <td>1</td>\n",
              "      <td>1</td>\n",
              "      <td>1</td>\n",
              "      <td>4</td>\n",
              "    </tr>\n",
              "    <tr>\n",
              "      <th>37</th>\n",
              "      <td>1</td>\n",
              "      <td>1</td>\n",
              "      <td>1</td>\n",
              "      <td>1</td>\n",
              "      <td>4</td>\n",
              "    </tr>\n",
              "    <tr>\n",
              "      <th>38</th>\n",
              "      <td>1</td>\n",
              "      <td>1</td>\n",
              "      <td>1</td>\n",
              "      <td>1</td>\n",
              "      <td>4</td>\n",
              "    </tr>\n",
              "    <tr>\n",
              "      <th>39</th>\n",
              "      <td>1</td>\n",
              "      <td>1</td>\n",
              "      <td>1</td>\n",
              "      <td>1</td>\n",
              "      <td>4</td>\n",
              "    </tr>\n",
              "    <tr>\n",
              "      <th>40</th>\n",
              "      <td>1</td>\n",
              "      <td>1</td>\n",
              "      <td>1</td>\n",
              "      <td>1</td>\n",
              "      <td>4</td>\n",
              "    </tr>\n",
              "    <tr>\n",
              "      <th>41</th>\n",
              "      <td>1</td>\n",
              "      <td>1</td>\n",
              "      <td>1</td>\n",
              "      <td>1</td>\n",
              "      <td>4</td>\n",
              "    </tr>\n",
              "    <tr>\n",
              "      <th>42</th>\n",
              "      <td>1</td>\n",
              "      <td>1</td>\n",
              "      <td>1</td>\n",
              "      <td>1</td>\n",
              "      <td>4</td>\n",
              "    </tr>\n",
              "    <tr>\n",
              "      <th>43</th>\n",
              "      <td>1</td>\n",
              "      <td>1</td>\n",
              "      <td>1</td>\n",
              "      <td>1</td>\n",
              "      <td>4</td>\n",
              "    </tr>\n",
              "    <tr>\n",
              "      <th>44</th>\n",
              "      <td>1</td>\n",
              "      <td>1</td>\n",
              "      <td>1</td>\n",
              "      <td>1</td>\n",
              "      <td>4</td>\n",
              "    </tr>\n",
              "    <tr>\n",
              "      <th>45</th>\n",
              "      <td>1</td>\n",
              "      <td>1</td>\n",
              "      <td>1</td>\n",
              "      <td>1</td>\n",
              "      <td>4</td>\n",
              "    </tr>\n",
              "    <tr>\n",
              "      <th>46</th>\n",
              "      <td>1</td>\n",
              "      <td>1</td>\n",
              "      <td>1</td>\n",
              "      <td>1</td>\n",
              "      <td>4</td>\n",
              "    </tr>\n",
              "    <tr>\n",
              "      <th>47</th>\n",
              "      <td>1</td>\n",
              "      <td>1</td>\n",
              "      <td>1</td>\n",
              "      <td>1</td>\n",
              "      <td>4</td>\n",
              "    </tr>\n",
              "    <tr>\n",
              "      <th>48</th>\n",
              "      <td>1</td>\n",
              "      <td>1</td>\n",
              "      <td>1</td>\n",
              "      <td>1</td>\n",
              "      <td>4</td>\n",
              "    </tr>\n",
              "    <tr>\n",
              "      <th>49</th>\n",
              "      <td>1</td>\n",
              "      <td>1</td>\n",
              "      <td>1</td>\n",
              "      <td>1</td>\n",
              "      <td>4</td>\n",
              "    </tr>\n",
              "    <tr>\n",
              "      <th>50</th>\n",
              "      <td>1</td>\n",
              "      <td>1</td>\n",
              "      <td>1</td>\n",
              "      <td>0</td>\n",
              "      <td>3</td>\n",
              "    </tr>\n",
              "    <tr>\n",
              "      <th>51</th>\n",
              "      <td>1</td>\n",
              "      <td>1</td>\n",
              "      <td>1</td>\n",
              "      <td>0</td>\n",
              "      <td>3</td>\n",
              "    </tr>\n",
              "    <tr>\n",
              "      <th>52</th>\n",
              "      <td>1</td>\n",
              "      <td>1</td>\n",
              "      <td>1</td>\n",
              "      <td>0</td>\n",
              "      <td>3</td>\n",
              "    </tr>\n",
              "    <tr>\n",
              "      <th>All</th>\n",
              "      <td>52</td>\n",
              "      <td>52</td>\n",
              "      <td>52</td>\n",
              "      <td>48</td>\n",
              "      <td>204</td>\n",
              "    </tr>\n",
              "  </tbody>\n",
              "</table>\n",
              "</div>"
            ],
            "text/plain": [
              "year      2016  2017  2018  2019  All\n",
              "New_week                             \n",
              "1            1     1     1     0    3\n",
              "2            1     1     1     1    4\n",
              "3            1     1     1     1    4\n",
              "4            1     1     1     1    4\n",
              "5            1     1     1     1    4\n",
              "6            1     1     1     1    4\n",
              "7            1     1     1     1    4\n",
              "8            1     1     1     1    4\n",
              "9            1     1     1     1    4\n",
              "10           1     1     1     1    4\n",
              "11           1     1     1     1    4\n",
              "12           1     1     1     1    4\n",
              "13           1     1     1     1    4\n",
              "14           1     1     1     1    4\n",
              "15           1     1     1     1    4\n",
              "16           1     1     1     1    4\n",
              "17           1     1     1     1    4\n",
              "18           1     1     1     1    4\n",
              "19           1     1     1     1    4\n",
              "20           1     1     1     1    4\n",
              "21           1     1     1     1    4\n",
              "22           1     1     1     1    4\n",
              "23           1     1     1     1    4\n",
              "24           1     1     1     1    4\n",
              "25           1     1     1     1    4\n",
              "26           1     1     1     1    4\n",
              "27           1     1     1     1    4\n",
              "28           1     1     1     1    4\n",
              "29           1     1     1     1    4\n",
              "30           1     1     1     1    4\n",
              "31           1     1     1     1    4\n",
              "32           1     1     1     1    4\n",
              "33           1     1     1     1    4\n",
              "34           1     1     1     1    4\n",
              "35           1     1     1     1    4\n",
              "36           1     1     1     1    4\n",
              "37           1     1     1     1    4\n",
              "38           1     1     1     1    4\n",
              "39           1     1     1     1    4\n",
              "40           1     1     1     1    4\n",
              "41           1     1     1     1    4\n",
              "42           1     1     1     1    4\n",
              "43           1     1     1     1    4\n",
              "44           1     1     1     1    4\n",
              "45           1     1     1     1    4\n",
              "46           1     1     1     1    4\n",
              "47           1     1     1     1    4\n",
              "48           1     1     1     1    4\n",
              "49           1     1     1     1    4\n",
              "50           1     1     1     0    3\n",
              "51           1     1     1     0    3\n",
              "52           1     1     1     0    3\n",
              "All         52    52    52    48  204"
            ]
          },
          "metadata": {
            "tags": []
          },
          "execution_count": 107
        }
      ]
    },
    {
      "cell_type": "code",
      "metadata": {
        "id": "gMDc8a4QdkQh",
        "colab_type": "code",
        "colab": {}
      },
      "source": [
        "teste=cleanduplicates[ (cleanduplicates.year >= 2019)]\n",
        "train=cleanduplicates[ (cleanduplicates.year < 2019)]"
      ],
      "execution_count": 0,
      "outputs": []
    },
    {
      "cell_type": "code",
      "metadata": {
        "id": "B39VV1WWRJ9E",
        "colab_type": "code",
        "colab": {
          "base_uri": "https://localhost:8080/",
          "height": 281
        },
        "outputId": "19637d22-e92c-4a64-8887-33c3fcbff614"
      },
      "source": [
        "import matplotlib.pyplot as plt\n",
        "import seaborn as sns\n",
        "cleanduplicates['bookingID'].plot(title=\"Energy Demand\")\n",
        "plt.ylabel(\"MWh\")\n",
        "plt.show()"
      ],
      "execution_count": 109,
      "outputs": [
        {
          "output_type": "display_data",
          "data": {
            "image/png": "[encoded data removed]",
            "text/plain": [
              "<Figure size 432x288 with 1 Axes>"
            ]
          },
          "metadata": {
            "tags": [],
            "needs_background": "light"
          }
        }
      ]
    },
    {
      "cell_type": "code",
      "metadata": {
        "id": "LogNL5IBfbAY",
        "colab_type": "code",
        "colab": {
          "base_uri": "https://localhost:8080/",
          "height": 244
        },
        "outputId": "f82f67e3-5b9b-4d9a-eb4a-a86a373c14fe"
      },
      "source": [
        "train['week_x'] = train['New_week'].astype(str)\n",
        "dummies=['week_x']\n",
        "dumies=pd.get_dummies(train[dummies], drop_first=True)\n",
        "dumies.shape\n",
        "dumies.head()"
      ],
      "execution_count": 110,
      "outputs": [
        {
          "output_type": "execute_result",
          "data": {
            "text/html": [
              "<div>\n",
              "<style scoped>\n",
              "    .dataframe tbody tr th:only-of-type {\n",
              "        vertical-align: middle;\n",
              "    }\n",
              "\n",
              "    .dataframe tbody tr th {\n",
              "        vertical-align: top;\n",
              "    }\n",
              "\n",
              "    .dataframe thead th {\n",
              "        text-align: right;\n",
              "    }\n",
              "</style>\n",
              "<table border=\"1\" class=\"dataframe\">\n",
              "  <thead>\n",
              "    <tr style=\"text-align: right;\">\n",
              "      <th></th>\n",
              "      <th>week_x_10</th>\n",
              "      <th>week_x_11</th>\n",
              "      <th>week_x_12</th>\n",
              "      <th>week_x_13</th>\n",
              "      <th>week_x_14</th>\n",
              "      <th>week_x_15</th>\n",
              "      <th>week_x_16</th>\n",
              "      <th>week_x_17</th>\n",
              "      <th>week_x_18</th>\n",
              "      <th>week_x_19</th>\n",
              "      <th>week_x_2</th>\n",
              "      <th>week_x_20</th>\n",
              "      <th>week_x_21</th>\n",
              "      <th>week_x_22</th>\n",
              "      <th>week_x_23</th>\n",
              "      <th>week_x_24</th>\n",
              "      <th>week_x_25</th>\n",
              "      <th>week_x_26</th>\n",
              "      <th>week_x_27</th>\n",
              "      <th>week_x_28</th>\n",
              "      <th>week_x_29</th>\n",
              "      <th>week_x_3</th>\n",
              "      <th>week_x_30</th>\n",
              "      <th>week_x_31</th>\n",
              "      <th>week_x_32</th>\n",
              "      <th>week_x_33</th>\n",
              "      <th>week_x_34</th>\n",
              "      <th>week_x_35</th>\n",
              "      <th>week_x_36</th>\n",
              "      <th>week_x_37</th>\n",
              "      <th>week_x_38</th>\n",
              "      <th>week_x_39</th>\n",
              "      <th>week_x_4</th>\n",
              "      <th>week_x_40</th>\n",
              "      <th>week_x_41</th>\n",
              "      <th>week_x_42</th>\n",
              "      <th>week_x_43</th>\n",
              "      <th>week_x_44</th>\n",
              "      <th>week_x_45</th>\n",
              "      <th>week_x_46</th>\n",
              "      <th>week_x_47</th>\n",
              "      <th>week_x_48</th>\n",
              "      <th>week_x_49</th>\n",
              "      <th>week_x_5</th>\n",
              "      <th>week_x_50</th>\n",
              "      <th>week_x_51</th>\n",
              "      <th>week_x_52</th>\n",
              "      <th>week_x_6</th>\n",
              "      <th>week_x_7</th>\n",
              "      <th>week_x_8</th>\n",
              "      <th>week_x_9</th>\n",
              "    </tr>\n",
              "  </thead>\n",
              "  <tbody>\n",
              "    <tr>\n",
              "      <th>0</th>\n",
              "      <td>0</td>\n",
              "      <td>0</td>\n",
              "      <td>0</td>\n",
              "      <td>0</td>\n",
              "      <td>0</td>\n",
              "      <td>0</td>\n",
              "      <td>0</td>\n",
              "      <td>0</td>\n",
              "      <td>0</td>\n",
              "      <td>0</td>\n",
              "      <td>0</td>\n",
              "      <td>0</td>\n",
              "      <td>0</td>\n",
              "      <td>0</td>\n",
              "      <td>0</td>\n",
              "      <td>0</td>\n",
              "      <td>0</td>\n",
              "      <td>0</td>\n",
              "      <td>0</td>\n",
              "      <td>0</td>\n",
              "      <td>0</td>\n",
              "      <td>0</td>\n",
              "      <td>0</td>\n",
              "      <td>0</td>\n",
              "      <td>0</td>\n",
              "      <td>0</td>\n",
              "      <td>0</td>\n",
              "      <td>0</td>\n",
              "      <td>0</td>\n",
              "      <td>0</td>\n",
              "      <td>0</td>\n",
              "      <td>0</td>\n",
              "      <td>0</td>\n",
              "      <td>0</td>\n",
              "      <td>0</td>\n",
              "      <td>0</td>\n",
              "      <td>0</td>\n",
              "      <td>0</td>\n",
              "      <td>0</td>\n",
              "      <td>0</td>\n",
              "      <td>0</td>\n",
              "      <td>0</td>\n",
              "      <td>0</td>\n",
              "      <td>0</td>\n",
              "      <td>0</td>\n",
              "      <td>0</td>\n",
              "      <td>0</td>\n",
              "      <td>0</td>\n",
              "      <td>0</td>\n",
              "      <td>0</td>\n",
              "      <td>0</td>\n",
              "    </tr>\n",
              "    <tr>\n",
              "      <th>1</th>\n",
              "      <td>0</td>\n",
              "      <td>0</td>\n",
              "      <td>0</td>\n",
              "      <td>0</td>\n",
              "      <td>0</td>\n",
              "      <td>0</td>\n",
              "      <td>0</td>\n",
              "      <td>0</td>\n",
              "      <td>0</td>\n",
              "      <td>0</td>\n",
              "      <td>1</td>\n",
              "      <td>0</td>\n",
              "      <td>0</td>\n",
              "      <td>0</td>\n",
              "      <td>0</td>\n",
              "      <td>0</td>\n",
              "      <td>0</td>\n",
              "      <td>0</td>\n",
              "      <td>0</td>\n",
              "      <td>0</td>\n",
              "      <td>0</td>\n",
              "      <td>0</td>\n",
              "      <td>0</td>\n",
              "      <td>0</td>\n",
              "      <td>0</td>\n",
              "      <td>0</td>\n",
              "      <td>0</td>\n",
              "      <td>0</td>\n",
              "      <td>0</td>\n",
              "      <td>0</td>\n",
              "      <td>0</td>\n",
              "      <td>0</td>\n",
              "      <td>0</td>\n",
              "      <td>0</td>\n",
              "      <td>0</td>\n",
              "      <td>0</td>\n",
              "      <td>0</td>\n",
              "      <td>0</td>\n",
              "      <td>0</td>\n",
              "      <td>0</td>\n",
              "      <td>0</td>\n",
              "      <td>0</td>\n",
              "      <td>0</td>\n",
              "      <td>0</td>\n",
              "      <td>0</td>\n",
              "      <td>0</td>\n",
              "      <td>0</td>\n",
              "      <td>0</td>\n",
              "      <td>0</td>\n",
              "      <td>0</td>\n",
              "      <td>0</td>\n",
              "    </tr>\n",
              "    <tr>\n",
              "      <th>2</th>\n",
              "      <td>0</td>\n",
              "      <td>0</td>\n",
              "      <td>0</td>\n",
              "      <td>0</td>\n",
              "      <td>0</td>\n",
              "      <td>0</td>\n",
              "      <td>0</td>\n",
              "      <td>0</td>\n",
              "      <td>0</td>\n",
              "      <td>0</td>\n",
              "      <td>0</td>\n",
              "      <td>0</td>\n",
              "      <td>0</td>\n",
              "      <td>0</td>\n",
              "      <td>0</td>\n",
              "      <td>0</td>\n",
              "      <td>0</td>\n",
              "      <td>0</td>\n",
              "      <td>0</td>\n",
              "      <td>0</td>\n",
              "      <td>0</td>\n",
              "      <td>1</td>\n",
              "      <td>0</td>\n",
              "      <td>0</td>\n",
              "      <td>0</td>\n",
              "      <td>0</td>\n",
              "      <td>0</td>\n",
              "      <td>0</td>\n",
              "      <td>0</td>\n",
              "      <td>0</td>\n",
              "      <td>0</td>\n",
              "      <td>0</td>\n",
              "      <td>0</td>\n",
              "      <td>0</td>\n",
              "      <td>0</td>\n",
              "      <td>0</td>\n",
              "      <td>0</td>\n",
              "      <td>0</td>\n",
              "      <td>0</td>\n",
              "      <td>0</td>\n",
              "      <td>0</td>\n",
              "      <td>0</td>\n",
              "      <td>0</td>\n",
              "      <td>0</td>\n",
              "      <td>0</td>\n",
              "      <td>0</td>\n",
              "      <td>0</td>\n",
              "      <td>0</td>\n",
              "      <td>0</td>\n",
              "      <td>0</td>\n",
              "      <td>0</td>\n",
              "    </tr>\n",
              "    <tr>\n",
              "      <th>3</th>\n",
              "      <td>0</td>\n",
              "      <td>0</td>\n",
              "      <td>0</td>\n",
              "      <td>0</td>\n",
              "      <td>0</td>\n",
              "      <td>0</td>\n",
              "      <td>0</td>\n",
              "      <td>0</td>\n",
              "      <td>0</td>\n",
              "      <td>0</td>\n",
              "      <td>0</td>\n",
              "      <td>0</td>\n",
              "      <td>0</td>\n",
              "      <td>0</td>\n",
              "      <td>0</td>\n",
              "      <td>0</td>\n",
              "      <td>0</td>\n",
              "      <td>0</td>\n",
              "      <td>0</td>\n",
              "      <td>0</td>\n",
              "      <td>0</td>\n",
              "      <td>0</td>\n",
              "      <td>0</td>\n",
              "      <td>0</td>\n",
              "      <td>0</td>\n",
              "      <td>0</td>\n",
              "      <td>0</td>\n",
              "      <td>0</td>\n",
              "      <td>0</td>\n",
              "      <td>0</td>\n",
              "      <td>0</td>\n",
              "      <td>0</td>\n",
              "      <td>1</td>\n",
              "      <td>0</td>\n",
              "      <td>0</td>\n",
              "      <td>0</td>\n",
              "      <td>0</td>\n",
              "      <td>0</td>\n",
              "      <td>0</td>\n",
              "      <td>0</td>\n",
              "      <td>0</td>\n",
              "      <td>0</td>\n",
              "      <td>0</td>\n",
              "      <td>0</td>\n",
              "      <td>0</td>\n",
              "      <td>0</td>\n",
              "      <td>0</td>\n",
              "      <td>0</td>\n",
              "      <td>0</td>\n",
              "      <td>0</td>\n",
              "      <td>0</td>\n",
              "    </tr>\n",
              "    <tr>\n",
              "      <th>4</th>\n",
              "      <td>0</td>\n",
              "      <td>0</td>\n",
              "      <td>0</td>\n",
              "      <td>0</td>\n",
              "      <td>0</td>\n",
              "      <td>0</td>\n",
              "      <td>0</td>\n",
              "      <td>0</td>\n",
              "      <td>0</td>\n",
              "      <td>0</td>\n",
              "      <td>0</td>\n",
              "      <td>0</td>\n",
              "      <td>0</td>\n",
              "      <td>0</td>\n",
              "      <td>0</td>\n",
              "      <td>0</td>\n",
              "      <td>0</td>\n",
              "      <td>0</td>\n",
              "      <td>0</td>\n",
              "      <td>0</td>\n",
              "      <td>0</td>\n",
              "      <td>0</td>\n",
              "      <td>0</td>\n",
              "      <td>0</td>\n",
              "      <td>0</td>\n",
              "      <td>0</td>\n",
              "      <td>0</td>\n",
              "      <td>0</td>\n",
              "      <td>0</td>\n",
              "      <td>0</td>\n",
              "      <td>0</td>\n",
              "      <td>0</td>\n",
              "      <td>0</td>\n",
              "      <td>0</td>\n",
              "      <td>0</td>\n",
              "      <td>0</td>\n",
              "      <td>0</td>\n",
              "      <td>0</td>\n",
              "      <td>0</td>\n",
              "      <td>0</td>\n",
              "      <td>0</td>\n",
              "      <td>0</td>\n",
              "      <td>0</td>\n",
              "      <td>1</td>\n",
              "      <td>0</td>\n",
              "      <td>0</td>\n",
              "      <td>0</td>\n",
              "      <td>0</td>\n",
              "      <td>0</td>\n",
              "      <td>0</td>\n",
              "      <td>0</td>\n",
              "    </tr>\n",
              "  </tbody>\n",
              "</table>\n",
              "</div>"
            ],
            "text/plain": [
              "   week_x_10  week_x_11  week_x_12  ...  week_x_7  week_x_8  week_x_9\n",
              "0          0          0          0  ...         0         0         0\n",
              "1          0          0          0  ...         0         0         0\n",
              "2          0          0          0  ...         0         0         0\n",
              "3          0          0          0  ...         0         0         0\n",
              "4          0          0          0  ...         0         0         0\n",
              "\n",
              "[5 rows x 51 columns]"
            ]
          },
          "metadata": {
            "tags": []
          },
          "execution_count": 110
        }
      ]
    },
    {
      "cell_type": "code",
      "metadata": {
        "id": "Jd6c6CPKhp19",
        "colab_type": "code",
        "colab": {
          "base_uri": "https://localhost:8080/",
          "height": 244
        },
        "outputId": "43df52dd-69c7-433f-ad70-78c7a5d273da"
      },
      "source": [
        "df_train=pd.concat([train, dumies],axis=1)\n",
        "df_train.head()"
      ],
      "execution_count": 122,
      "outputs": [
        {
          "output_type": "execute_result",
          "data": {
            "text/html": [
              "<div>\n",
              "<style scoped>\n",
              "    .dataframe tbody tr th:only-of-type {\n",
              "        vertical-align: middle;\n",
              "    }\n",
              "\n",
              "    .dataframe tbody tr th {\n",
              "        vertical-align: top;\n",
              "    }\n",
              "\n",
              "    .dataframe thead th {\n",
              "        text-align: right;\n",
              "    }\n",
              "</style>\n",
              "<table border=\"1\" class=\"dataframe\">\n",
              "  <thead>\n",
              "    <tr style=\"text-align: right;\">\n",
              "      <th></th>\n",
              "      <th>year</th>\n",
              "      <th>New_week</th>\n",
              "      <th>bookingID</th>\n",
              "      <th>week_x</th>\n",
              "      <th>week_x_10</th>\n",
              "      <th>week_x_11</th>\n",
              "      <th>week_x_12</th>\n",
              "      <th>week_x_13</th>\n",
              "      <th>week_x_14</th>\n",
              "      <th>week_x_15</th>\n",
              "      <th>week_x_16</th>\n",
              "      <th>week_x_17</th>\n",
              "      <th>week_x_18</th>\n",
              "      <th>week_x_19</th>\n",
              "      <th>week_x_2</th>\n",
              "      <th>week_x_20</th>\n",
              "      <th>week_x_21</th>\n",
              "      <th>week_x_22</th>\n",
              "      <th>week_x_23</th>\n",
              "      <th>week_x_24</th>\n",
              "      <th>week_x_25</th>\n",
              "      <th>week_x_26</th>\n",
              "      <th>week_x_27</th>\n",
              "      <th>week_x_28</th>\n",
              "      <th>week_x_29</th>\n",
              "      <th>week_x_3</th>\n",
              "      <th>week_x_30</th>\n",
              "      <th>week_x_31</th>\n",
              "      <th>week_x_32</th>\n",
              "      <th>week_x_33</th>\n",
              "      <th>week_x_34</th>\n",
              "      <th>week_x_35</th>\n",
              "      <th>week_x_36</th>\n",
              "      <th>week_x_37</th>\n",
              "      <th>week_x_38</th>\n",
              "      <th>week_x_39</th>\n",
              "      <th>week_x_4</th>\n",
              "      <th>week_x_40</th>\n",
              "      <th>week_x_41</th>\n",
              "      <th>week_x_42</th>\n",
              "      <th>week_x_43</th>\n",
              "      <th>week_x_44</th>\n",
              "      <th>week_x_45</th>\n",
              "      <th>week_x_46</th>\n",
              "      <th>week_x_47</th>\n",
              "      <th>week_x_48</th>\n",
              "      <th>week_x_49</th>\n",
              "      <th>week_x_5</th>\n",
              "      <th>week_x_50</th>\n",
              "      <th>week_x_51</th>\n",
              "      <th>week_x_52</th>\n",
              "      <th>week_x_6</th>\n",
              "      <th>week_x_7</th>\n",
              "      <th>week_x_8</th>\n",
              "      <th>week_x_9</th>\n",
              "    </tr>\n",
              "  </thead>\n",
              "  <tbody>\n",
              "    <tr>\n",
              "      <th>0</th>\n",
              "      <td>2016</td>\n",
              "      <td>1</td>\n",
              "      <td>128</td>\n",
              "      <td>1</td>\n",
              "      <td>0</td>\n",
              "      <td>0</td>\n",
              "      <td>0</td>\n",
              "      <td>0</td>\n",
              "      <td>0</td>\n",
              "      <td>0</td>\n",
              "      <td>0</td>\n",
              "      <td>0</td>\n",
              "      <td>0</td>\n",
              "      <td>0</td>\n",
              "      <td>0</td>\n",
              "      <td>0</td>\n",
              "      <td>0</td>\n",
              "      <td>0</td>\n",
              "      <td>0</td>\n",
              "      <td>0</td>\n",
              "      <td>0</td>\n",
              "      <td>0</td>\n",
              "      <td>0</td>\n",
              "      <td>0</td>\n",
              "      <td>0</td>\n",
              "      <td>0</td>\n",
              "      <td>0</td>\n",
              "      <td>0</td>\n",
              "      <td>0</td>\n",
              "      <td>0</td>\n",
              "      <td>0</td>\n",
              "      <td>0</td>\n",
              "      <td>0</td>\n",
              "      <td>0</td>\n",
              "      <td>0</td>\n",
              "      <td>0</td>\n",
              "      <td>0</td>\n",
              "      <td>0</td>\n",
              "      <td>0</td>\n",
              "      <td>0</td>\n",
              "      <td>0</td>\n",
              "      <td>0</td>\n",
              "      <td>0</td>\n",
              "      <td>0</td>\n",
              "      <td>0</td>\n",
              "      <td>0</td>\n",
              "      <td>0</td>\n",
              "      <td>0</td>\n",
              "      <td>0</td>\n",
              "      <td>0</td>\n",
              "      <td>0</td>\n",
              "      <td>0</td>\n",
              "      <td>0</td>\n",
              "      <td>0</td>\n",
              "      <td>0</td>\n",
              "    </tr>\n",
              "    <tr>\n",
              "      <th>1</th>\n",
              "      <td>2016</td>\n",
              "      <td>2</td>\n",
              "      <td>229</td>\n",
              "      <td>2</td>\n",
              "      <td>0</td>\n",
              "      <td>0</td>\n",
              "      <td>0</td>\n",
              "      <td>0</td>\n",
              "      <td>0</td>\n",
              "      <td>0</td>\n",
              "      <td>0</td>\n",
              "      <td>0</td>\n",
              "      <td>0</td>\n",
              "      <td>0</td>\n",
              "      <td>1</td>\n",
              "      <td>0</td>\n",
              "      <td>0</td>\n",
              "      <td>0</td>\n",
              "      <td>0</td>\n",
              "      <td>0</td>\n",
              "      <td>0</td>\n",
              "      <td>0</td>\n",
              "      <td>0</td>\n",
              "      <td>0</td>\n",
              "      <td>0</td>\n",
              "      <td>0</td>\n",
              "      <td>0</td>\n",
              "      <td>0</td>\n",
              "      <td>0</td>\n",
              "      <td>0</td>\n",
              "      <td>0</td>\n",
              "      <td>0</td>\n",
              "      <td>0</td>\n",
              "      <td>0</td>\n",
              "      <td>0</td>\n",
              "      <td>0</td>\n",
              "      <td>0</td>\n",
              "      <td>0</td>\n",
              "      <td>0</td>\n",
              "      <td>0</td>\n",
              "      <td>0</td>\n",
              "      <td>0</td>\n",
              "      <td>0</td>\n",
              "      <td>0</td>\n",
              "      <td>0</td>\n",
              "      <td>0</td>\n",
              "      <td>0</td>\n",
              "      <td>0</td>\n",
              "      <td>0</td>\n",
              "      <td>0</td>\n",
              "      <td>0</td>\n",
              "      <td>0</td>\n",
              "      <td>0</td>\n",
              "      <td>0</td>\n",
              "      <td>0</td>\n",
              "    </tr>\n",
              "    <tr>\n",
              "      <th>2</th>\n",
              "      <td>2016</td>\n",
              "      <td>3</td>\n",
              "      <td>197</td>\n",
              "      <td>3</td>\n",
              "      <td>0</td>\n",
              "      <td>0</td>\n",
              "      <td>0</td>\n",
              "      <td>0</td>\n",
              "      <td>0</td>\n",
              "      <td>0</td>\n",
              "      <td>0</td>\n",
              "      <td>0</td>\n",
              "      <td>0</td>\n",
              "      <td>0</td>\n",
              "      <td>0</td>\n",
              "      <td>0</td>\n",
              "      <td>0</td>\n",
              "      <td>0</td>\n",
              "      <td>0</td>\n",
              "      <td>0</td>\n",
              "      <td>0</td>\n",
              "      <td>0</td>\n",
              "      <td>0</td>\n",
              "      <td>0</td>\n",
              "      <td>0</td>\n",
              "      <td>1</td>\n",
              "      <td>0</td>\n",
              "      <td>0</td>\n",
              "      <td>0</td>\n",
              "      <td>0</td>\n",
              "      <td>0</td>\n",
              "      <td>0</td>\n",
              "      <td>0</td>\n",
              "      <td>0</td>\n",
              "      <td>0</td>\n",
              "      <td>0</td>\n",
              "      <td>0</td>\n",
              "      <td>0</td>\n",
              "      <td>0</td>\n",
              "      <td>0</td>\n",
              "      <td>0</td>\n",
              "      <td>0</td>\n",
              "      <td>0</td>\n",
              "      <td>0</td>\n",
              "      <td>0</td>\n",
              "      <td>0</td>\n",
              "      <td>0</td>\n",
              "      <td>0</td>\n",
              "      <td>0</td>\n",
              "      <td>0</td>\n",
              "      <td>0</td>\n",
              "      <td>0</td>\n",
              "      <td>0</td>\n",
              "      <td>0</td>\n",
              "      <td>0</td>\n",
              "    </tr>\n",
              "    <tr>\n",
              "      <th>3</th>\n",
              "      <td>2016</td>\n",
              "      <td>4</td>\n",
              "      <td>229</td>\n",
              "      <td>4</td>\n",
              "      <td>0</td>\n",
              "      <td>0</td>\n",
              "      <td>0</td>\n",
              "      <td>0</td>\n",
              "      <td>0</td>\n",
              "      <td>0</td>\n",
              "      <td>0</td>\n",
              "      <td>0</td>\n",
              "      <td>0</td>\n",
              "      <td>0</td>\n",
              "      <td>0</td>\n",
              "      <td>0</td>\n",
              "      <td>0</td>\n",
              "      <td>0</td>\n",
              "      <td>0</td>\n",
              "      <td>0</td>\n",
              "      <td>0</td>\n",
              "      <td>0</td>\n",
              "      <td>0</td>\n",
              "      <td>0</td>\n",
              "      <td>0</td>\n",
              "      <td>0</td>\n",
              "      <td>0</td>\n",
              "      <td>0</td>\n",
              "      <td>0</td>\n",
              "      <td>0</td>\n",
              "      <td>0</td>\n",
              "      <td>0</td>\n",
              "      <td>0</td>\n",
              "      <td>0</td>\n",
              "      <td>0</td>\n",
              "      <td>0</td>\n",
              "      <td>1</td>\n",
              "      <td>0</td>\n",
              "      <td>0</td>\n",
              "      <td>0</td>\n",
              "      <td>0</td>\n",
              "      <td>0</td>\n",
              "      <td>0</td>\n",
              "      <td>0</td>\n",
              "      <td>0</td>\n",
              "      <td>0</td>\n",
              "      <td>0</td>\n",
              "      <td>0</td>\n",
              "      <td>0</td>\n",
              "      <td>0</td>\n",
              "      <td>0</td>\n",
              "      <td>0</td>\n",
              "      <td>0</td>\n",
              "      <td>0</td>\n",
              "      <td>0</td>\n",
              "    </tr>\n",
              "    <tr>\n",
              "      <th>4</th>\n",
              "      <td>2016</td>\n",
              "      <td>5</td>\n",
              "      <td>401</td>\n",
              "      <td>5</td>\n",
              "      <td>0</td>\n",
              "      <td>0</td>\n",
              "      <td>0</td>\n",
              "      <td>0</td>\n",
              "      <td>0</td>\n",
              "      <td>0</td>\n",
              "      <td>0</td>\n",
              "      <td>0</td>\n",
              "      <td>0</td>\n",
              "      <td>0</td>\n",
              "      <td>0</td>\n",
              "      <td>0</td>\n",
              "      <td>0</td>\n",
              "      <td>0</td>\n",
              "      <td>0</td>\n",
              "      <td>0</td>\n",
              "      <td>0</td>\n",
              "      <td>0</td>\n",
              "      <td>0</td>\n",
              "      <td>0</td>\n",
              "      <td>0</td>\n",
              "      <td>0</td>\n",
              "      <td>0</td>\n",
              "      <td>0</td>\n",
              "      <td>0</td>\n",
              "      <td>0</td>\n",
              "      <td>0</td>\n",
              "      <td>0</td>\n",
              "      <td>0</td>\n",
              "      <td>0</td>\n",
              "      <td>0</td>\n",
              "      <td>0</td>\n",
              "      <td>0</td>\n",
              "      <td>0</td>\n",
              "      <td>0</td>\n",
              "      <td>0</td>\n",
              "      <td>0</td>\n",
              "      <td>0</td>\n",
              "      <td>0</td>\n",
              "      <td>0</td>\n",
              "      <td>0</td>\n",
              "      <td>0</td>\n",
              "      <td>0</td>\n",
              "      <td>1</td>\n",
              "      <td>0</td>\n",
              "      <td>0</td>\n",
              "      <td>0</td>\n",
              "      <td>0</td>\n",
              "      <td>0</td>\n",
              "      <td>0</td>\n",
              "      <td>0</td>\n",
              "    </tr>\n",
              "  </tbody>\n",
              "</table>\n",
              "</div>"
            ],
            "text/plain": [
              "   year  New_week  bookingID week_x  ...  week_x_6  week_x_7  week_x_8  week_x_9\n",
              "0  2016         1        128      1  ...         0         0         0         0\n",
              "1  2016         2        229      2  ...         0         0         0         0\n",
              "2  2016         3        197      3  ...         0         0         0         0\n",
              "3  2016         4        229      4  ...         0         0         0         0\n",
              "4  2016         5        401      5  ...         0         0         0         0\n",
              "\n",
              "[5 rows x 55 columns]"
            ]
          },
          "metadata": {
            "tags": []
          },
          "execution_count": 122
        }
      ]
    },
    {
      "cell_type": "markdown",
      "metadata": {
        "id": "fKR82TPlitv1",
        "colab_type": "text"
      },
      "source": [
        ""
      ]
    },
    {
      "cell_type": "code",
      "metadata": {
        "id": "oJSszu3jkYX0",
        "colab_type": "code",
        "colab": {
          "base_uri": "https://localhost:8080/",
          "height": 244
        },
        "outputId": "604ef235-692e-446c-90f7-15b6d5c04445"
      },
      "source": [
        "X_train = df_train[ (df_train.year < 2018)]\n",
        "y_train = df_train[ (df_train.year < 2018)]\n",
        "\n",
        "X_test = df_train[ (df_train.year >= 2018)]\n",
        "y_test = df_train[ (df_train.year >=2018)]\n",
        "X_test.head()"
      ],
      "execution_count": 127,
      "outputs": [
        {
          "output_type": "execute_result",
          "data": {
            "text/html": [
              "<div>\n",
              "<style scoped>\n",
              "    .dataframe tbody tr th:only-of-type {\n",
              "        vertical-align: middle;\n",
              "    }\n",
              "\n",
              "    .dataframe tbody tr th {\n",
              "        vertical-align: top;\n",
              "    }\n",
              "\n",
              "    .dataframe thead th {\n",
              "        text-align: right;\n",
              "    }\n",
              "</style>\n",
              "<table border=\"1\" class=\"dataframe\">\n",
              "  <thead>\n",
              "    <tr style=\"text-align: right;\">\n",
              "      <th></th>\n",
              "      <th>year</th>\n",
              "      <th>New_week</th>\n",
              "      <th>bookingID</th>\n",
              "      <th>week_x</th>\n",
              "      <th>week_x_10</th>\n",
              "      <th>week_x_11</th>\n",
              "      <th>week_x_12</th>\n",
              "      <th>week_x_13</th>\n",
              "      <th>week_x_14</th>\n",
              "      <th>week_x_15</th>\n",
              "      <th>week_x_16</th>\n",
              "      <th>week_x_17</th>\n",
              "      <th>week_x_18</th>\n",
              "      <th>week_x_19</th>\n",
              "      <th>week_x_2</th>\n",
              "      <th>week_x_20</th>\n",
              "      <th>week_x_21</th>\n",
              "      <th>week_x_22</th>\n",
              "      <th>week_x_23</th>\n",
              "      <th>week_x_24</th>\n",
              "      <th>week_x_25</th>\n",
              "      <th>week_x_26</th>\n",
              "      <th>week_x_27</th>\n",
              "      <th>week_x_28</th>\n",
              "      <th>week_x_29</th>\n",
              "      <th>week_x_3</th>\n",
              "      <th>week_x_30</th>\n",
              "      <th>week_x_31</th>\n",
              "      <th>week_x_32</th>\n",
              "      <th>week_x_33</th>\n",
              "      <th>week_x_34</th>\n",
              "      <th>week_x_35</th>\n",
              "      <th>week_x_36</th>\n",
              "      <th>week_x_37</th>\n",
              "      <th>week_x_38</th>\n",
              "      <th>week_x_39</th>\n",
              "      <th>week_x_4</th>\n",
              "      <th>week_x_40</th>\n",
              "      <th>week_x_41</th>\n",
              "      <th>week_x_42</th>\n",
              "      <th>week_x_43</th>\n",
              "      <th>week_x_44</th>\n",
              "      <th>week_x_45</th>\n",
              "      <th>week_x_46</th>\n",
              "      <th>week_x_47</th>\n",
              "      <th>week_x_48</th>\n",
              "      <th>week_x_49</th>\n",
              "      <th>week_x_5</th>\n",
              "      <th>week_x_50</th>\n",
              "      <th>week_x_51</th>\n",
              "      <th>week_x_52</th>\n",
              "      <th>week_x_6</th>\n",
              "      <th>week_x_7</th>\n",
              "      <th>week_x_8</th>\n",
              "      <th>week_x_9</th>\n",
              "    </tr>\n",
              "  </thead>\n",
              "  <tbody>\n",
              "    <tr>\n",
              "      <th>104</th>\n",
              "      <td>2018</td>\n",
              "      <td>1</td>\n",
              "      <td>64</td>\n",
              "      <td>1</td>\n",
              "      <td>0</td>\n",
              "      <td>0</td>\n",
              "      <td>0</td>\n",
              "      <td>0</td>\n",
              "      <td>0</td>\n",
              "      <td>0</td>\n",
              "      <td>0</td>\n",
              "      <td>0</td>\n",
              "      <td>0</td>\n",
              "      <td>0</td>\n",
              "      <td>0</td>\n",
              "      <td>0</td>\n",
              "      <td>0</td>\n",
              "      <td>0</td>\n",
              "      <td>0</td>\n",
              "      <td>0</td>\n",
              "      <td>0</td>\n",
              "      <td>0</td>\n",
              "      <td>0</td>\n",
              "      <td>0</td>\n",
              "      <td>0</td>\n",
              "      <td>0</td>\n",
              "      <td>0</td>\n",
              "      <td>0</td>\n",
              "      <td>0</td>\n",
              "      <td>0</td>\n",
              "      <td>0</td>\n",
              "      <td>0</td>\n",
              "      <td>0</td>\n",
              "      <td>0</td>\n",
              "      <td>0</td>\n",
              "      <td>0</td>\n",
              "      <td>0</td>\n",
              "      <td>0</td>\n",
              "      <td>0</td>\n",
              "      <td>0</td>\n",
              "      <td>0</td>\n",
              "      <td>0</td>\n",
              "      <td>0</td>\n",
              "      <td>0</td>\n",
              "      <td>0</td>\n",
              "      <td>0</td>\n",
              "      <td>0</td>\n",
              "      <td>0</td>\n",
              "      <td>0</td>\n",
              "      <td>0</td>\n",
              "      <td>0</td>\n",
              "      <td>0</td>\n",
              "      <td>0</td>\n",
              "      <td>0</td>\n",
              "      <td>0</td>\n",
              "    </tr>\n",
              "    <tr>\n",
              "      <th>105</th>\n",
              "      <td>2018</td>\n",
              "      <td>2</td>\n",
              "      <td>442</td>\n",
              "      <td>2</td>\n",
              "      <td>0</td>\n",
              "      <td>0</td>\n",
              "      <td>0</td>\n",
              "      <td>0</td>\n",
              "      <td>0</td>\n",
              "      <td>0</td>\n",
              "      <td>0</td>\n",
              "      <td>0</td>\n",
              "      <td>0</td>\n",
              "      <td>0</td>\n",
              "      <td>1</td>\n",
              "      <td>0</td>\n",
              "      <td>0</td>\n",
              "      <td>0</td>\n",
              "      <td>0</td>\n",
              "      <td>0</td>\n",
              "      <td>0</td>\n",
              "      <td>0</td>\n",
              "      <td>0</td>\n",
              "      <td>0</td>\n",
              "      <td>0</td>\n",
              "      <td>0</td>\n",
              "      <td>0</td>\n",
              "      <td>0</td>\n",
              "      <td>0</td>\n",
              "      <td>0</td>\n",
              "      <td>0</td>\n",
              "      <td>0</td>\n",
              "      <td>0</td>\n",
              "      <td>0</td>\n",
              "      <td>0</td>\n",
              "      <td>0</td>\n",
              "      <td>0</td>\n",
              "      <td>0</td>\n",
              "      <td>0</td>\n",
              "      <td>0</td>\n",
              "      <td>0</td>\n",
              "      <td>0</td>\n",
              "      <td>0</td>\n",
              "      <td>0</td>\n",
              "      <td>0</td>\n",
              "      <td>0</td>\n",
              "      <td>0</td>\n",
              "      <td>0</td>\n",
              "      <td>0</td>\n",
              "      <td>0</td>\n",
              "      <td>0</td>\n",
              "      <td>0</td>\n",
              "      <td>0</td>\n",
              "      <td>0</td>\n",
              "      <td>0</td>\n",
              "    </tr>\n",
              "    <tr>\n",
              "      <th>106</th>\n",
              "      <td>2018</td>\n",
              "      <td>3</td>\n",
              "      <td>287</td>\n",
              "      <td>3</td>\n",
              "      <td>0</td>\n",
              "      <td>0</td>\n",
              "      <td>0</td>\n",
              "      <td>0</td>\n",
              "      <td>0</td>\n",
              "      <td>0</td>\n",
              "      <td>0</td>\n",
              "      <td>0</td>\n",
              "      <td>0</td>\n",
              "      <td>0</td>\n",
              "      <td>0</td>\n",
              "      <td>0</td>\n",
              "      <td>0</td>\n",
              "      <td>0</td>\n",
              "      <td>0</td>\n",
              "      <td>0</td>\n",
              "      <td>0</td>\n",
              "      <td>0</td>\n",
              "      <td>0</td>\n",
              "      <td>0</td>\n",
              "      <td>0</td>\n",
              "      <td>1</td>\n",
              "      <td>0</td>\n",
              "      <td>0</td>\n",
              "      <td>0</td>\n",
              "      <td>0</td>\n",
              "      <td>0</td>\n",
              "      <td>0</td>\n",
              "      <td>0</td>\n",
              "      <td>0</td>\n",
              "      <td>0</td>\n",
              "      <td>0</td>\n",
              "      <td>0</td>\n",
              "      <td>0</td>\n",
              "      <td>0</td>\n",
              "      <td>0</td>\n",
              "      <td>0</td>\n",
              "      <td>0</td>\n",
              "      <td>0</td>\n",
              "      <td>0</td>\n",
              "      <td>0</td>\n",
              "      <td>0</td>\n",
              "      <td>0</td>\n",
              "      <td>0</td>\n",
              "      <td>0</td>\n",
              "      <td>0</td>\n",
              "      <td>0</td>\n",
              "      <td>0</td>\n",
              "      <td>0</td>\n",
              "      <td>0</td>\n",
              "      <td>0</td>\n",
              "    </tr>\n",
              "    <tr>\n",
              "      <th>107</th>\n",
              "      <td>2018</td>\n",
              "      <td>4</td>\n",
              "      <td>278</td>\n",
              "      <td>4</td>\n",
              "      <td>0</td>\n",
              "      <td>0</td>\n",
              "      <td>0</td>\n",
              "      <td>0</td>\n",
              "      <td>0</td>\n",
              "      <td>0</td>\n",
              "      <td>0</td>\n",
              "      <td>0</td>\n",
              "      <td>0</td>\n",
              "      <td>0</td>\n",
              "      <td>0</td>\n",
              "      <td>0</td>\n",
              "      <td>0</td>\n",
              "      <td>0</td>\n",
              "      <td>0</td>\n",
              "      <td>0</td>\n",
              "      <td>0</td>\n",
              "      <td>0</td>\n",
              "      <td>0</td>\n",
              "      <td>0</td>\n",
              "      <td>0</td>\n",
              "      <td>0</td>\n",
              "      <td>0</td>\n",
              "      <td>0</td>\n",
              "      <td>0</td>\n",
              "      <td>0</td>\n",
              "      <td>0</td>\n",
              "      <td>0</td>\n",
              "      <td>0</td>\n",
              "      <td>0</td>\n",
              "      <td>0</td>\n",
              "      <td>0</td>\n",
              "      <td>1</td>\n",
              "      <td>0</td>\n",
              "      <td>0</td>\n",
              "      <td>0</td>\n",
              "      <td>0</td>\n",
              "      <td>0</td>\n",
              "      <td>0</td>\n",
              "      <td>0</td>\n",
              "      <td>0</td>\n",
              "      <td>0</td>\n",
              "      <td>0</td>\n",
              "      <td>0</td>\n",
              "      <td>0</td>\n",
              "      <td>0</td>\n",
              "      <td>0</td>\n",
              "      <td>0</td>\n",
              "      <td>0</td>\n",
              "      <td>0</td>\n",
              "      <td>0</td>\n",
              "    </tr>\n",
              "    <tr>\n",
              "      <th>108</th>\n",
              "      <td>2018</td>\n",
              "      <td>5</td>\n",
              "      <td>532</td>\n",
              "      <td>5</td>\n",
              "      <td>0</td>\n",
              "      <td>0</td>\n",
              "      <td>0</td>\n",
              "      <td>0</td>\n",
              "      <td>0</td>\n",
              "      <td>0</td>\n",
              "      <td>0</td>\n",
              "      <td>0</td>\n",
              "      <td>0</td>\n",
              "      <td>0</td>\n",
              "      <td>0</td>\n",
              "      <td>0</td>\n",
              "      <td>0</td>\n",
              "      <td>0</td>\n",
              "      <td>0</td>\n",
              "      <td>0</td>\n",
              "      <td>0</td>\n",
              "      <td>0</td>\n",
              "      <td>0</td>\n",
              "      <td>0</td>\n",
              "      <td>0</td>\n",
              "      <td>0</td>\n",
              "      <td>0</td>\n",
              "      <td>0</td>\n",
              "      <td>0</td>\n",
              "      <td>0</td>\n",
              "      <td>0</td>\n",
              "      <td>0</td>\n",
              "      <td>0</td>\n",
              "      <td>0</td>\n",
              "      <td>0</td>\n",
              "      <td>0</td>\n",
              "      <td>0</td>\n",
              "      <td>0</td>\n",
              "      <td>0</td>\n",
              "      <td>0</td>\n",
              "      <td>0</td>\n",
              "      <td>0</td>\n",
              "      <td>0</td>\n",
              "      <td>0</td>\n",
              "      <td>0</td>\n",
              "      <td>0</td>\n",
              "      <td>0</td>\n",
              "      <td>1</td>\n",
              "      <td>0</td>\n",
              "      <td>0</td>\n",
              "      <td>0</td>\n",
              "      <td>0</td>\n",
              "      <td>0</td>\n",
              "      <td>0</td>\n",
              "      <td>0</td>\n",
              "    </tr>\n",
              "  </tbody>\n",
              "</table>\n",
              "</div>"
            ],
            "text/plain": [
              "     year  New_week  bookingID week_x  ...  week_x_6  week_x_7  week_x_8  week_x_9\n",
              "104  2018         1         64      1  ...         0         0         0         0\n",
              "105  2018         2        442      2  ...         0         0         0         0\n",
              "106  2018         3        287      3  ...         0         0         0         0\n",
              "107  2018         4        278      4  ...         0         0         0         0\n",
              "108  2018         5        532      5  ...         0         0         0         0\n",
              "\n",
              "[5 rows x 55 columns]"
            ]
          },
          "metadata": {
            "tags": []
          },
          "execution_count": 127
        }
      ]
    },
    {
      "cell_type": "code",
      "metadata": {
        "id": "5Z_8hHpBmKi2",
        "colab_type": "code",
        "colab": {}
      },
      "source": [
        "X_train=X_train.drop(['bookingID','year','New_week','week_x'],axis=1)\n",
        "keep=['bookingID']\n",
        "y_train=y_train[keep]\n",
        "\n",
        "X_test=X_test.drop(['bookingID','year','New_week','week_x'],axis=1)\n",
        "keep=['bookingID']\n",
        "y_test=y_test[keep]"
      ],
      "execution_count": 0,
      "outputs": []
    },
    {
      "cell_type": "code",
      "metadata": {
        "id": "tmAyl6TeRJ9G",
        "colab_type": "code",
        "colab": {
          "base_uri": "https://localhost:8080/",
          "height": 292
        },
        "outputId": "0e945ccc-b4a8-4a33-a2b4-79067df01b21"
      },
      "source": [
        "plt.plot(y_train.index, y_train.bookingID.values, label=\"train\")\n",
        "plt.plot(y_test.index, y_test.bookingID.values, label=\"test\")\n",
        "plt.title(\"Train/Test split\")\n",
        "plt.xticks(rotation=45)\n",
        "plt.show()"
      ],
      "execution_count": 130,
      "outputs": [
        {
          "output_type": "display_data",
          "data": {
            "image/png": "[encoded data removed]",
            "text/plain": [
              "<Figure size 432x288 with 1 Axes>"
            ]
          },
          "metadata": {
            "tags": [],
            "needs_background": "light"
          }
        }
      ]
    },
    {
      "cell_type": "code",
      "metadata": {
        "id": "-nsG0bY9RJ9I",
        "colab_type": "code",
        "colab": {}
      },
      "source": [
        "from sklearn.linear_model import LinearRegression\n",
        "from sklearn.metrics import mean_squared_error\n",
        "reg = LinearRegression().fit(X_train, y_train)\n",
        "p_train = reg.predict(X_train)\n",
        "p_test = reg.predict(X_test)"
      ],
      "execution_count": 0,
      "outputs": []
    },
    {
      "cell_type": "code",
      "metadata": {
        "id": "ZBOaxfWxRJ9I",
        "colab_type": "code",
        "colab": {}
      },
      "source": [
        "RMSE_train = np.sqrt(mean_squared_error(y_train, p_train))\n",
        "RMSE_test = np.sqrt(mean_squared_error(y_test, p_test))"
      ],
      "execution_count": 0,
      "outputs": []
    },
    {
      "cell_type": "code",
      "metadata": {
        "id": "Xblo6zhGRJ9J",
        "colab_type": "code",
        "colab": {
          "base_uri": "https://localhost:8080/",
          "height": 34
        },
        "outputId": "2902dd1e-3533-4af3-c6e3-c1326b10176a"
      },
      "source": [
        "RMSE_train"
      ],
      "execution_count": 133,
      "outputs": [
        {
          "output_type": "execute_result",
          "data": {
            "text/plain": [
              "160.2612350555756"
            ]
          },
          "metadata": {
            "tags": []
          },
          "execution_count": 133
        }
      ]
    },
    {
      "cell_type": "code",
      "metadata": {
        "id": "k-dMEDY4RJ9J",
        "colab_type": "code",
        "colab": {
          "base_uri": "https://localhost:8080/",
          "height": 34
        },
        "outputId": "d6c7eb73-95ec-48c9-aa09-35980d746491"
      },
      "source": [
        "RMSE_test"
      ],
      "execution_count": 134,
      "outputs": [
        {
          "output_type": "execute_result",
          "data": {
            "text/plain": [
              "197.74806718884307"
            ]
          },
          "metadata": {
            "tags": []
          },
          "execution_count": 134
        }
      ]
    },
    {
      "cell_type": "code",
      "metadata": {
        "id": "vjfs93SZRJ9K",
        "colab_type": "code",
        "colab": {}
      },
      "source": [
        "X_test['p_test']=p_test\n",
        "X_test['y_test']=y_test"
      ],
      "execution_count": 0,
      "outputs": []
    },
    {
      "cell_type": "code",
      "metadata": {
        "id": "D4mzHRPGRJ9L",
        "colab_type": "code",
        "colab": {}
      },
      "source": [
        "X_test['e'] =X_test['y_test'] - X_test['p_test']\n",
        "\n",
        "rmse = np.sqrt(np.mean(X_test['e']**2)).round(2)\n",
        "mape = np.round(np.mean(np.abs(100*X_test['e']/X_test['y_test'])), 0)\n"
      ],
      "execution_count": 0,
      "outputs": []
    },
    {
      "cell_type": "code",
      "metadata": {
        "id": "EOAJBUKlnuR4",
        "colab_type": "code",
        "colab": {
          "base_uri": "https://localhost:8080/",
          "height": 51
        },
        "outputId": "116fb47a-9ed4-4466-b393-23630920ffdb"
      },
      "source": [
        "print('RMSE = $', rmse)\n",
        "print('MAPE =', mape, '%')"
      ],
      "execution_count": 137,
      "outputs": [
        {
          "output_type": "stream",
          "text": [
            "RMSE = $ 197.75\n",
            "MAPE = 12.0 %\n"
          ],
          "name": "stdout"
        }
      ]
    },
    {
      "cell_type": "code",
      "metadata": {
        "id": "pmQR84H-n67F",
        "colab_type": "code",
        "colab": {
          "base_uri": "https://localhost:8080/",
          "height": 281
        },
        "outputId": "a800602d-a2c1-4997-a44f-e613b864267c"
      },
      "source": [
        "X_test[[\"y_test\", \"p_test\"]].plot()\n",
        "\n",
        "plt.title(\"1-period ahead Forecasting\")\n",
        "plt.ylabel(\"(MWh)\")\n",
        "plt.legend()\n",
        "plt.show()"
      ],
      "execution_count": 138,
      "outputs": [
        {
          "output_type": "display_data",
          "data": {
            "image/png": "[encoded data removed]",
            "text/plain": [
              "<Figure size 432x288 with 1 Axes>"
            ]
          },
          "metadata": {
            "tags": [],
            "needs_background": "light"
          }
        }
      ]
    },
    {
      "cell_type": "code",
      "metadata": {
        "id": "nRz1RWnwRJ9L",
        "colab_type": "code",
        "colab": {}
      },
      "source": [
        "import matplotlib.pyplot as plt"
      ],
      "execution_count": 0,
      "outputs": []
    },
    {
      "cell_type": "code",
      "metadata": {
        "id": "7TV_zAX-RJ9M",
        "colab_type": "code",
        "colab": {}
      },
      "source": [
        "X_test[[\"y_test\"]].plot()\n",
        "\n",
        "plt.title(\"1-period ahead Forecasting\")\n",
        "plt.ylabel(\"(MWh)\")\n",
        "plt.legend()\n",
        "plt.show()"
      ],
      "execution_count": 0,
      "outputs": []
    },
    {
      "cell_type": "code",
      "metadata": {
        "id": "eU0WBUUFRJ9M",
        "colab_type": "code",
        "colab": {}
      },
      "source": [
        "import matplotlib.pyplot as plt\n",
        "sns.boxplot(data=cleanduplicates, x=\"day\", y=\"bookingID\")\n",
        "plt.title(\"Seasonality analysis: Distribution over weekdays\")\n",
        "plt.ylabel(\"(Qtd Booking)\")\n",
        "plt.show()"
      ],
      "execution_count": 0,
      "outputs": []
    },
    {
      "cell_type": "code",
      "metadata": {
        "id": "HpGJtbRHRJ9N",
        "colab_type": "code",
        "colab": {}
      },
      "source": [
        "sns.boxplot(data=cleanduplicates, x=\"month\", y=\"bookingID\")\n",
        "plt.title(\"Seasonality analysis: Distribution over weekdays\")\n",
        "plt.ylabel(\"(Qtd Booking)\")\n",
        "plt.show()"
      ],
      "execution_count": 0,
      "outputs": []
    },
    {
      "cell_type": "code",
      "metadata": {
        "id": "kjF-WDw-RJ9N",
        "colab_type": "code",
        "colab": {}
      },
      "source": [
        "manifesto.groupby(['week'])['week'].count()"
      ],
      "execution_count": 0,
      "outputs": []
    },
    {
      "cell_type": "code",
      "metadata": {
        "id": "xbIotga-RJ9O",
        "colab_type": "code",
        "colab": {}
      },
      "source": [
        "manifesto.groupby(['month'])['month'].count()"
      ],
      "execution_count": 0,
      "outputs": []
    },
    {
      "cell_type": "code",
      "metadata": {
        "id": "-b89N1wNRJ9O",
        "colab_type": "code",
        "colab": {}
      },
      "source": [
        "dummies=['month_x','day_x']\n",
        "dummies=pd.get_dummies(cleanduplicates[dummies], drop_first=True)\n",
        "dummies.shape\n",
        "dummies.head()"
      ],
      "execution_count": 0,
      "outputs": []
    },
    {
      "cell_type": "code",
      "metadata": {
        "id": "WPWuDLJcRJ9P",
        "colab_type": "code",
        "colab": {}
      },
      "source": [
        "cleanduplicates_copia=cleanduplicates.copy()"
      ],
      "execution_count": 0,
      "outputs": []
    },
    {
      "cell_type": "code",
      "metadata": {
        "id": "rVKTRkhaRJ9P",
        "colab_type": "code",
        "colab": {}
      },
      "source": [
        "cleanduplicates.head(1)"
      ],
      "execution_count": 0,
      "outputs": []
    },
    {
      "cell_type": "code",
      "metadata": {
        "id": "ogAMVyYrRJ9Q",
        "colab_type": "code",
        "colab": {}
      },
      "source": [
        "cleanduplicates=cleanduplicates.drop(['month_x','day_x','week','day','month'],axis=1)\n",
        "df=pd.concat([cleanduplicates, dummies],axis=1)\n",
        "df.head()"
      ],
      "execution_count": 0,
      "outputs": []
    },
    {
      "cell_type": "code",
      "metadata": {
        "id": "pcA-qZHvRJ9R",
        "colab_type": "code",
        "colab": {}
      },
      "source": [
        "df=pd.concat([cleanduplicates, dummies],axis=1)\n",
        "df.head()"
      ],
      "execution_count": 0,
      "outputs": []
    },
    {
      "cell_type": "code",
      "metadata": {
        "id": "Plrnq_QoRJ9R",
        "colab_type": "code",
        "colab": {}
      },
      "source": [
        ""
      ],
      "execution_count": 0,
      "outputs": []
    },
    {
      "cell_type": "code",
      "metadata": {
        "id": "UoSZoE-aRJ9S",
        "colab_type": "code",
        "colab": {}
      },
      "source": [
        ""
      ],
      "execution_count": 0,
      "outputs": []
    },
    {
      "cell_type": "code",
      "metadata": {
        "id": "e4-Y7qFaRJ9S",
        "colab_type": "code",
        "colab": {}
      },
      "source": [
        ""
      ],
      "execution_count": 0,
      "outputs": []
    },
    {
      "cell_type": "code",
      "metadata": {
        "id": "WqybF-1BRJ9T",
        "colab_type": "code",
        "colab": {}
      },
      "source": [
        ""
      ],
      "execution_count": 0,
      "outputs": []
    },
    {
      "cell_type": "code",
      "metadata": {
        "id": "fMydsAfLRJ9T",
        "colab_type": "code",
        "colab": {}
      },
      "source": [
        ""
      ],
      "execution_count": 0,
      "outputs": []
    },
    {
      "cell_type": "markdown",
      "metadata": {
        "id": "sY-3FPhnRJ9U",
        "colab_type": "text"
      },
      "source": [
        "### Data Understanding "
      ]
    },
    {
      "cell_type": "markdown",
      "metadata": {
        "id": "8PaFLyjlRJ9U",
        "colab_type": "text"
      },
      "source": [
        "### Data Preprocessing "
      ]
    },
    {
      "cell_type": "markdown",
      "metadata": {
        "id": "QXmdz2XiRJ9U",
        "colab_type": "text"
      },
      "source": [
        "### Data Exploration "
      ]
    },
    {
      "cell_type": "markdown",
      "metadata": {
        "id": "DV7mKzE0RJ9U",
        "colab_type": "text"
      },
      "source": [
        "#### Adults per bookings"
      ]
    },
    {
      "cell_type": "markdown",
      "metadata": {
        "id": "lmtaRnbXRJ9U",
        "colab_type": "text"
      },
      "source": [
        "<img src=\"adultsm.JPG\" alt=\"xxx\" style=\"width: 600px;\"/>"
      ]
    },
    {
      "cell_type": "markdown",
      "metadata": {
        "id": "BdUiMXk8RJ9U",
        "colab_type": "text"
      },
      "source": [
        "#### Children per bookings"
      ]
    },
    {
      "cell_type": "markdown",
      "metadata": {
        "id": "rRhcngPQRJ9U",
        "colab_type": "text"
      },
      "source": [
        "<img src=\"childrenm.JPG\" alt=\"xxx\" style=\"width: 600px;\"/>"
      ]
    },
    {
      "cell_type": "markdown",
      "metadata": {
        "id": "Sw2DdlGVRJ9V",
        "colab_type": "text"
      },
      "source": [
        "#### Babies per bookings"
      ]
    },
    {
      "cell_type": "markdown",
      "metadata": {
        "id": "JxBJnmkTRJ9V",
        "colab_type": "text"
      },
      "source": [
        "<img src=\"babiesm.JPG\" alt=\"xxx\" style=\"width: 600px;\"/>"
      ]
    },
    {
      "cell_type": "markdown",
      "metadata": {
        "id": "8_xrPtfARJ9V",
        "colab_type": "text"
      },
      "source": [
        "#### Pickup Local per bookings"
      ]
    },
    {
      "cell_type": "markdown",
      "metadata": {
        "id": "nNM50LsRRJ9V",
        "colab_type": "text"
      },
      "source": [
        "<img src=\"pickuplocalm.JPG\" alt=\"xxx\" style=\"width: 600px;\"/>"
      ]
    },
    {
      "cell_type": "markdown",
      "metadata": {
        "id": "NryL-O7aRJ9V",
        "colab_type": "text"
      },
      "source": [
        "#### Dropoff Local per bookings"
      ]
    },
    {
      "cell_type": "markdown",
      "metadata": {
        "id": "kWieZ1WfRJ9V",
        "colab_type": "text"
      },
      "source": [
        "<img src=\"dropofflocalm.JPG\" alt=\"xxx\" style=\"width: 600px;\"/>"
      ]
    },
    {
      "cell_type": "markdown",
      "metadata": {
        "id": "5AK_j3nnRJ9V",
        "colab_type": "text"
      },
      "source": [
        "#### Flight number per bookings"
      ]
    },
    {
      "cell_type": "markdown",
      "metadata": {
        "id": "AUwRjHjxRJ9V",
        "colab_type": "text"
      },
      "source": [
        "<img src=\"flightnm.JPG\" alt=\"xxx\" style=\"width: 600px;\"/>"
      ]
    },
    {
      "cell_type": "markdown",
      "metadata": {
        "id": "bo8JJEUBRJ9V",
        "colab_type": "text"
      },
      "source": [
        "#### Payment Type per bookings"
      ]
    },
    {
      "cell_type": "markdown",
      "metadata": {
        "id": "EsBMp1RJRJ9W",
        "colab_type": "text"
      },
      "source": [
        "<img src=\"paymentTypem.JPG\" alt=\"xxx\" style=\"width: 600px;\"/>"
      ]
    },
    {
      "cell_type": "markdown",
      "metadata": {
        "id": "RzWmPpZXRJ9W",
        "colab_type": "text"
      },
      "source": [
        "#### Type of Service per bookings"
      ]
    },
    {
      "cell_type": "markdown",
      "metadata": {
        "id": "vhfhfXmjRJ9W",
        "colab_type": "text"
      },
      "source": [
        "<img src=\"typeOfServicem.JPG\" alt=\"xxx\" style=\"width: 600px;\"/>"
      ]
    },
    {
      "cell_type": "markdown",
      "metadata": {
        "id": "vW2jpd3MRJ9W",
        "colab_type": "text"
      },
      "source": [
        "#### Type of transfer per bookings"
      ]
    },
    {
      "cell_type": "markdown",
      "metadata": {
        "id": "OlY5nqGRRJ9W",
        "colab_type": "text"
      },
      "source": [
        "<img src=\"typeOfTrasnferm.JPG\" alt=\"xxx\" style=\"width: 600px;\"/>"
      ]
    },
    {
      "cell_type": "markdown",
      "metadata": {
        "id": "wOoCL4JURJ9W",
        "colab_type": "text"
      },
      "source": [
        "#### Service Status per bookings"
      ]
    },
    {
      "cell_type": "markdown",
      "metadata": {
        "id": "VRZAhwMWRJ9W",
        "colab_type": "text"
      },
      "source": [
        "<img src=\"serviceStatusm.JPG\" alt=\"xxx\" style=\"width: 600px;\"/>"
      ]
    },
    {
      "cell_type": "markdown",
      "metadata": {
        "id": "eXZkStksRJ9W",
        "colab_type": "text"
      },
      "source": [
        "#### Booking Status per bookings"
      ]
    },
    {
      "cell_type": "markdown",
      "metadata": {
        "id": "lKslNcOeRJ9W",
        "colab_type": "text"
      },
      "source": [
        "<img src=\"bookingStatusm.JPG\" alt=\"xxx\" style=\"width: 600px;\"/>"
      ]
    }
  ]
}